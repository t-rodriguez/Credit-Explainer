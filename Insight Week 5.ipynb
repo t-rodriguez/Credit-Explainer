{
 "cells": [
  {
   "cell_type": "code",
   "execution_count": 249,
   "metadata": {
    "collapsed": true
   },
   "outputs": [],
   "source": [
    "import pandas as pd\n",
    "import sklearn as sk\n",
    "import numpy as np\n",
    "import random\n",
    "%matplotlib inline\n",
    "\n",
    "import matplotlib.pyplot as plt\n",
    "from sklearn.datasets import make_classification\n",
    "from sklearn.metrics import classification_report\n",
    "from sklearn.linear_model import LogisticRegression\n",
    "from sklearn.ensemble import RandomForestClassifier\n",
    "\n",
    "import itertools\n",
    "from sklearn import svm, datasets\n",
    "from sklearn.model_selection import train_test_split\n",
    "from sklearn.metrics import confusion_matrix\n",
    "from sklearn.metrics import roc_curve, auc\n",
    "from sklearn.metrics import accuracy_score\n"
   ]
  },
  {
   "cell_type": "markdown",
   "metadata": {},
   "source": [
    "# Read data file into pandas"
   ]
  },
  {
   "cell_type": "code",
   "execution_count": 3,
   "metadata": {
    "collapsed": true
   },
   "outputs": [],
   "source": [
    "filename = \"cs-training.csv\"\n",
    "data = pd.read_csv(filename)"
   ]
  },
  {
   "cell_type": "markdown",
   "metadata": {},
   "source": [
    "# The dataset is large; simply remove rows with NA, irregularities, outliers:"
   ]
  },
  {
   "cell_type": "code",
   "execution_count": 4,
   "metadata": {
    "collapsed": true
   },
   "outputs": [],
   "source": [
    "data = data.dropna(axis=0)"
   ]
  },
  {
   "cell_type": "code",
   "execution_count": 5,
   "metadata": {
    "collapsed": true
   },
   "outputs": [],
   "source": [
    "#Drop the unnecessary and unlabaled index column\n",
    "data = data.drop(labels=[\"Unnamed: 0\"], axis=1)"
   ]
  },
  {
   "cell_type": "code",
   "execution_count": 6,
   "metadata": {
    "collapsed": true
   },
   "outputs": [],
   "source": [
    "#There are a number of rows where the values in the MonthlyIncome column is either 0 or 1, while the accompanying \n",
    "#DebtRatio values are very large numbers (actually they appear to be the mislabeled Monthly Incomes). Since we \n",
    "#are uncertain and have sufficient data to do so, just drop these rows.\n",
    "data = data.drop(data[data.MonthlyIncome <= 1].index)"
   ]
  },
  {
   "cell_type": "code",
   "execution_count": 7,
   "metadata": {
    "collapsed": true
   },
   "outputs": [],
   "source": [
    "#While it may be possible through a technical fluke to have this value be quite high, only severe outliers \n",
    "#have it greater than 3 \n",
    "data = data.drop(data[data.RevolvingUtilizationOfUnsecuredLines > 3].index)"
   ]
  },
  {
   "cell_type": "code",
   "execution_count": 8,
   "metadata": {
    "collapsed": true
   },
   "outputs": [],
   "source": [
    "#21 is the lowest age, so remove rows with lower ages\n",
    "data = data.drop(data[data.age < 21].index)"
   ]
  },
  {
   "cell_type": "code",
   "execution_count": 9,
   "metadata": {
    "collapsed": true
   },
   "outputs": [],
   "source": [
    "#Remove rows with NumberOfNDaysLate == 96 or 98; must be a code\n",
    "data = data.drop(data[data.NumberOfTimes90DaysLate > 90].index)"
   ]
  },
  {
   "cell_type": "code",
   "execution_count": 10,
   "metadata": {},
   "outputs": [
    {
     "data": {
      "text/plain": [
       "0"
      ]
     },
     "execution_count": 10,
     "metadata": {},
     "output_type": "execute_result"
    }
   ],
   "source": [
    "#Make sure there are no negative values\n",
    "sum(n < 0 for n in data.values.flatten())"
   ]
  },
  {
   "cell_type": "code",
   "execution_count": 11,
   "metadata": {},
   "outputs": [
    {
     "data": {
      "text/plain": [
       "['SeriousDlqin2yrs',\n",
       " 'RevolvingUtilizationOfUnsecuredLines',\n",
       " 'age',\n",
       " 'NumberOfTime30-59DaysPastDueNotWorse',\n",
       " 'DebtRatio',\n",
       " 'MonthlyIncome',\n",
       " 'NumberOfOpenCreditLinesAndLoans',\n",
       " 'NumberOfTimes90DaysLate',\n",
       " 'NumberRealEstateLoansOrLines',\n",
       " 'NumberOfTime60-89DaysPastDueNotWorse',\n",
       " 'NumberOfDependents']"
      ]
     },
     "execution_count": 11,
     "metadata": {},
     "output_type": "execute_result"
    }
   ],
   "source": [
    "#This is the list of features I will use; a future iteration would see me engineering new ones\n",
    "list(data.columns)"
   ]
  },
  {
   "cell_type": "code",
   "execution_count": null,
   "metadata": {
    "collapsed": true
   },
   "outputs": [],
   "source": [
    "columns_readable = ['Serious Delinquency in 2 yrs (yes/no)','% Credit Used',\n",
    " 'Age',\n",
    " 'No. Times 1-2 months late',\n",
    " 'Ratio Debt to Income',\n",
    " 'Monthly Income',\n",
    " 'No. Of Open Credit Lines',\n",
    " 'No. Of Times 3 months late',\n",
    " 'No. Of Real Estate Loans',\n",
    " 'No. Of Times 2-3 months late',\n",
    " 'No. Of Dependents']"
   ]
  },
  {
   "cell_type": "markdown",
   "metadata": {},
   "source": [
    "# Here I do some exploratory plots of data to make sure I haven't left in any real outliers"
   ]
  },
  {
   "cell_type": "code",
   "execution_count": 13,
   "metadata": {},
   "outputs": [
    {
     "data": {
      "text/plain": [
       "(array([  5.48490000e+04,   1.55680000e+04,   1.06890000e+04,\n",
       "          8.19800000e+03,   6.70200000e+03,   6.38100000e+03,\n",
       "          1.39480000e+04,   7.60000000e+02,   2.19000000e+02,\n",
       "          1.26000000e+02,   7.10000000e+01,   5.20000000e+01,\n",
       "          3.80000000e+01,   3.40000000e+01,   2.10000000e+01,\n",
       "          8.00000000e+00,   5.00000000e+00,   5.00000000e+00,\n",
       "          5.00000000e+00,   3.00000000e+00]),\n",
       " array([-0.004 ,  0.1462,  0.2964,  0.4466,  0.5968,  0.747 ,  0.8972,\n",
       "         1.0474,  1.1976,  1.3478,  1.498 ,  1.6482,  1.7984,  1.9486,\n",
       "         2.0988,  2.249 ,  2.3992,  2.5494,  2.6996,  2.8498,  3.    ]),\n",
       " <a list of 20 Patch objects>)"
      ]
     },
     "execution_count": 13,
     "metadata": {},
     "output_type": "execute_result"
    },
    {
     "data": {
      "image/png": "[encoded data removed]",
      "text/plain": [
       "<matplotlib.figure.Figure at 0x7f1015332278>"
      ]
     },
     "metadata": {},
     "output_type": "display_data"
    }
   ],
   "source": [
    "plt.yscale('log', nonposy='clip')\n",
    "plt.hist(data['RevolvingUtilizationOfUnsecuredLines'], bins=20, range=[-0.004, 3])"
   ]
  },
  {
   "cell_type": "code",
   "execution_count": 14,
   "metadata": {},
   "outputs": [
    {
     "data": {
      "text/plain": [
       "(array([  1.43300000e+03,   4.07600000e+03,   8.48100000e+03,\n",
       "          7.83400000e+03,   1.24620000e+04,   1.13960000e+04,\n",
       "          1.53600000e+04,   1.14020000e+04,   1.31160000e+04,\n",
       "          1.03150000e+04,   8.53800000e+03,   4.72200000e+03,\n",
       "          4.20000000e+03,   2.24700000e+03,   1.37500000e+03,\n",
       "          5.57000000e+02,   1.48000000e+02,   1.50000000e+01,\n",
       "          5.00000000e+00,   0.00000000e+00]),\n",
       " array([  20. ,   24.5,   29. ,   33.5,   38. ,   42.5,   47. ,   51.5,\n",
       "          56. ,   60.5,   65. ,   69.5,   74. ,   78.5,   83. ,   87.5,\n",
       "          92. ,   96.5,  101. ,  105.5,  110. ]),\n",
       " <a list of 20 Patch objects>)"
      ]
     },
     "execution_count": 14,
     "metadata": {},
     "output_type": "execute_result"
    },
    {
     "data": {
      "image/png": "[encoded data removed]",
      "text/plain": [
       "<matplotlib.figure.Figure at 0x7f1011777c88>"
      ]
     },
     "metadata": {},
     "output_type": "display_data"
    }
   ],
   "source": [
    "plt.yscale('log', nonposy='clip')\n",
    "plt.hist(data['age'],bins=20,range=[20,110])"
   ]
  },
  {
   "cell_type": "code",
   "execution_count": 16,
   "metadata": {},
   "outputs": [
    {
     "data": {
      "text/plain": [
       "(array([  5.10800000e+03,   2.00000000e+01,   6.00000000e+00,\n",
       "          5.00000000e+00,   2.00000000e+00,   3.00000000e+00,\n",
       "          2.00000000e+00,   0.00000000e+00,   1.00000000e+00,\n",
       "          1.00000000e+00,   1.00000000e+00,   0.00000000e+00,\n",
       "          0.00000000e+00,   1.00000000e+00,   1.00000000e+00,\n",
       "          0.00000000e+00,   0.00000000e+00,   0.00000000e+00,\n",
       "          1.00000000e+00,   0.00000000e+00]),\n",
       " array([   1.  ,   25.95,   50.9 ,   75.85,  100.8 ,  125.75,  150.7 ,\n",
       "         175.65,  200.6 ,  225.55,  250.5 ,  275.45,  300.4 ,  325.35,\n",
       "         350.3 ,  375.25,  400.2 ,  425.15,  450.1 ,  475.05,  500.  ]),\n",
       " <a list of 20 Patch objects>)"
      ]
     },
     "execution_count": 16,
     "metadata": {},
     "output_type": "execute_result"
    },
    {
     "data": {
      "image/png": "[encoded data removed]",
      "text/plain": [
       "<matplotlib.figure.Figure at 0x7f1011708d68>"
      ]
     },
     "metadata": {},
     "output_type": "display_data"
    }
   ],
   "source": [
    "plt.yscale('log', nonposy='clip')\n",
    "plt.hist(data['DebtRatio'],bins=20,range=[1,500])"
   ]
  },
  {
   "cell_type": "code",
   "execution_count": 17,
   "metadata": {},
   "outputs": [
    {
     "data": {
      "text/plain": [
       "(array([ 15521.,   7064.,   8346.,   9391.,  10044.,  10182.,   9478.,\n",
       "          8495.,   7152.,   5959.,   4727.,   3654.,   2945.,   2475.,\n",
       "          1908.,   1482.,   1188.,   1009.,    853.,    665.]),\n",
       " array([ 0.  ,  0.05,  0.1 ,  0.15,  0.2 ,  0.25,  0.3 ,  0.35,  0.4 ,\n",
       "         0.45,  0.5 ,  0.55,  0.6 ,  0.65,  0.7 ,  0.75,  0.8 ,  0.85,\n",
       "         0.9 ,  0.95,  1.  ]),\n",
       " <a list of 20 Patch objects>)"
      ]
     },
     "execution_count": 17,
     "metadata": {},
     "output_type": "execute_result"
    },
    {
     "data": {
      "image/png": "[encoded data removed]",
      "text/plain": [
       "<matplotlib.figure.Figure at 0x7f10111676d8>"
      ]
     },
     "metadata": {},
     "output_type": "display_data"
    }
   ],
   "source": [
    "plt.yscale('log', nonposy='clip')\n",
    "plt.hist(data['DebtRatio'],bins=20,range=[0,1])"
   ]
  },
  {
   "cell_type": "code",
   "execution_count": 21,
   "metadata": {},
   "outputs": [
    {
     "data": {
      "text/plain": [
       "(array([  449.,  1722.,  2606.,  3806.,  5640.,  6747.,  7719.,  7202.,\n",
       "         8298.,  6484.,  8254.,  5758.,  6401.,  5011.,  4884.,  4213.,\n",
       "         4404.,  3071.,  3021.,  3730.]),\n",
       " array([     0.,    500.,   1000.,   1500.,   2000.,   2500.,   3000.,\n",
       "          3500.,   4000.,   4500.,   5000.,   5500.,   6000.,   6500.,\n",
       "          7000.,   7500.,   8000.,   8500.,   9000.,   9500.,  10000.]),\n",
       " <a list of 20 Patch objects>)"
      ]
     },
     "execution_count": 21,
     "metadata": {},
     "output_type": "execute_result"
    },
    {
     "data": {
      "image/png": "[encoded data removed]",
      "text/plain": [
       "<matplotlib.figure.Figure at 0x7f1010d0b940>"
      ]
     },
     "metadata": {},
     "output_type": "display_data"
    }
   ],
   "source": [
    "plt.yscale('log', nonposy='clip')\n",
    "plt.hist(data['MonthlyIncome'],bins=20,range=[0,10000])"
   ]
  },
  {
   "cell_type": "code",
   "execution_count": 24,
   "metadata": {},
   "outputs": [
    {
     "data": {
      "text/plain": [
       "(array([  8.79240000e+04,   1.77100000e+04,   8.54200000e+03,\n",
       "          2.60600000e+03,   6.72000000e+02,   1.48000000e+02,\n",
       "          4.80000000e+01,   2.20000000e+01,   4.00000000e+00,\n",
       "          4.00000000e+00,   0.00000000e+00,   0.00000000e+00,\n",
       "          1.00000000e+00,   0.00000000e+00,   0.00000000e+00,\n",
       "          0.00000000e+00,   0.00000000e+00,   0.00000000e+00,\n",
       "          0.00000000e+00,   1.00000000e+00]),\n",
       " array([  0.  ,   1.05,   2.1 ,   3.15,   4.2 ,   5.25,   6.3 ,   7.35,\n",
       "          8.4 ,   9.45,  10.5 ,  11.55,  12.6 ,  13.65,  14.7 ,  15.75,\n",
       "         16.8 ,  17.85,  18.9 ,  19.95,  21.  ]),\n",
       " <a list of 20 Patch objects>)"
      ]
     },
     "execution_count": 24,
     "metadata": {},
     "output_type": "execute_result"
    },
    {
     "data": {
      "image/png": "[encoded data removed]",
      "text/plain": [
       "<matplotlib.figure.Figure at 0x7f1010b71940>"
      ]
     },
     "metadata": {},
     "output_type": "display_data"
    }
   ],
   "source": [
    "plt.yscale('log', nonposy='clip')\n",
    "plt.hist(data['NumberOfDependents'],bins=20,range=[0,21])"
   ]
  },
  {
   "cell_type": "code",
   "execution_count": 26,
   "metadata": {},
   "outputs": [
    {
     "data": {
      "text/plain": [
       "(array([  1.11640000e+05,   4.74400000e+03,   8.99000000e+02,\n",
       "          2.64000000e+02,   8.30000000e+01,   2.80000000e+01,\n",
       "          1.60000000e+01,   5.00000000e+00,   2.00000000e+00,\n",
       "          0.00000000e+00,   0.00000000e+00,   1.00000000e+00,\n",
       "          0.00000000e+00,   0.00000000e+00,   0.00000000e+00,\n",
       "          0.00000000e+00,   0.00000000e+00,   0.00000000e+00,\n",
       "          0.00000000e+00,   0.00000000e+00]),\n",
       " array([  0.  ,   0.95,   1.9 ,   2.85,   3.8 ,   4.75,   5.7 ,   6.65,\n",
       "          7.6 ,   8.55,   9.5 ,  10.45,  11.4 ,  12.35,  13.3 ,  14.25,\n",
       "         15.2 ,  16.15,  17.1 ,  18.05,  19.  ]),\n",
       " <a list of 20 Patch objects>)"
      ]
     },
     "execution_count": 26,
     "metadata": {},
     "output_type": "execute_result"
    },
    {
     "data": {
      "image/png": "[encoded data removed]",
      "text/plain": [
       "<matplotlib.figure.Figure at 0x7f10104e9278>"
      ]
     },
     "metadata": {},
     "output_type": "display_data"
    }
   ],
   "source": [
    "plt.yscale('log', nonposy='clip')\n",
    "plt.hist(data['NumberOfTime60-89DaysPastDueNotWorse'],bins=20,range=[0,19])"
   ]
  },
  {
   "cell_type": "code",
   "execution_count": 29,
   "metadata": {},
   "outputs": [
    {
     "data": {
      "text/plain": [
       "(array([  8.20400000e+03,   2.46940000e+04,   3.12450000e+04,\n",
       "          2.41500000e+04,   1.44660000e+04,   7.69200000e+03,\n",
       "          3.79900000e+03,   1.78500000e+03,   8.51000000e+02,\n",
       "          4.04000000e+02,   1.90000000e+02,   9.20000000e+01,\n",
       "          3.40000000e+01,   2.30000000e+01,   1.50000000e+01,\n",
       "          1.10000000e+01,   1.20000000e+01,   6.00000000e+00,\n",
       "          6.00000000e+00,   3.00000000e+00]),\n",
       " array([  0.,   3.,   6.,   9.,  12.,  15.,  18.,  21.,  24.,  27.,  30.,\n",
       "         33.,  36.,  39.,  42.,  45.,  48.,  51.,  54.,  57.,  60.]),\n",
       " <a list of 20 Patch objects>)"
      ]
     },
     "execution_count": 29,
     "metadata": {},
     "output_type": "execute_result"
    },
    {
     "data": {
      "image/png": "[encoded data removed]",
      "text/plain": [
       "<matplotlib.figure.Figure at 0x7f100fdeec88>"
      ]
     },
     "metadata": {},
     "output_type": "display_data"
    }
   ],
   "source": [
    "plt.yscale('log', nonposy='clip')\n",
    "plt.hist(data['NumberOfOpenCreditLinesAndLoans'],bins=20,range=[0,60])"
   ]
  },
  {
   "cell_type": "code",
   "execution_count": 31,
   "metadata": {},
   "outputs": [
    {
     "data": {
      "text/plain": [
       "(array([  1.09291000e+05,   7.71600000e+03,   5.00000000e+02,\n",
       "          1.11000000e+02,   3.80000000e+01,   1.20000000e+01,\n",
       "          5.00000000e+00,   2.00000000e+00,   4.00000000e+00,\n",
       "          1.00000000e+00,   1.00000000e+00,   0.00000000e+00,\n",
       "          0.00000000e+00,   0.00000000e+00,   0.00000000e+00,\n",
       "          0.00000000e+00,   0.00000000e+00,   0.00000000e+00,\n",
       "          1.00000000e+00,   0.00000000e+00]),\n",
       " array([  0.,   3.,   6.,   9.,  12.,  15.,  18.,  21.,  24.,  27.,  30.,\n",
       "         33.,  36.,  39.,  42.,  45.,  48.,  51.,  54.,  57.,  60.]),\n",
       " <a list of 20 Patch objects>)"
      ]
     },
     "execution_count": 31,
     "metadata": {},
     "output_type": "execute_result"
    },
    {
     "data": {
      "image/png": "[encoded data removed]",
      "text/plain": [
       "<matplotlib.figure.Figure at 0x7f100fbc4a20>"
      ]
     },
     "metadata": {},
     "output_type": "display_data"
    }
   ],
   "source": [
    "plt.yscale('log', nonposy='clip')\n",
    "plt.hist(data['NumberRealEstateLoansOrLines'],bins=20,range=[0,60])"
   ]
  },
  {
   "cell_type": "code",
   "execution_count": 69,
   "metadata": {
    "collapsed": true
   },
   "outputs": [],
   "source": [
    "dlq = (data.SeriousDlqin2yrs == 1)\n",
    "resp = (data.SeriousDlqin2yrs == 0)"
   ]
  },
  {
   "cell_type": "code",
   "execution_count": 78,
   "metadata": {},
   "outputs": [
    {
     "data": {
      "text/plain": [
       "array([ 0.        ,  0.10526316,  0.21052632,  0.31578947,  0.42105263,\n",
       "        0.52631579,  0.63157895,  0.73684211,  0.84210526,  0.94736842,\n",
       "        1.05263158,  1.15789474,  1.26315789,  1.36842105,  1.47368421,\n",
       "        1.57894737,  1.68421053,  1.78947368,  1.89473684,  2.        ])"
      ]
     },
     "execution_count": 78,
     "metadata": {},
     "output_type": "execute_result"
    }
   ],
   "source": [
    "np.linspace(0,2,20)"
   ]
  },
  {
   "cell_type": "code",
   "execution_count": 105,
   "metadata": {},
   "outputs": [
    {
     "data": {
      "text/plain": [
       "<matplotlib.legend.Legend at 0x7f100c8abda0>"
      ]
     },
     "execution_count": 105,
     "metadata": {},
     "output_type": "execute_result"
    },
    {
     "data": {
      "image/png": "[encoded data removed]",
      "text/plain": [
       "<matplotlib.figure.Figure at 0x7f100ca189e8>"
      ]
     },
     "metadata": {},
     "output_type": "display_data"
    }
   ],
   "source": [
    "# plt.yscale('log', nonposy='clip')\n",
    "bins = np.linspace(0, 20, 20)\n",
    "# plt.hist(dlq & data['NumberRealEstateLoansOrLines'],bins=20,range=[0,2], alpha=0.3, normed=True)\n",
    "# plt.hist(resp & data['NumberRealEstateLoansOrLines'],bins=20,range=[0,2], alpha=0.3, normed=True)\n",
    "plt.title(\"Number of Real Estate Loans or Lines\")\n",
    "plt.hist(data['NumberRealEstateLoansOrLines'][dlq], bins=bins, alpha=0.7, normed=True, color='red', log=True, label='Delinquent')\n",
    "plt.hist(data['NumberRealEstateLoansOrLines'][resp], bins=bins, alpha=0.7, normed=True, color='green',log=True, label='Responsible')\n",
    "plt.legend(loc='best')\n"
   ]
  },
  {
   "cell_type": "code",
   "execution_count": 106,
   "metadata": {},
   "outputs": [
    {
     "data": {
      "text/plain": [
       "<matplotlib.legend.Legend at 0x7f100c58ca20>"
      ]
     },
     "execution_count": 106,
     "metadata": {},
     "output_type": "execute_result"
    },
    {
     "data": {
      "image/png": "[encoded data removed]",
      "text/plain": [
       "<matplotlib.figure.Figure at 0x7f100c69c828>"
      ]
     },
     "metadata": {},
     "output_type": "display_data"
    }
   ],
   "source": [
    "bins = np.linspace(20, 110, 20)\n",
    "plt.title(\"Age\")\n",
    "plt.hist(data['age'][dlq], bins=bins, alpha=0.7, normed=True, color='red', label='Delinquent')\n",
    "plt.hist(data['age'][resp], bins=bins, alpha=0.7, normed=True, color='green', label='Responsible')\n",
    "plt.legend(loc='best')"
   ]
  },
  {
   "cell_type": "code",
   "execution_count": 111,
   "metadata": {},
   "outputs": [
    {
     "data": {
      "text/plain": [
       "<matplotlib.legend.Legend at 0x7f100da083c8>"
      ]
     },
     "execution_count": 111,
     "metadata": {},
     "output_type": "execute_result"
    },
    {
     "data": {
      "image/png": "[encoded data removed]",
      "text/plain": [
       "<matplotlib.figure.Figure at 0x7f100caf36a0>"
      ]
     },
     "metadata": {},
     "output_type": "display_data"
    }
   ],
   "source": [
    "bins = np.linspace(0, 2, 20)\n",
    "plt.title(\"Percent credit utilized\",fontsize=20)\n",
    "plt.hist(data['RevolvingUtilizationOfUnsecuredLines'][dlq], bins=bins, alpha=0.7, normed=True, color='red', label='Delinquent')\n",
    "plt.hist(data['RevolvingUtilizationOfUnsecuredLines'][resp], bins=bins, alpha=0.7, normed=True, color='green', label='Responsible')\n",
    "plt.legend(loc='best')"
   ]
  },
  {
   "cell_type": "code",
   "execution_count": 118,
   "metadata": {},
   "outputs": [
    {
     "data": {
      "text/plain": [
       "<matplotlib.legend.Legend at 0x7f0ffddbe198>"
      ]
     },
     "execution_count": 118,
     "metadata": {},
     "output_type": "execute_result"
    },
    {
     "data": {
      "image/png": "[encoded data removed]",
      "text/plain": [
       "<matplotlib.figure.Figure at 0x7f0ffde8c390>"
      ]
     },
     "metadata": {},
     "output_type": "display_data"
    }
   ],
   "source": [
    "bins = np.linspace(0, 6, 6)\n",
    "plt.title(\"Number of Dependents\",fontsize=20)\n",
    "plt.hist(data['NumberOfDependents'][dlq], bins=bins, alpha=0.7, normed=True, color='red', label='Delinquent')\n",
    "plt.hist(data['NumberOfDependents'][resp], bins=bins, alpha=0.7, normed=True, color='green', label='Responsible')\n",
    "plt.legend(loc='best')"
   ]
  },
  {
   "cell_type": "code",
   "execution_count": 121,
   "metadata": {},
   "outputs": [
    {
     "data": {
      "text/plain": [
       "<matplotlib.legend.Legend at 0x7f0ffdbdaa20>"
      ]
     },
     "execution_count": 121,
     "metadata": {},
     "output_type": "execute_result"
    },
    {
     "data": {
      "image/png": "[encoded data removed]",
      "text/plain": [
       "<matplotlib.figure.Figure at 0x7f0ffdd2a908>"
      ]
     },
     "metadata": {},
     "output_type": "display_data"
    }
   ],
   "source": [
    "bins = np.linspace(0, 20, 20)\n",
    "plt.title(\"Number of times at least 3 months late\",fontsize=20)\n",
    "plt.hist(data['NumberOfTimes90DaysLate'][dlq], bins=bins, alpha=0.7, normed=True, color='red', log=True, label='Delinquent')\n",
    "plt.hist(data['NumberOfTimes90DaysLate'][resp], bins=bins, alpha=0.7, normed=True, color='green',log=True, label='Responsible')\n",
    "plt.legend(loc='best')"
   ]
  },
  {
   "cell_type": "code",
   "execution_count": 126,
   "metadata": {},
   "outputs": [
    {
     "data": {
      "text/plain": [
       "<matplotlib.legend.Legend at 0x7f0ffce9f3c8>"
      ]
     },
     "execution_count": 126,
     "metadata": {},
     "output_type": "execute_result"
    },
    {
     "data": {
      "image/png": "[encoded data removed]",
      "text/plain": [
       "<matplotlib.figure.Figure at 0x7f0ffd4ee7b8>"
      ]
     },
     "metadata": {},
     "output_type": "display_data"
    }
   ],
   "source": [
    "bins = np.linspace(0, 12, 12)\n",
    "plt.title(\"Number of times 2-3 months late\",fontsize=20)\n",
    "plt.hist(data['NumberOfTime60-89DaysPastDueNotWorse'][dlq], bins=bins, alpha=0.7, normed=True, color='red', log=True, label='Delinquent')\n",
    "plt.hist(data['NumberOfTime60-89DaysPastDueNotWorse'][resp], bins=bins, alpha=0.7, normed=True, color='green',log=True, label='Responsible')\n",
    "plt.legend(loc='best')"
   ]
  },
  {
   "cell_type": "code",
   "execution_count": 129,
   "metadata": {},
   "outputs": [
    {
     "data": {
      "text/plain": [
       "<matplotlib.legend.Legend at 0x7f0ffcb23710>"
      ]
     },
     "execution_count": 129,
     "metadata": {},
     "output_type": "execute_result"
    },
    {
     "data": {
      "image/png": "[encoded data removed]",
      "text/plain": [
       "<matplotlib.figure.Figure at 0x7f0ffcb275c0>"
      ]
     },
     "metadata": {},
     "output_type": "display_data"
    }
   ],
   "source": [
    "bins = np.linspace(0, 12, 12)\n",
    "plt.title(\"Number of times 1-2 months late\",fontsize=20)\n",
    "plt.hist(data['NumberOfTime30-59DaysPastDueNotWorse'][dlq], bins=bins, alpha=0.7, normed=True, color='red', log=True, label='Delinquent')\n",
    "plt.hist(data['NumberOfTime30-59DaysPastDueNotWorse'][resp], bins=bins, alpha=0.7, normed=True, color='green',log=True, label='Responsible')\n",
    "plt.legend(loc='best')"
   ]
  },
  {
   "cell_type": "markdown",
   "metadata": {},
   "source": [
    "# Now, use imb-learn to do a random undersampling "
   ]
  },
  {
   "cell_type": "code",
   "execution_count": 219,
   "metadata": {
    "collapsed": true
   },
   "outputs": [],
   "source": [
    "from collections import Counter\n",
    "from imblearn.ensemble import EasyEnsemble \n"
   ]
  },
  {
   "cell_type": "code",
   "execution_count": 178,
   "metadata": {
    "collapsed": true
   },
   "outputs": [],
   "source": [
    "from sklearn.model_selection import ShuffleSplit\n",
    "rs = ShuffleSplit(n_splits=1, train_size=0.6, test_size=.4,\n",
    "                  random_state=0)"
   ]
  },
  {
   "cell_type": "code",
   "execution_count": 179,
   "metadata": {},
   "outputs": [
    {
     "data": {
      "text/plain": [
       "(70609, 11)"
      ]
     },
     "execution_count": 179,
     "metadata": {},
     "output_type": "execute_result"
    }
   ],
   "source": [
    "#So we have 70609 rows in our unbalanced training set\n",
    "train = data.iloc[train_index]\n",
    "train.shape"
   ]
  },
  {
   "cell_type": "code",
   "execution_count": 180,
   "metadata": {},
   "outputs": [
    {
     "data": {
      "text/plain": [
       "(47073, 11)"
      ]
     },
     "execution_count": 180,
     "metadata": {},
     "output_type": "execute_result"
    }
   ],
   "source": [
    "#And 47073 rows in our test set.\n",
    "test = data.iloc[test_index]\n",
    "test.shape"
   ]
  },
  {
   "cell_type": "code",
   "execution_count": 221,
   "metadata": {
    "collapsed": true
   },
   "outputs": [],
   "source": [
    "#Separating data into X and y, train and test\n",
    "featureHeaders = list(data.keys())\n",
    "targetFeature = 'SeriousDlqin2yrs'\n",
    "featureHeaders.remove(targetFeature)\n",
    "X_data = data[featureHeaders]\n",
    "y_data = data[targetFeature]\n",
    "\n",
    "X_train = train[featureHeaders]\n",
    "y_train = train[targetFeature]\n",
    "\n",
    "X_test = test[featureHeaders]\n",
    "y_test = test[targetFeature]"
   ]
  },
  {
   "cell_type": "code",
   "execution_count": 231,
   "metadata": {},
   "outputs": [
    {
     "name": "stdout",
     "output_type": "stream",
     "text": [
      "[(0, 4915), (1, 4915)]\n"
     ]
    }
   ],
   "source": [
    "#Finally, balance our training set. The number of rows drops to 9830, around an 87% loss.\n",
    "from imblearn.under_sampling import RandomUnderSampler\n",
    "rus = RandomUnderSampler(random_state=0)\n",
    "X_resampled, y_resampled = rus.fit_sample(X_train, y_train)\n",
    "print(sorted(Counter(y_resampled).items()))"
   ]
  },
  {
   "cell_type": "markdown",
   "metadata": {},
   "source": [
    "# Now train a Random Forest on this dataset"
   ]
  },
  {
   "cell_type": "code",
   "execution_count": 224,
   "metadata": {
    "collapsed": true
   },
   "outputs": [],
   "source": [
    "def run_RF_fit(X_train,y_train):\n",
    "    '''\n",
    "    The function that trains the random forest. The hyperparameters of this classifier were determined via a grid search.\n",
    "    '''\n",
    "    rf = RandomForestClassifier(max_depth=8,n_estimators=100)\n",
    "    rf.fit(X_train, y_train)\n",
    "    return rf"
   ]
  },
  {
   "cell_type": "code",
   "execution_count": 232,
   "metadata": {},
   "outputs": [
    {
     "name": "stdout",
     "output_type": "stream",
     "text": [
      "0.772247360483\n"
     ]
    }
   ],
   "source": [
    "rf = run_RF_fit(X_resampled,y_resampled)\n",
    "\n",
    "y_pred = rf.predict_proba(X_test)[:,1]\n",
    "print (rf.score(X_test, y_test)) # Overall accuracy score"
   ]
  },
  {
   "cell_type": "markdown",
   "metadata": {},
   "source": [
    "# Now start plotting some evaluation metrics"
   ]
  },
  {
   "cell_type": "code",
   "execution_count": 192,
   "metadata": {
    "collapsed": true
   },
   "outputs": [],
   "source": [
    "def show_roc_curve(y_test, y_pred):\n",
    "    '''\n",
    "    Displays the ROC curve and AUC for a model.\n",
    "    '''\n",
    "    fpr, tpr, _ = roc_curve(y_test, y_pred)\n",
    "    roc_auc=auc(fpr, tpr)\n",
    "    plt.plot(fpr, tpr, label='AUC=%0.2f'% roc_auc)\n",
    "    plt.plot([0,1],[0,1],'r--')\n",
    "    plt.xlabel('False positive rate')\n",
    "    plt.ylabel('True positive rate')\n",
    "    plt.title('ROC curve')\n",
    "    plt.legend(loc='best')"
   ]
  },
  {
   "cell_type": "code",
   "execution_count": 193,
   "metadata": {
    "collapsed": true
   },
   "outputs": [],
   "source": [
    "def plot_confusion_matrix(cm,title='Confusion matrix',normalize=True,cmap=plt.cm.Blues):\n",
    "    \"\"\"\n",
    "    This function prints and plots the confusion matrix.\n",
    "    Normalization can be applied by setting `normalize=True`.\n",
    "    \"\"\"\n",
    "    classes = ['Responsible','Delinquent']\n",
    "    np.set_printoptions(precision=2)\n",
    "\n",
    "    # Plot normalized confusion matrix\n",
    "    plt.figure()\n",
    "    \n",
    "    if normalize:\n",
    "        cm = cm.astype('float') / cm.sum(axis=1)[:, np.newaxis]\n",
    "        print(\"Normalized confusion matrix\")\n",
    "    else:\n",
    "        print('Confusion matrix, without normalization')\n",
    "\n",
    "    print(cm)\n",
    "\n",
    "    plt.imshow(cm, interpolation='nearest', cmap=cmap)\n",
    "    plt.title(title)\n",
    "    plt.colorbar()\n",
    "    tick_marks = np.arange(len(classes))\n",
    "    plt.xticks(tick_marks, classes, rotation=45)\n",
    "    plt.yticks(tick_marks, classes)\n",
    "\n",
    "    fmt = '.2f' if normalize else 'd'\n",
    "    thresh = cm.max() / 2.\n",
    "    for i, j in itertools.product(range(cm.shape[0]), range(cm.shape[1])):\n",
    "        plt.text(j, i, format(int(cm[i, j]), fmt),\n",
    "                 horizontalalignment=\"center\",\n",
    "                 color=\"white\" if cm[i, j] > thresh else \"black\")\n",
    "\n",
    "    plt.tight_layout()\n",
    "    plt.ylabel('True label')\n",
    "    plt.xlabel('Predicted label')\n",
    "    plt.show()"
   ]
  },
  {
   "cell_type": "code",
   "execution_count": 246,
   "metadata": {
    "collapsed": true
   },
   "outputs": [],
   "source": [
    "def print_classification_report(y_test, y_pred, threshold_cut=0.5):\n",
    "    '''\n",
    "    Prints the classification report for a model. Allows for non-binary predictions with a threshold cut.\n",
    "    '''\n",
    "    y_pred_test = y_pred > threshold_cut\n",
    "    print(classification_report(y_test, y_pred_test))"
   ]
  },
  {
   "cell_type": "code",
   "execution_count": 234,
   "metadata": {},
   "outputs": [
    {
     "data": {
      "image/png": "[encoded data removed]",
      "text/plain": [
       "<matplotlib.figure.Figure at 0x7f0ffd3c3c50>"
      ]
     },
     "metadata": {},
     "output_type": "display_data"
    }
   ],
   "source": [
    "#We want to be very careful with using ROC curves to gauge the effectiveness of a Random Forest, though.\n",
    "show_roc_curve(y_test,y_pred)"
   ]
  },
  {
   "cell_type": "code",
   "execution_count": 236,
   "metadata": {},
   "outputs": [
    {
     "name": "stdout",
     "output_type": "stream",
     "text": [
      "Confusion matrix, without normalization\n",
      "[[33795 10026]\n",
      " [  695  2557]]\n"
     ]
    },
    {
     "data": {
      "image/png": "[encoded data removed]",
      "text/plain": [
       "<matplotlib.figure.Figure at 0x7f0ffcface10>"
      ]
     },
     "metadata": {},
     "output_type": "display_data"
    }
   ],
   "source": [
    "cm_rf = confusion_matrix(y_test, rf.predict(X_test))\n",
    "plot_confusion_matrix(cm_rf,\"Random Forest Trained Confusion Matrix\",normalize=False)"
   ]
  },
  {
   "cell_type": "code",
   "execution_count": 250,
   "metadata": {},
   "outputs": [
    {
     "name": "stdout",
     "output_type": "stream",
     "text": [
      "             precision    recall  f1-score   support\n",
      "\n",
      "          0       0.98      0.77      0.86     43821\n",
      "          1       0.20      0.79      0.32      3252\n",
      "\n",
      "avg / total       0.93      0.77      0.83     47073\n",
      "\n"
     ]
    }
   ],
   "source": [
    "print_classification_report(y_test,rf.predict(X_test),0.5)"
   ]
  },
  {
   "cell_type": "code",
   "execution_count": 264,
   "metadata": {
    "collapsed": true
   },
   "outputs": [],
   "source": [
    "def show_global_feature_importance(model,X_train,readable_feature_list, color=\"indigo\"):\n",
    "    '''\n",
    "    Displays the feature importance bar graph for a trained random forest. Bar graph is horizontal decreasing, and \n",
    "    the feature list is displayed on the y-axis ticks. User can specify color\n",
    "    '''\n",
    "    importances = rf.feature_importances_\n",
    "    std = np.std([tree.feature_importances_ for tree in rf.estimators_], #There are n_estimators trees in the forest!\n",
    "             axis=0)\n",
    "    indices = np.argsort(importances)[::-1]\n",
    "\n",
    "    arr1 = indices\n",
    "    arr1inds = arr1.argsort()\n",
    "    arr2 = np.array(readable_feature_list) \n",
    "    sorted_arr2 = arr2[arr1inds[::1]] # This bit of code sorts my plain English list of features according to \n",
    "                                      # the order yielded by rf.feature_importances_\n",
    "\n",
    "    # Print the feature ranking\n",
    "    print(\"Feature ranking:\")\n",
    "\n",
    "    for f in range(X_train.shape[1]):\n",
    "        print(\"%d. %s (%f)\" % (f + 1, sorted_arr2[f], importances[indices[f]]))\n",
    "\n",
    "    # Plot the feature importances of the forest\n",
    "    plt.figure()\n",
    "    plt.title(\"Feature importances\", fontsize=20)\n",
    "    plt.barh(range(X_train.shape[1]), importances[indices], color=color, yerr=std[indices], align=\"center\")\n",
    "    plt.yticks(range(X_train.shape[1]), sorted_arr2, rotation=0, ha='right')\n",
    "    plt.gca().invert_yaxis()\n",
    "    plt.xlim([-0.01, importances[0]+0.01]) # Makes sure the plot always fits the longest bar\n",
    "    plt.gcf().set_size_inches(8,8)\n",
    "    plt.tick_params(labelsize=20)\n",
    "    plt.show()"
   ]
  },
  {
   "cell_type": "code",
   "execution_count": 294,
   "metadata": {},
   "outputs": [
    {
     "ename": "TypeError",
     "evalue": "'str' object cannot be interpreted as an integer",
     "output_type": "error",
     "traceback": [
      "\u001b[0;31m---------------------------------------------------------------------------\u001b[0m",
      "\u001b[0;31mTypeError\u001b[0m                                 Traceback (most recent call last)",
      "\u001b[0;32m<ipython-input-294-8dcd6175eb7a>\u001b[0m in \u001b[0;36m<module>\u001b[0;34m()\u001b[0m\n\u001b[0;32m----> 1\u001b[0;31m \u001b[0mcolumns_readable\u001b[0m\u001b[0;34m.\u001b[0m\u001b[0mpop\u001b[0m\u001b[0;34m(\u001b[0m\u001b[0;34m'SeriousDlqin2trs'\u001b[0m\u001b[0;34m)\u001b[0m\u001b[0;34m\u001b[0m\u001b[0m\n\u001b[0m\u001b[1;32m      2\u001b[0m \u001b[0mshow_global_feature_importance\u001b[0m\u001b[0;34m(\u001b[0m\u001b[0mrf\u001b[0m\u001b[0;34m,\u001b[0m\u001b[0mX_train\u001b[0m\u001b[0;34m,\u001b[0m\u001b[0mcolumns_readable\u001b[0m\u001b[0;34m,\u001b[0m\u001b[0;34m\"red\"\u001b[0m\u001b[0;34m)\u001b[0m\u001b[0;34m\u001b[0m\u001b[0m\n",
      "\u001b[0;31mTypeError\u001b[0m: 'str' object cannot be interpreted as an integer"
     ]
    }
   ],
   "source": [
    "columns_readable.pop(0)\n",
    "show_global_feature_importance(rf,X_train,columns_readable,\"red\")"
   ]
  },
  {
   "cell_type": "markdown",
   "metadata": {},
   "source": [
    "# Now that we have a global feature importance, let's investigate local feature importance with LIME"
   ]
  },
  {
   "cell_type": "code",
   "execution_count": 271,
   "metadata": {
    "collapsed": true
   },
   "outputs": [],
   "source": [
    "import lime\n",
    "import lime.lime_tabular\n",
    "from lime.lime_tabular import LimeTabularExplainer"
   ]
  },
  {
   "cell_type": "code",
   "execution_count": 272,
   "metadata": {
    "collapsed": true
   },
   "outputs": [],
   "source": [
    "# Translating classes '0' and '1' to 'Responsible' and 'Delinquent'. There are probably better names for this\n",
    "# but better heads than mine will need to help me come up with them.\n",
    "class_names = [\"Responsible\",\"Delinquent\"]\n",
    "\n",
    "# LIME takes numpy arrays instead of pandas dataframes. Saving the pandas in case we want to play with them later.\n",
    "X_train_df = X_train\n",
    "X_test_df = X_test\n",
    "\n",
    "X_train = np.array(X_train)\n",
    "X_test = np.array(X_test)"
   ]
  },
  {
   "cell_type": "code",
   "execution_count": 296,
   "metadata": {},
   "outputs": [
    {
     "data": {
      "text/plain": [
       "['% Credit Used',\n",
       " 'Age',\n",
       " 'No. Times 1-2 months late',\n",
       " 'Ratio Debt to Income',\n",
       " 'Monthly Income',\n",
       " 'No. Of Open Credit Lines',\n",
       " 'No. Of Times 3 months late',\n",
       " 'No. Of Real Estate Loans',\n",
       " 'No. Of Times 2-3 months late',\n",
       " 'No. Of Dependents']"
      ]
     },
     "execution_count": 296,
     "metadata": {},
     "output_type": "execute_result"
    }
   ],
   "source": [
    "readable_feature_list = columns_readable\n",
    "readable_feature_list"
   ]
  },
  {
   "cell_type": "code",
   "execution_count": 489,
   "metadata": {},
   "outputs": [
    {
     "data": {
      "text/plain": [
       "list"
      ]
     },
     "execution_count": 489,
     "metadata": {},
     "output_type": "execute_result"
    }
   ],
   "source": [
    "type(readable_feature_list)"
   ]
  },
  {
   "cell_type": "code",
   "execution_count": 297,
   "metadata": {
    "collapsed": true
   },
   "outputs": [],
   "source": [
    "# This is the first step of two for LIME functions. Takes the training set, a list of features, and a list of classes.\n",
    "\n",
    "explainer = LimeTabularExplainer(\n",
    "    X_train,\n",
    "    class_names=['Responsible', 'Delinquent'],\n",
    "    feature_names=readable_feature_list,\n",
    "    discretize_continuous=True\n",
    ")"
   ]
  },
  {
   "cell_type": "code",
   "execution_count": 443,
   "metadata": {},
   "outputs": [
    {
     "name": "stdout",
     "output_type": "stream",
     "text": [
      "Probability of delinquency:  0.498288367875  for example  43620\n"
     ]
    },
    {
     "data": {
      "image/png": "[encoded data removed]",
      "text/plain": [
       "<matplotlib.figure.Figure at 0x7f0ff83c26d8>"
      ]
     },
     "metadata": {},
     "output_type": "display_data"
    }
   ],
   "source": [
    "# This is the second and main step. Returns the 5 most important features for the example here we select at random. \n",
    "# Randomly finds a set of samples in prediction space, uses the model's predict_proba to weight those that are near \n",
    "# the example, then fits a simple decision tree to that local region. The interpretable model used in the local\n",
    "# regime varies depending on what type of model is inputted.\n",
    "\n",
    "example = np.random.randint(0, X_test.shape[0])\n",
    "exp = explainer.explain_instance(X_test[example], rf.predict_proba, num_features=5)\n",
    "print('Probability of delinquency: ',exp.predict_proba[1],' for example ', example)\n",
    "\n",
    "fig=exp.as_pyplot_figure() # Pleasantly shows importances as pyplot"
   ]
  },
  {
   "cell_type": "code",
   "execution_count": 444,
   "metadata": {},
   "outputs": [
    {
     "data": {
      "image/png": "[encoded data removed]",
      "text/plain": [
       "<matplotlib.figure.Figure at 0x7f0ff83c26d8>"
      ]
     },
     "execution_count": 444,
     "metadata": {},
     "output_type": "execute_result"
    }
   ],
   "source": [
    "ax = fig.axes\n",
    "ax[0].tick_params(labelsize=20) # Make the font more readable!\n",
    "fig\n",
    "fig.savefig(\"lime_fig.png\",bbox_inches='tight')"
   ]
  },
  {
   "cell_type": "code",
   "execution_count": 299,
   "metadata": {},
   "outputs": [
    {
     "name": "stdout",
     "output_type": "stream",
     "text": [
      "[('No. Of Times 3 months late <= 0.00', -0.31747956457604054), ('No. Of Times 2-3 months late <= 0.00', -0.30093676848062983), ('No. Times 1-2 months late <= 0.00', -0.23018646842585563), ('% Credit Used <= 0.04', -0.15193101889383659), ('Age > 62.00', -0.057312754981500687)]\n"
     ]
    }
   ],
   "source": [
    "# Can also output the important features as a simple list!\n",
    "reasons = exp.as_list()\n",
    "print (reasons)"
   ]
  },
  {
   "cell_type": "code",
   "execution_count": 374,
   "metadata": {},
   "outputs": [
    {
     "data": {
      "text/plain": [
       "(0, 3)"
      ]
     },
     "execution_count": 374,
     "metadata": {},
     "output_type": "execute_result"
    },
    {
     "data": {
      "image/png": "[encoded data removed]",
      "text/plain": [
       "<matplotlib.figure.Figure at 0x7f0ffddd1c50>"
      ]
     },
     "metadata": {},
     "output_type": "display_data"
    }
   ],
   "source": [
    "# Noticing that people who are routinely late with payments (though not yet delinquent) also tend to use a high \n",
    "# percentage of their credit allowance, even going over the limit (normal limit is 1).\n",
    "ax = data.plot(x='RevolvingUtilizationOfUnsecuredLines',y='NumberOfTime60-89DaysPastDueNotWorse',style=\"o\")\n",
    "ax.set_xlim(0,3)"
   ]
  },
  {
   "cell_type": "markdown",
   "metadata": {},
   "source": [
    "# Finally, we save the model and LIME explainer for use on the web app"
   ]
  },
  {
   "cell_type": "code",
   "execution_count": 445,
   "metadata": {
    "collapsed": true
   },
   "outputs": [],
   "source": [
    "import pickle\n",
    "import dill\n",
    "\n",
    "def saveVar(variable_to_save, file_name):\n",
    "    '''\n",
    "    Saves the machine learning model for use on the web app\n",
    "    '''\n",
    "    with open(file_name+'.pickle', \"wb\") as f:\n",
    "        pickle.dump(variable_to_save, f)\n",
    "        \n",
    "def saveDill(variable_to_save, file_name):\n",
    "    '''\n",
    "    Saves the LIME explainer for use on the web app. Same idea as pickle, but works for objects using lambdas, like LIME.\n",
    "    '''\n",
    "    with open(file_name+'.dill', 'wb') as f:\n",
    "        dill.dump(variable_to_save, f)"
   ]
  },
  {
   "cell_type": "code",
   "execution_count": 446,
   "metadata": {
    "collapsed": true
   },
   "outputs": [],
   "source": [
    "saveVar(rf, 'Trained_RF')"
   ]
  },
  {
   "cell_type": "code",
   "execution_count": 447,
   "metadata": {
    "collapsed": true
   },
   "outputs": [],
   "source": [
    "saveDill(explainer,\"Saved_Explainer\")"
   ]
  },
  {
   "cell_type": "code",
   "execution_count": 460,
   "metadata": {
    "collapsed": true
   },
   "outputs": [],
   "source": [
    "X_data.to_csv(\"datafile.csv\")"
   ]
  },
  {
   "cell_type": "code",
   "execution_count": null,
   "metadata": {
    "collapsed": true
   },
   "outputs": [],
   "source": []
  }
 ],
 "metadata": {
  "kernelspec": {
   "display_name": "Python 3",
   "language": "python",
   "name": "python3"
  },
  "language_info": {
   "codemirror_mode": {
    "name": "ipython",
    "version": 3
   },
   "file_extension": ".py",
   "mimetype": "text/x-python",
   "name": "python",
   "nbconvert_exporter": "python",
   "pygments_lexer": "ipython3",
   "version": "3.6.2"
  }
 },
 "nbformat": 4,
 "nbformat_minor": 2
}
