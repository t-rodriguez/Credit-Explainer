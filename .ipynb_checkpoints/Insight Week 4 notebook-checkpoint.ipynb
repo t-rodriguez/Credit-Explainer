{
 "cells": [
  {
   "cell_type": "code",
   "execution_count": 2,
   "metadata": {
    "collapsed": true
   },
   "outputs": [],
   "source": [
    "import pandas as pd\n",
    "import sklearn as sk\n",
    "import numpy as np\n",
    "import random\n",
    "%matplotlib inline"
   ]
  },
  {
   "cell_type": "code",
   "execution_count": 3,
   "metadata": {
    "collapsed": true
   },
   "outputs": [],
   "source": [
    "filename = \"cs-training.csv\"\n",
    "data = pd.read_csv(filename)"
   ]
  },
  {
   "cell_type": "code",
   "execution_count": 4,
   "metadata": {
    "collapsed": true
   },
   "outputs": [],
   "source": [
    "data = data.dropna(axis=0)"
   ]
  },
  {
   "cell_type": "code",
   "execution_count": 5,
   "metadata": {
    "collapsed": true
   },
   "outputs": [],
   "source": [
    "data = data.drop(labels=[\"Unnamed: 0\"], axis=1)"
   ]
  },
  {
   "cell_type": "code",
   "execution_count": 6,
   "metadata": {
    "collapsed": true
   },
   "outputs": [],
   "source": [
    "data = data.drop(data[data.MonthlyIncome <= 1].index)"
   ]
  },
  {
   "cell_type": "code",
   "execution_count": 563,
   "metadata": {},
   "outputs": [
    {
     "data": {
      "text/plain": [
       "50708.0"
      ]
     },
     "execution_count": 563,
     "metadata": {},
     "output_type": "execute_result"
    }
   ],
   "source": [
    "max(data[\"RevolvingUtilizationOfUnsecuredLines\"])"
   ]
  },
  {
   "cell_type": "code",
   "execution_count": 589,
   "metadata": {},
   "outputs": [
    {
     "name": "stdout",
     "output_type": "stream",
     "text": [
      "Counter = 171\n"
     ]
    },
    {
     "data": {
      "image/png": "[encoded data removed]",
      "text/plain": [
       "<matplotlib.figure.Figure at 0x7fc5642a96a0>"
      ]
     },
     "metadata": {},
     "output_type": "display_data"
    }
   ],
   "source": [
    "plt.yscale('log', nonposy='clip')\n",
    "plt.hist(data[\"RevolvingUtilizationOfUnsecuredLines\"]>10, bins=30)\n",
    "\n",
    "counter = 0\n",
    "for i in range(0,data.shape[0]):\n",
    "    if (data.iloc[i][\"RevolvingUtilizationOfUnsecuredLines\"] > 10):\n",
    "        counter +=1\n",
    "print (\"Counter = \" + str(counter))"
   ]
  },
  {
   "cell_type": "code",
   "execution_count": 587,
   "metadata": {},
   "outputs": [
    {
     "data": {
      "text/plain": [
       "2742"
      ]
     },
     "execution_count": 587,
     "metadata": {},
     "output_type": "execute_result"
    }
   ],
   "source": [
    "counter"
   ]
  },
  {
   "cell_type": "code",
   "execution_count": 568,
   "metadata": {},
   "outputs": [
    {
     "data": {
      "text/plain": [
       "SeriousDlqin2yrs                            0.000000\n",
       "RevolvingUtilizationOfUnsecuredLines    50708.000000\n",
       "age                                        55.000000\n",
       "NumberOfTime30-59DaysPastDueNotWorse        0.000000\n",
       "DebtRatio                                   0.221757\n",
       "MonthlyIncome                           38000.000000\n",
       "NumberOfOpenCreditLinesAndLoans             7.000000\n",
       "NumberOfTimes90DaysLate                     0.000000\n",
       "NumberRealEstateLoansOrLines                2.000000\n",
       "NumberOfTime60-89DaysPastDueNotWorse        0.000000\n",
       "NumberOfDependents                          0.000000\n",
       "Name: 85489, dtype: float64"
      ]
     },
     "execution_count": 568,
     "metadata": {},
     "output_type": "execute_result"
    }
   ],
   "source": [
    "data.loc[data[\"RevolvingUtilizationOfUnsecuredLines\"].idxmax()]"
   ]
  },
  {
   "cell_type": "code",
   "execution_count": null,
   "metadata": {
    "collapsed": true
   },
   "outputs": [],
   "source": []
  },
  {
   "cell_type": "code",
   "execution_count": null,
   "metadata": {
    "collapsed": true
   },
   "outputs": [],
   "source": []
  },
  {
   "cell_type": "code",
   "execution_count": null,
   "metadata": {
    "collapsed": true
   },
   "outputs": [],
   "source": []
  },
  {
   "cell_type": "code",
   "execution_count": 7,
   "metadata": {},
   "outputs": [
    {
     "name": "stderr",
     "output_type": "stream",
     "text": [
      "/home/tatiana/anaconda3/envs/my_projects_env/lib/python3.6/site-packages/sklearn/cross_validation.py:41: DeprecationWarning: This module was deprecated in version 0.18 in favor of the model_selection module into which all the refactored classes and functions are moved. Also note that the interface of the new CV iterators are different from that of this module. This module will be removed in 0.20.\n",
      "  \"This module will be removed in 0.20.\", DeprecationWarning)\n"
     ]
    }
   ],
   "source": [
    "import matplotlib.pyplot as plt\n",
    "from sklearn.datasets import make_classification\n",
    "from sklearn.linear_model import LogisticRegression\n",
    "from sklearn.ensemble import (RandomTreesEmbedding, RandomForestClassifier,\n",
    "                             GradientBoostingClassifier)\n",
    "from sklearn.preprocessing import OneHotEncoder\n",
    "from sklearn.model_selection import train_test_split\n",
    "from sklearn.metrics import roc_curve\n",
    "from sklearn.pipeline import make_pipeline\n",
    "\n",
    "import itertools\n",
    "import matplotlib.pyplot as plt\n",
    "from sklearn import svm, datasets\n",
    "from sklearn.model_selection import train_test_split\n",
    "from sklearn.metrics import confusion_matrix\n",
    "from sklearn.metrics import roc_curve, auc\n",
    "from sklearn.metrics import accuracy_score\n",
    "\n",
    "from numpy import loadtxt\n",
    "from xgboost import XGBClassifier"
   ]
  },
  {
   "cell_type": "code",
   "execution_count": 8,
   "metadata": {
    "collapsed": true
   },
   "outputs": [],
   "source": [
    "featureHeaders = list(data.columns)\n",
    "targetFeature = 'SeriousDlqin2yrs'\n",
    "featureHeaders.remove(targetFeature)\n",
    "train_percentage = 0.6\n",
    "test_percentage = 1 - train_percentage\n",
    "X_train, X_test, y_train, y_test = train_test_split(data[featureHeaders], data[targetFeature],\n",
    "                                                       train_size=train_percentage, test_size=test_percentage)"
   ]
  },
  {
   "cell_type": "code",
   "execution_count": 300,
   "metadata": {},
   "outputs": [
    {
     "data": {
      "text/html": [
       "<div>\n",
       "<style>\n",
       "    .dataframe thead tr:only-child th {\n",
       "        text-align: right;\n",
       "    }\n",
       "\n",
       "    .dataframe thead th {\n",
       "        text-align: left;\n",
       "    }\n",
       "\n",
       "    .dataframe tbody tr th {\n",
       "        vertical-align: top;\n",
       "    }\n",
       "</style>\n",
       "<table border=\"1\" class=\"dataframe\">\n",
       "  <thead>\n",
       "    <tr style=\"text-align: right;\">\n",
       "      <th></th>\n",
       "      <th>RevolvingUtilizationOfUnsecuredLines</th>\n",
       "      <th>age</th>\n",
       "      <th>NumberOfTime30-59DaysPastDueNotWorse</th>\n",
       "      <th>DebtRatio</th>\n",
       "      <th>MonthlyIncome</th>\n",
       "      <th>NumberOfOpenCreditLinesAndLoans</th>\n",
       "      <th>NumberOfTimes90DaysLate</th>\n",
       "      <th>NumberRealEstateLoansOrLines</th>\n",
       "      <th>NumberOfTime60-89DaysPastDueNotWorse</th>\n",
       "      <th>NumberOfDependents</th>\n",
       "    </tr>\n",
       "  </thead>\n",
       "  <tbody>\n",
       "    <tr>\n",
       "      <th>57459</th>\n",
       "      <td>0.794334</td>\n",
       "      <td>38</td>\n",
       "      <td>1</td>\n",
       "      <td>0.065857</td>\n",
       "      <td>5845.0</td>\n",
       "      <td>5</td>\n",
       "      <td>0</td>\n",
       "      <td>0</td>\n",
       "      <td>0</td>\n",
       "      <td>0.0</td>\n",
       "    </tr>\n",
       "    <tr>\n",
       "      <th>54185</th>\n",
       "      <td>0.273659</td>\n",
       "      <td>62</td>\n",
       "      <td>0</td>\n",
       "      <td>0.825301</td>\n",
       "      <td>1825.0</td>\n",
       "      <td>5</td>\n",
       "      <td>0</td>\n",
       "      <td>1</td>\n",
       "      <td>1</td>\n",
       "      <td>0.0</td>\n",
       "    </tr>\n",
       "    <tr>\n",
       "      <th>135298</th>\n",
       "      <td>0.019525</td>\n",
       "      <td>56</td>\n",
       "      <td>0</td>\n",
       "      <td>0.394063</td>\n",
       "      <td>12700.0</td>\n",
       "      <td>8</td>\n",
       "      <td>0</td>\n",
       "      <td>3</td>\n",
       "      <td>0</td>\n",
       "      <td>0.0</td>\n",
       "    </tr>\n",
       "    <tr>\n",
       "      <th>108495</th>\n",
       "      <td>0.782843</td>\n",
       "      <td>33</td>\n",
       "      <td>0</td>\n",
       "      <td>0.070937</td>\n",
       "      <td>5666.0</td>\n",
       "      <td>3</td>\n",
       "      <td>0</td>\n",
       "      <td>0</td>\n",
       "      <td>0</td>\n",
       "      <td>0.0</td>\n",
       "    </tr>\n",
       "    <tr>\n",
       "      <th>141222</th>\n",
       "      <td>0.000000</td>\n",
       "      <td>60</td>\n",
       "      <td>1</td>\n",
       "      <td>0.057094</td>\n",
       "      <td>5271.0</td>\n",
       "      <td>6</td>\n",
       "      <td>0</td>\n",
       "      <td>0</td>\n",
       "      <td>0</td>\n",
       "      <td>3.0</td>\n",
       "    </tr>\n",
       "    <tr>\n",
       "      <th>111583</th>\n",
       "      <td>0.103282</td>\n",
       "      <td>54</td>\n",
       "      <td>0</td>\n",
       "      <td>0.186818</td>\n",
       "      <td>9800.0</td>\n",
       "      <td>10</td>\n",
       "      <td>0</td>\n",
       "      <td>1</td>\n",
       "      <td>0</td>\n",
       "      <td>1.0</td>\n",
       "    </tr>\n",
       "    <tr>\n",
       "      <th>86777</th>\n",
       "      <td>0.030000</td>\n",
       "      <td>79</td>\n",
       "      <td>0</td>\n",
       "      <td>0.486681</td>\n",
       "      <td>8333.0</td>\n",
       "      <td>13</td>\n",
       "      <td>0</td>\n",
       "      <td>3</td>\n",
       "      <td>0</td>\n",
       "      <td>1.0</td>\n",
       "    </tr>\n",
       "    <tr>\n",
       "      <th>84186</th>\n",
       "      <td>0.199624</td>\n",
       "      <td>25</td>\n",
       "      <td>0</td>\n",
       "      <td>0.075693</td>\n",
       "      <td>3500.0</td>\n",
       "      <td>5</td>\n",
       "      <td>0</td>\n",
       "      <td>0</td>\n",
       "      <td>0</td>\n",
       "      <td>0.0</td>\n",
       "    </tr>\n",
       "    <tr>\n",
       "      <th>140320</th>\n",
       "      <td>0.006625</td>\n",
       "      <td>87</td>\n",
       "      <td>0</td>\n",
       "      <td>0.122480</td>\n",
       "      <td>6000.0</td>\n",
       "      <td>8</td>\n",
       "      <td>0</td>\n",
       "      <td>1</td>\n",
       "      <td>0</td>\n",
       "      <td>0.0</td>\n",
       "    </tr>\n",
       "    <tr>\n",
       "      <th>148914</th>\n",
       "      <td>0.076173</td>\n",
       "      <td>60</td>\n",
       "      <td>0</td>\n",
       "      <td>1.124750</td>\n",
       "      <td>2500.0</td>\n",
       "      <td>8</td>\n",
       "      <td>0</td>\n",
       "      <td>1</td>\n",
       "      <td>0</td>\n",
       "      <td>1.0</td>\n",
       "    </tr>\n",
       "    <tr>\n",
       "      <th>47939</th>\n",
       "      <td>0.816254</td>\n",
       "      <td>37</td>\n",
       "      <td>0</td>\n",
       "      <td>0.814364</td>\n",
       "      <td>6000.0</td>\n",
       "      <td>5</td>\n",
       "      <td>0</td>\n",
       "      <td>2</td>\n",
       "      <td>0</td>\n",
       "      <td>3.0</td>\n",
       "    </tr>\n",
       "    <tr>\n",
       "      <th>126858</th>\n",
       "      <td>0.824504</td>\n",
       "      <td>67</td>\n",
       "      <td>0</td>\n",
       "      <td>0.289038</td>\n",
       "      <td>11648.0</td>\n",
       "      <td>13</td>\n",
       "      <td>0</td>\n",
       "      <td>2</td>\n",
       "      <td>0</td>\n",
       "      <td>0.0</td>\n",
       "    </tr>\n",
       "    <tr>\n",
       "      <th>34293</th>\n",
       "      <td>0.040285</td>\n",
       "      <td>47</td>\n",
       "      <td>0</td>\n",
       "      <td>0.493132</td>\n",
       "      <td>5750.0</td>\n",
       "      <td>13</td>\n",
       "      <td>0</td>\n",
       "      <td>2</td>\n",
       "      <td>0</td>\n",
       "      <td>0.0</td>\n",
       "    </tr>\n",
       "    <tr>\n",
       "      <th>126401</th>\n",
       "      <td>0.018288</td>\n",
       "      <td>35</td>\n",
       "      <td>0</td>\n",
       "      <td>0.167819</td>\n",
       "      <td>12000.0</td>\n",
       "      <td>6</td>\n",
       "      <td>0</td>\n",
       "      <td>1</td>\n",
       "      <td>0</td>\n",
       "      <td>1.0</td>\n",
       "    </tr>\n",
       "    <tr>\n",
       "      <th>139244</th>\n",
       "      <td>0.139986</td>\n",
       "      <td>75</td>\n",
       "      <td>1</td>\n",
       "      <td>0.117432</td>\n",
       "      <td>5202.0</td>\n",
       "      <td>6</td>\n",
       "      <td>0</td>\n",
       "      <td>0</td>\n",
       "      <td>0</td>\n",
       "      <td>0.0</td>\n",
       "    </tr>\n",
       "    <tr>\n",
       "      <th>28108</th>\n",
       "      <td>0.061335</td>\n",
       "      <td>52</td>\n",
       "      <td>1</td>\n",
       "      <td>0.293541</td>\n",
       "      <td>5000.0</td>\n",
       "      <td>7</td>\n",
       "      <td>0</td>\n",
       "      <td>1</td>\n",
       "      <td>0</td>\n",
       "      <td>2.0</td>\n",
       "    </tr>\n",
       "    <tr>\n",
       "      <th>75555</th>\n",
       "      <td>0.904005</td>\n",
       "      <td>40</td>\n",
       "      <td>0</td>\n",
       "      <td>0.455778</td>\n",
       "      <td>7744.0</td>\n",
       "      <td>7</td>\n",
       "      <td>0</td>\n",
       "      <td>1</td>\n",
       "      <td>0</td>\n",
       "      <td>0.0</td>\n",
       "    </tr>\n",
       "    <tr>\n",
       "      <th>121997</th>\n",
       "      <td>0.855897</td>\n",
       "      <td>72</td>\n",
       "      <td>0</td>\n",
       "      <td>0.926143</td>\n",
       "      <td>7500.0</td>\n",
       "      <td>14</td>\n",
       "      <td>0</td>\n",
       "      <td>2</td>\n",
       "      <td>0</td>\n",
       "      <td>0.0</td>\n",
       "    </tr>\n",
       "    <tr>\n",
       "      <th>16753</th>\n",
       "      <td>0.990834</td>\n",
       "      <td>40</td>\n",
       "      <td>0</td>\n",
       "      <td>0.140609</td>\n",
       "      <td>6037.0</td>\n",
       "      <td>6</td>\n",
       "      <td>0</td>\n",
       "      <td>0</td>\n",
       "      <td>0</td>\n",
       "      <td>0.0</td>\n",
       "    </tr>\n",
       "    <tr>\n",
       "      <th>84580</th>\n",
       "      <td>0.066531</td>\n",
       "      <td>30</td>\n",
       "      <td>0</td>\n",
       "      <td>0.276436</td>\n",
       "      <td>1200.0</td>\n",
       "      <td>4</td>\n",
       "      <td>0</td>\n",
       "      <td>1</td>\n",
       "      <td>0</td>\n",
       "      <td>0.0</td>\n",
       "    </tr>\n",
       "    <tr>\n",
       "      <th>129603</th>\n",
       "      <td>0.028466</td>\n",
       "      <td>41</td>\n",
       "      <td>0</td>\n",
       "      <td>0.006199</td>\n",
       "      <td>5000.0</td>\n",
       "      <td>6</td>\n",
       "      <td>0</td>\n",
       "      <td>1</td>\n",
       "      <td>0</td>\n",
       "      <td>3.0</td>\n",
       "    </tr>\n",
       "    <tr>\n",
       "      <th>59853</th>\n",
       "      <td>0.000000</td>\n",
       "      <td>64</td>\n",
       "      <td>0</td>\n",
       "      <td>0.262393</td>\n",
       "      <td>8875.0</td>\n",
       "      <td>8</td>\n",
       "      <td>0</td>\n",
       "      <td>2</td>\n",
       "      <td>0</td>\n",
       "      <td>2.0</td>\n",
       "    </tr>\n",
       "    <tr>\n",
       "      <th>66505</th>\n",
       "      <td>0.830588</td>\n",
       "      <td>53</td>\n",
       "      <td>0</td>\n",
       "      <td>0.836297</td>\n",
       "      <td>4666.0</td>\n",
       "      <td>15</td>\n",
       "      <td>0</td>\n",
       "      <td>2</td>\n",
       "      <td>0</td>\n",
       "      <td>1.0</td>\n",
       "    </tr>\n",
       "    <tr>\n",
       "      <th>46550</th>\n",
       "      <td>0.078205</td>\n",
       "      <td>51</td>\n",
       "      <td>0</td>\n",
       "      <td>0.569635</td>\n",
       "      <td>4300.0</td>\n",
       "      <td>8</td>\n",
       "      <td>0</td>\n",
       "      <td>1</td>\n",
       "      <td>0</td>\n",
       "      <td>1.0</td>\n",
       "    </tr>\n",
       "    <tr>\n",
       "      <th>100397</th>\n",
       "      <td>0.013082</td>\n",
       "      <td>56</td>\n",
       "      <td>0</td>\n",
       "      <td>0.129347</td>\n",
       "      <td>10753.0</td>\n",
       "      <td>8</td>\n",
       "      <td>0</td>\n",
       "      <td>2</td>\n",
       "      <td>0</td>\n",
       "      <td>0.0</td>\n",
       "    </tr>\n",
       "    <tr>\n",
       "      <th>79907</th>\n",
       "      <td>0.910090</td>\n",
       "      <td>60</td>\n",
       "      <td>0</td>\n",
       "      <td>0.444770</td>\n",
       "      <td>3068.0</td>\n",
       "      <td>8</td>\n",
       "      <td>0</td>\n",
       "      <td>0</td>\n",
       "      <td>0</td>\n",
       "      <td>0.0</td>\n",
       "    </tr>\n",
       "    <tr>\n",
       "      <th>68903</th>\n",
       "      <td>0.227853</td>\n",
       "      <td>39</td>\n",
       "      <td>2</td>\n",
       "      <td>0.028055</td>\n",
       "      <td>90000.0</td>\n",
       "      <td>21</td>\n",
       "      <td>0</td>\n",
       "      <td>2</td>\n",
       "      <td>0</td>\n",
       "      <td>3.0</td>\n",
       "    </tr>\n",
       "    <tr>\n",
       "      <th>100513</th>\n",
       "      <td>0.365521</td>\n",
       "      <td>60</td>\n",
       "      <td>0</td>\n",
       "      <td>0.259731</td>\n",
       "      <td>6833.0</td>\n",
       "      <td>17</td>\n",
       "      <td>0</td>\n",
       "      <td>1</td>\n",
       "      <td>0</td>\n",
       "      <td>0.0</td>\n",
       "    </tr>\n",
       "    <tr>\n",
       "      <th>118932</th>\n",
       "      <td>0.003000</td>\n",
       "      <td>54</td>\n",
       "      <td>0</td>\n",
       "      <td>0.312922</td>\n",
       "      <td>7250.0</td>\n",
       "      <td>7</td>\n",
       "      <td>0</td>\n",
       "      <td>2</td>\n",
       "      <td>0</td>\n",
       "      <td>0.0</td>\n",
       "    </tr>\n",
       "    <tr>\n",
       "      <th>144320</th>\n",
       "      <td>0.088329</td>\n",
       "      <td>45</td>\n",
       "      <td>0</td>\n",
       "      <td>1.120879</td>\n",
       "      <td>181.0</td>\n",
       "      <td>5</td>\n",
       "      <td>0</td>\n",
       "      <td>0</td>\n",
       "      <td>0</td>\n",
       "      <td>2.0</td>\n",
       "    </tr>\n",
       "    <tr>\n",
       "      <th>...</th>\n",
       "      <td>...</td>\n",
       "      <td>...</td>\n",
       "      <td>...</td>\n",
       "      <td>...</td>\n",
       "      <td>...</td>\n",
       "      <td>...</td>\n",
       "      <td>...</td>\n",
       "      <td>...</td>\n",
       "      <td>...</td>\n",
       "      <td>...</td>\n",
       "    </tr>\n",
       "    <tr>\n",
       "      <th>5130</th>\n",
       "      <td>0.014874</td>\n",
       "      <td>60</td>\n",
       "      <td>0</td>\n",
       "      <td>0.312127</td>\n",
       "      <td>8723.0</td>\n",
       "      <td>14</td>\n",
       "      <td>0</td>\n",
       "      <td>2</td>\n",
       "      <td>0</td>\n",
       "      <td>0.0</td>\n",
       "    </tr>\n",
       "    <tr>\n",
       "      <th>7369</th>\n",
       "      <td>0.076771</td>\n",
       "      <td>45</td>\n",
       "      <td>0</td>\n",
       "      <td>0.298277</td>\n",
       "      <td>7891.0</td>\n",
       "      <td>6</td>\n",
       "      <td>0</td>\n",
       "      <td>1</td>\n",
       "      <td>0</td>\n",
       "      <td>2.0</td>\n",
       "    </tr>\n",
       "    <tr>\n",
       "      <th>17121</th>\n",
       "      <td>0.027291</td>\n",
       "      <td>52</td>\n",
       "      <td>0</td>\n",
       "      <td>0.319949</td>\n",
       "      <td>6250.0</td>\n",
       "      <td>3</td>\n",
       "      <td>0</td>\n",
       "      <td>2</td>\n",
       "      <td>0</td>\n",
       "      <td>1.0</td>\n",
       "    </tr>\n",
       "    <tr>\n",
       "      <th>36222</th>\n",
       "      <td>0.024108</td>\n",
       "      <td>46</td>\n",
       "      <td>0</td>\n",
       "      <td>0.177165</td>\n",
       "      <td>5000.0</td>\n",
       "      <td>9</td>\n",
       "      <td>0</td>\n",
       "      <td>1</td>\n",
       "      <td>0</td>\n",
       "      <td>0.0</td>\n",
       "    </tr>\n",
       "    <tr>\n",
       "      <th>82034</th>\n",
       "      <td>0.373987</td>\n",
       "      <td>73</td>\n",
       "      <td>1</td>\n",
       "      <td>0.203409</td>\n",
       "      <td>10500.0</td>\n",
       "      <td>11</td>\n",
       "      <td>0</td>\n",
       "      <td>1</td>\n",
       "      <td>0</td>\n",
       "      <td>0.0</td>\n",
       "    </tr>\n",
       "    <tr>\n",
       "      <th>21484</th>\n",
       "      <td>0.023405</td>\n",
       "      <td>66</td>\n",
       "      <td>0</td>\n",
       "      <td>0.021655</td>\n",
       "      <td>1800.0</td>\n",
       "      <td>5</td>\n",
       "      <td>0</td>\n",
       "      <td>0</td>\n",
       "      <td>0</td>\n",
       "      <td>0.0</td>\n",
       "    </tr>\n",
       "    <tr>\n",
       "      <th>149593</th>\n",
       "      <td>0.674530</td>\n",
       "      <td>56</td>\n",
       "      <td>1</td>\n",
       "      <td>0.248595</td>\n",
       "      <td>1600.0</td>\n",
       "      <td>3</td>\n",
       "      <td>0</td>\n",
       "      <td>0</td>\n",
       "      <td>0</td>\n",
       "      <td>1.0</td>\n",
       "    </tr>\n",
       "    <tr>\n",
       "      <th>124074</th>\n",
       "      <td>0.044440</td>\n",
       "      <td>56</td>\n",
       "      <td>0</td>\n",
       "      <td>0.016996</td>\n",
       "      <td>4000.0</td>\n",
       "      <td>5</td>\n",
       "      <td>0</td>\n",
       "      <td>0</td>\n",
       "      <td>0</td>\n",
       "      <td>1.0</td>\n",
       "    </tr>\n",
       "    <tr>\n",
       "      <th>123537</th>\n",
       "      <td>0.010451</td>\n",
       "      <td>90</td>\n",
       "      <td>0</td>\n",
       "      <td>0.003665</td>\n",
       "      <td>3000.0</td>\n",
       "      <td>12</td>\n",
       "      <td>0</td>\n",
       "      <td>0</td>\n",
       "      <td>0</td>\n",
       "      <td>0.0</td>\n",
       "    </tr>\n",
       "    <tr>\n",
       "      <th>22356</th>\n",
       "      <td>0.237546</td>\n",
       "      <td>47</td>\n",
       "      <td>0</td>\n",
       "      <td>0.441388</td>\n",
       "      <td>5416.0</td>\n",
       "      <td>13</td>\n",
       "      <td>0</td>\n",
       "      <td>1</td>\n",
       "      <td>0</td>\n",
       "      <td>0.0</td>\n",
       "    </tr>\n",
       "    <tr>\n",
       "      <th>9638</th>\n",
       "      <td>1.563273</td>\n",
       "      <td>62</td>\n",
       "      <td>2</td>\n",
       "      <td>0.034168</td>\n",
       "      <td>3833.0</td>\n",
       "      <td>5</td>\n",
       "      <td>0</td>\n",
       "      <td>0</td>\n",
       "      <td>1</td>\n",
       "      <td>0.0</td>\n",
       "    </tr>\n",
       "    <tr>\n",
       "      <th>66244</th>\n",
       "      <td>0.067406</td>\n",
       "      <td>33</td>\n",
       "      <td>0</td>\n",
       "      <td>0.074112</td>\n",
       "      <td>2900.0</td>\n",
       "      <td>5</td>\n",
       "      <td>0</td>\n",
       "      <td>0</td>\n",
       "      <td>0</td>\n",
       "      <td>0.0</td>\n",
       "    </tr>\n",
       "    <tr>\n",
       "      <th>47661</th>\n",
       "      <td>0.946792</td>\n",
       "      <td>43</td>\n",
       "      <td>1</td>\n",
       "      <td>0.317348</td>\n",
       "      <td>11781.0</td>\n",
       "      <td>5</td>\n",
       "      <td>0</td>\n",
       "      <td>2</td>\n",
       "      <td>0</td>\n",
       "      <td>3.0</td>\n",
       "    </tr>\n",
       "    <tr>\n",
       "      <th>9872</th>\n",
       "      <td>0.243529</td>\n",
       "      <td>73</td>\n",
       "      <td>0</td>\n",
       "      <td>0.154827</td>\n",
       "      <td>14583.0</td>\n",
       "      <td>16</td>\n",
       "      <td>0</td>\n",
       "      <td>1</td>\n",
       "      <td>0</td>\n",
       "      <td>0.0</td>\n",
       "    </tr>\n",
       "    <tr>\n",
       "      <th>64057</th>\n",
       "      <td>0.453153</td>\n",
       "      <td>58</td>\n",
       "      <td>0</td>\n",
       "      <td>0.336540</td>\n",
       "      <td>5300.0</td>\n",
       "      <td>11</td>\n",
       "      <td>0</td>\n",
       "      <td>0</td>\n",
       "      <td>0</td>\n",
       "      <td>0.0</td>\n",
       "    </tr>\n",
       "    <tr>\n",
       "      <th>74293</th>\n",
       "      <td>0.163447</td>\n",
       "      <td>65</td>\n",
       "      <td>0</td>\n",
       "      <td>0.753213</td>\n",
       "      <td>3500.0</td>\n",
       "      <td>13</td>\n",
       "      <td>0</td>\n",
       "      <td>1</td>\n",
       "      <td>0</td>\n",
       "      <td>0.0</td>\n",
       "    </tr>\n",
       "    <tr>\n",
       "      <th>74359</th>\n",
       "      <td>0.559147</td>\n",
       "      <td>48</td>\n",
       "      <td>1</td>\n",
       "      <td>0.127030</td>\n",
       "      <td>2400.0</td>\n",
       "      <td>3</td>\n",
       "      <td>0</td>\n",
       "      <td>0</td>\n",
       "      <td>0</td>\n",
       "      <td>3.0</td>\n",
       "    </tr>\n",
       "    <tr>\n",
       "      <th>109181</th>\n",
       "      <td>0.646844</td>\n",
       "      <td>41</td>\n",
       "      <td>0</td>\n",
       "      <td>1.253642</td>\n",
       "      <td>3500.0</td>\n",
       "      <td>9</td>\n",
       "      <td>0</td>\n",
       "      <td>2</td>\n",
       "      <td>0</td>\n",
       "      <td>0.0</td>\n",
       "    </tr>\n",
       "    <tr>\n",
       "      <th>5038</th>\n",
       "      <td>0.805256</td>\n",
       "      <td>47</td>\n",
       "      <td>0</td>\n",
       "      <td>0.528644</td>\n",
       "      <td>8500.0</td>\n",
       "      <td>8</td>\n",
       "      <td>0</td>\n",
       "      <td>2</td>\n",
       "      <td>0</td>\n",
       "      <td>2.0</td>\n",
       "    </tr>\n",
       "    <tr>\n",
       "      <th>95808</th>\n",
       "      <td>0.220571</td>\n",
       "      <td>53</td>\n",
       "      <td>3</td>\n",
       "      <td>0.247164</td>\n",
       "      <td>4583.0</td>\n",
       "      <td>14</td>\n",
       "      <td>2</td>\n",
       "      <td>2</td>\n",
       "      <td>0</td>\n",
       "      <td>0.0</td>\n",
       "    </tr>\n",
       "    <tr>\n",
       "      <th>122735</th>\n",
       "      <td>0.135586</td>\n",
       "      <td>31</td>\n",
       "      <td>0</td>\n",
       "      <td>0.206025</td>\n",
       "      <td>4547.0</td>\n",
       "      <td>7</td>\n",
       "      <td>0</td>\n",
       "      <td>0</td>\n",
       "      <td>0</td>\n",
       "      <td>1.0</td>\n",
       "    </tr>\n",
       "    <tr>\n",
       "      <th>53630</th>\n",
       "      <td>0.020561</td>\n",
       "      <td>68</td>\n",
       "      <td>0</td>\n",
       "      <td>0.297687</td>\n",
       "      <td>5750.0</td>\n",
       "      <td>10</td>\n",
       "      <td>0</td>\n",
       "      <td>1</td>\n",
       "      <td>0</td>\n",
       "      <td>1.0</td>\n",
       "    </tr>\n",
       "    <tr>\n",
       "      <th>113795</th>\n",
       "      <td>0.012995</td>\n",
       "      <td>41</td>\n",
       "      <td>1</td>\n",
       "      <td>1.420790</td>\n",
       "      <td>5800.0</td>\n",
       "      <td>14</td>\n",
       "      <td>0</td>\n",
       "      <td>4</td>\n",
       "      <td>0</td>\n",
       "      <td>3.0</td>\n",
       "    </tr>\n",
       "    <tr>\n",
       "      <th>418</th>\n",
       "      <td>0.020075</td>\n",
       "      <td>36</td>\n",
       "      <td>0</td>\n",
       "      <td>0.334245</td>\n",
       "      <td>4750.0</td>\n",
       "      <td>5</td>\n",
       "      <td>0</td>\n",
       "      <td>1</td>\n",
       "      <td>0</td>\n",
       "      <td>0.0</td>\n",
       "    </tr>\n",
       "    <tr>\n",
       "      <th>12251</th>\n",
       "      <td>0.539846</td>\n",
       "      <td>50</td>\n",
       "      <td>2</td>\n",
       "      <td>0.543845</td>\n",
       "      <td>4800.0</td>\n",
       "      <td>11</td>\n",
       "      <td>0</td>\n",
       "      <td>3</td>\n",
       "      <td>0</td>\n",
       "      <td>0.0</td>\n",
       "    </tr>\n",
       "    <tr>\n",
       "      <th>134334</th>\n",
       "      <td>0.556481</td>\n",
       "      <td>32</td>\n",
       "      <td>0</td>\n",
       "      <td>0.177564</td>\n",
       "      <td>5000.0</td>\n",
       "      <td>9</td>\n",
       "      <td>0</td>\n",
       "      <td>0</td>\n",
       "      <td>0</td>\n",
       "      <td>0.0</td>\n",
       "    </tr>\n",
       "    <tr>\n",
       "      <th>17457</th>\n",
       "      <td>1800.000000</td>\n",
       "      <td>63</td>\n",
       "      <td>0</td>\n",
       "      <td>0.190733</td>\n",
       "      <td>5200.0</td>\n",
       "      <td>9</td>\n",
       "      <td>0</td>\n",
       "      <td>1</td>\n",
       "      <td>0</td>\n",
       "      <td>0.0</td>\n",
       "    </tr>\n",
       "    <tr>\n",
       "      <th>10361</th>\n",
       "      <td>0.523556</td>\n",
       "      <td>44</td>\n",
       "      <td>0</td>\n",
       "      <td>0.237584</td>\n",
       "      <td>15000.0</td>\n",
       "      <td>6</td>\n",
       "      <td>0</td>\n",
       "      <td>1</td>\n",
       "      <td>0</td>\n",
       "      <td>2.0</td>\n",
       "    </tr>\n",
       "    <tr>\n",
       "      <th>28828</th>\n",
       "      <td>0.018077</td>\n",
       "      <td>72</td>\n",
       "      <td>0</td>\n",
       "      <td>0.121455</td>\n",
       "      <td>4865.0</td>\n",
       "      <td>17</td>\n",
       "      <td>0</td>\n",
       "      <td>2</td>\n",
       "      <td>0</td>\n",
       "      <td>0.0</td>\n",
       "    </tr>\n",
       "    <tr>\n",
       "      <th>142654</th>\n",
       "      <td>0.746849</td>\n",
       "      <td>55</td>\n",
       "      <td>2</td>\n",
       "      <td>0.313948</td>\n",
       "      <td>3885.0</td>\n",
       "      <td>10</td>\n",
       "      <td>0</td>\n",
       "      <td>0</td>\n",
       "      <td>1</td>\n",
       "      <td>0.0</td>\n",
       "    </tr>\n",
       "  </tbody>\n",
       "</table>\n",
       "<p>47212 rows × 10 columns</p>\n",
       "</div>"
      ],
      "text/plain": [
       "        RevolvingUtilizationOfUnsecuredLines  age  \\\n",
       "57459                               0.794334   38   \n",
       "54185                               0.273659   62   \n",
       "135298                              0.019525   56   \n",
       "108495                              0.782843   33   \n",
       "141222                              0.000000   60   \n",
       "111583                              0.103282   54   \n",
       "86777                               0.030000   79   \n",
       "84186                               0.199624   25   \n",
       "140320                              0.006625   87   \n",
       "148914                              0.076173   60   \n",
       "47939                               0.816254   37   \n",
       "126858                              0.824504   67   \n",
       "34293                               0.040285   47   \n",
       "126401                              0.018288   35   \n",
       "139244                              0.139986   75   \n",
       "28108                               0.061335   52   \n",
       "75555                               0.904005   40   \n",
       "121997                              0.855897   72   \n",
       "16753                               0.990834   40   \n",
       "84580                               0.066531   30   \n",
       "129603                              0.028466   41   \n",
       "59853                               0.000000   64   \n",
       "66505                               0.830588   53   \n",
       "46550                               0.078205   51   \n",
       "100397                              0.013082   56   \n",
       "79907                               0.910090   60   \n",
       "68903                               0.227853   39   \n",
       "100513                              0.365521   60   \n",
       "118932                              0.003000   54   \n",
       "144320                              0.088329   45   \n",
       "...                                      ...  ...   \n",
       "5130                                0.014874   60   \n",
       "7369                                0.076771   45   \n",
       "17121                               0.027291   52   \n",
       "36222                               0.024108   46   \n",
       "82034                               0.373987   73   \n",
       "21484                               0.023405   66   \n",
       "149593                              0.674530   56   \n",
       "124074                              0.044440   56   \n",
       "123537                              0.010451   90   \n",
       "22356                               0.237546   47   \n",
       "9638                                1.563273   62   \n",
       "66244                               0.067406   33   \n",
       "47661                               0.946792   43   \n",
       "9872                                0.243529   73   \n",
       "64057                               0.453153   58   \n",
       "74293                               0.163447   65   \n",
       "74359                               0.559147   48   \n",
       "109181                              0.646844   41   \n",
       "5038                                0.805256   47   \n",
       "95808                               0.220571   53   \n",
       "122735                              0.135586   31   \n",
       "53630                               0.020561   68   \n",
       "113795                              0.012995   41   \n",
       "418                                 0.020075   36   \n",
       "12251                               0.539846   50   \n",
       "134334                              0.556481   32   \n",
       "17457                            1800.000000   63   \n",
       "10361                               0.523556   44   \n",
       "28828                               0.018077   72   \n",
       "142654                              0.746849   55   \n",
       "\n",
       "        NumberOfTime30-59DaysPastDueNotWorse  DebtRatio  MonthlyIncome  \\\n",
       "57459                                      1   0.065857         5845.0   \n",
       "54185                                      0   0.825301         1825.0   \n",
       "135298                                     0   0.394063        12700.0   \n",
       "108495                                     0   0.070937         5666.0   \n",
       "141222                                     1   0.057094         5271.0   \n",
       "111583                                     0   0.186818         9800.0   \n",
       "86777                                      0   0.486681         8333.0   \n",
       "84186                                      0   0.075693         3500.0   \n",
       "140320                                     0   0.122480         6000.0   \n",
       "148914                                     0   1.124750         2500.0   \n",
       "47939                                      0   0.814364         6000.0   \n",
       "126858                                     0   0.289038        11648.0   \n",
       "34293                                      0   0.493132         5750.0   \n",
       "126401                                     0   0.167819        12000.0   \n",
       "139244                                     1   0.117432         5202.0   \n",
       "28108                                      1   0.293541         5000.0   \n",
       "75555                                      0   0.455778         7744.0   \n",
       "121997                                     0   0.926143         7500.0   \n",
       "16753                                      0   0.140609         6037.0   \n",
       "84580                                      0   0.276436         1200.0   \n",
       "129603                                     0   0.006199         5000.0   \n",
       "59853                                      0   0.262393         8875.0   \n",
       "66505                                      0   0.836297         4666.0   \n",
       "46550                                      0   0.569635         4300.0   \n",
       "100397                                     0   0.129347        10753.0   \n",
       "79907                                      0   0.444770         3068.0   \n",
       "68903                                      2   0.028055        90000.0   \n",
       "100513                                     0   0.259731         6833.0   \n",
       "118932                                     0   0.312922         7250.0   \n",
       "144320                                     0   1.120879          181.0   \n",
       "...                                      ...        ...            ...   \n",
       "5130                                       0   0.312127         8723.0   \n",
       "7369                                       0   0.298277         7891.0   \n",
       "17121                                      0   0.319949         6250.0   \n",
       "36222                                      0   0.177165         5000.0   \n",
       "82034                                      1   0.203409        10500.0   \n",
       "21484                                      0   0.021655         1800.0   \n",
       "149593                                     1   0.248595         1600.0   \n",
       "124074                                     0   0.016996         4000.0   \n",
       "123537                                     0   0.003665         3000.0   \n",
       "22356                                      0   0.441388         5416.0   \n",
       "9638                                       2   0.034168         3833.0   \n",
       "66244                                      0   0.074112         2900.0   \n",
       "47661                                      1   0.317348        11781.0   \n",
       "9872                                       0   0.154827        14583.0   \n",
       "64057                                      0   0.336540         5300.0   \n",
       "74293                                      0   0.753213         3500.0   \n",
       "74359                                      1   0.127030         2400.0   \n",
       "109181                                     0   1.253642         3500.0   \n",
       "5038                                       0   0.528644         8500.0   \n",
       "95808                                      3   0.247164         4583.0   \n",
       "122735                                     0   0.206025         4547.0   \n",
       "53630                                      0   0.297687         5750.0   \n",
       "113795                                     1   1.420790         5800.0   \n",
       "418                                        0   0.334245         4750.0   \n",
       "12251                                      2   0.543845         4800.0   \n",
       "134334                                     0   0.177564         5000.0   \n",
       "17457                                      0   0.190733         5200.0   \n",
       "10361                                      0   0.237584        15000.0   \n",
       "28828                                      0   0.121455         4865.0   \n",
       "142654                                     2   0.313948         3885.0   \n",
       "\n",
       "        NumberOfOpenCreditLinesAndLoans  NumberOfTimes90DaysLate  \\\n",
       "57459                                 5                        0   \n",
       "54185                                 5                        0   \n",
       "135298                                8                        0   \n",
       "108495                                3                        0   \n",
       "141222                                6                        0   \n",
       "111583                               10                        0   \n",
       "86777                                13                        0   \n",
       "84186                                 5                        0   \n",
       "140320                                8                        0   \n",
       "148914                                8                        0   \n",
       "47939                                 5                        0   \n",
       "126858                               13                        0   \n",
       "34293                                13                        0   \n",
       "126401                                6                        0   \n",
       "139244                                6                        0   \n",
       "28108                                 7                        0   \n",
       "75555                                 7                        0   \n",
       "121997                               14                        0   \n",
       "16753                                 6                        0   \n",
       "84580                                 4                        0   \n",
       "129603                                6                        0   \n",
       "59853                                 8                        0   \n",
       "66505                                15                        0   \n",
       "46550                                 8                        0   \n",
       "100397                                8                        0   \n",
       "79907                                 8                        0   \n",
       "68903                                21                        0   \n",
       "100513                               17                        0   \n",
       "118932                                7                        0   \n",
       "144320                                5                        0   \n",
       "...                                 ...                      ...   \n",
       "5130                                 14                        0   \n",
       "7369                                  6                        0   \n",
       "17121                                 3                        0   \n",
       "36222                                 9                        0   \n",
       "82034                                11                        0   \n",
       "21484                                 5                        0   \n",
       "149593                                3                        0   \n",
       "124074                                5                        0   \n",
       "123537                               12                        0   \n",
       "22356                                13                        0   \n",
       "9638                                  5                        0   \n",
       "66244                                 5                        0   \n",
       "47661                                 5                        0   \n",
       "9872                                 16                        0   \n",
       "64057                                11                        0   \n",
       "74293                                13                        0   \n",
       "74359                                 3                        0   \n",
       "109181                                9                        0   \n",
       "5038                                  8                        0   \n",
       "95808                                14                        2   \n",
       "122735                                7                        0   \n",
       "53630                                10                        0   \n",
       "113795                               14                        0   \n",
       "418                                   5                        0   \n",
       "12251                                11                        0   \n",
       "134334                                9                        0   \n",
       "17457                                 9                        0   \n",
       "10361                                 6                        0   \n",
       "28828                                17                        0   \n",
       "142654                               10                        0   \n",
       "\n",
       "        NumberRealEstateLoansOrLines  NumberOfTime60-89DaysPastDueNotWorse  \\\n",
       "57459                              0                                     0   \n",
       "54185                              1                                     1   \n",
       "135298                             3                                     0   \n",
       "108495                             0                                     0   \n",
       "141222                             0                                     0   \n",
       "111583                             1                                     0   \n",
       "86777                              3                                     0   \n",
       "84186                              0                                     0   \n",
       "140320                             1                                     0   \n",
       "148914                             1                                     0   \n",
       "47939                              2                                     0   \n",
       "126858                             2                                     0   \n",
       "34293                              2                                     0   \n",
       "126401                             1                                     0   \n",
       "139244                             0                                     0   \n",
       "28108                              1                                     0   \n",
       "75555                              1                                     0   \n",
       "121997                             2                                     0   \n",
       "16753                              0                                     0   \n",
       "84580                              1                                     0   \n",
       "129603                             1                                     0   \n",
       "59853                              2                                     0   \n",
       "66505                              2                                     0   \n",
       "46550                              1                                     0   \n",
       "100397                             2                                     0   \n",
       "79907                              0                                     0   \n",
       "68903                              2                                     0   \n",
       "100513                             1                                     0   \n",
       "118932                             2                                     0   \n",
       "144320                             0                                     0   \n",
       "...                              ...                                   ...   \n",
       "5130                               2                                     0   \n",
       "7369                               1                                     0   \n",
       "17121                              2                                     0   \n",
       "36222                              1                                     0   \n",
       "82034                              1                                     0   \n",
       "21484                              0                                     0   \n",
       "149593                             0                                     0   \n",
       "124074                             0                                     0   \n",
       "123537                             0                                     0   \n",
       "22356                              1                                     0   \n",
       "9638                               0                                     1   \n",
       "66244                              0                                     0   \n",
       "47661                              2                                     0   \n",
       "9872                               1                                     0   \n",
       "64057                              0                                     0   \n",
       "74293                              1                                     0   \n",
       "74359                              0                                     0   \n",
       "109181                             2                                     0   \n",
       "5038                               2                                     0   \n",
       "95808                              2                                     0   \n",
       "122735                             0                                     0   \n",
       "53630                              1                                     0   \n",
       "113795                             4                                     0   \n",
       "418                                1                                     0   \n",
       "12251                              3                                     0   \n",
       "134334                             0                                     0   \n",
       "17457                              1                                     0   \n",
       "10361                              1                                     0   \n",
       "28828                              2                                     0   \n",
       "142654                             0                                     1   \n",
       "\n",
       "        NumberOfDependents  \n",
       "57459                  0.0  \n",
       "54185                  0.0  \n",
       "135298                 0.0  \n",
       "108495                 0.0  \n",
       "141222                 3.0  \n",
       "111583                 1.0  \n",
       "86777                  1.0  \n",
       "84186                  0.0  \n",
       "140320                 0.0  \n",
       "148914                 1.0  \n",
       "47939                  3.0  \n",
       "126858                 0.0  \n",
       "34293                  0.0  \n",
       "126401                 1.0  \n",
       "139244                 0.0  \n",
       "28108                  2.0  \n",
       "75555                  0.0  \n",
       "121997                 0.0  \n",
       "16753                  0.0  \n",
       "84580                  0.0  \n",
       "129603                 3.0  \n",
       "59853                  2.0  \n",
       "66505                  1.0  \n",
       "46550                  1.0  \n",
       "100397                 0.0  \n",
       "79907                  0.0  \n",
       "68903                  3.0  \n",
       "100513                 0.0  \n",
       "118932                 0.0  \n",
       "144320                 2.0  \n",
       "...                    ...  \n",
       "5130                   0.0  \n",
       "7369                   2.0  \n",
       "17121                  1.0  \n",
       "36222                  0.0  \n",
       "82034                  0.0  \n",
       "21484                  0.0  \n",
       "149593                 1.0  \n",
       "124074                 1.0  \n",
       "123537                 0.0  \n",
       "22356                  0.0  \n",
       "9638                   0.0  \n",
       "66244                  0.0  \n",
       "47661                  3.0  \n",
       "9872                   0.0  \n",
       "64057                  0.0  \n",
       "74293                  0.0  \n",
       "74359                  3.0  \n",
       "109181                 0.0  \n",
       "5038                   2.0  \n",
       "95808                  0.0  \n",
       "122735                 1.0  \n",
       "53630                  1.0  \n",
       "113795                 3.0  \n",
       "418                    0.0  \n",
       "12251                  0.0  \n",
       "134334                 0.0  \n",
       "17457                  0.0  \n",
       "10361                  2.0  \n",
       "28828                  0.0  \n",
       "142654                 0.0  \n",
       "\n",
       "[47212 rows x 10 columns]"
      ]
     },
     "execution_count": 300,
     "metadata": {},
     "output_type": "execute_result"
    }
   ],
   "source": [
    "X_test"
   ]
  },
  {
   "cell_type": "code",
   "execution_count": 299,
   "metadata": {},
   "outputs": [
    {
     "data": {
      "text/plain": [
       "57459     0\n",
       "54185     0\n",
       "135298    0\n",
       "108495    0\n",
       "141222    0\n",
       "111583    0\n",
       "86777     0\n",
       "84186     0\n",
       "140320    0\n",
       "148914    0\n",
       "47939     1\n",
       "126858    0\n",
       "34293     0\n",
       "126401    0\n",
       "139244    0\n",
       "28108     1\n",
       "75555     0\n",
       "121997    0\n",
       "16753     0\n",
       "84580     0\n",
       "129603    0\n",
       "59853     0\n",
       "66505     0\n",
       "46550     0\n",
       "100397    0\n",
       "79907     0\n",
       "68903     0\n",
       "100513    0\n",
       "118932    0\n",
       "144320    0\n",
       "         ..\n",
       "5130      0\n",
       "7369      0\n",
       "17121     0\n",
       "36222     0\n",
       "82034     0\n",
       "21484     0\n",
       "149593    0\n",
       "124074    0\n",
       "123537    0\n",
       "22356     0\n",
       "9638      1\n",
       "66244     0\n",
       "47661     0\n",
       "9872      0\n",
       "64057     0\n",
       "74293     0\n",
       "74359     0\n",
       "109181    0\n",
       "5038      0\n",
       "95808     1\n",
       "122735    0\n",
       "53630     0\n",
       "113795    0\n",
       "418       0\n",
       "12251     0\n",
       "134334    0\n",
       "17457     0\n",
       "10361     1\n",
       "28828     0\n",
       "142654    1\n",
       "Name: SeriousDlqin2yrs, Length: 47212, dtype: int64"
      ]
     },
     "execution_count": 299,
     "metadata": {},
     "output_type": "execute_result"
    }
   ],
   "source": [
    "y_test"
   ]
  },
  {
   "cell_type": "code",
   "execution_count": 9,
   "metadata": {
    "collapsed": true
   },
   "outputs": [],
   "source": [
    "def run_LR_fit(X_train, X_test, y_train, y_test):\n",
    "    lr = LogisticRegression()\n",
    "    lr.fit(X_train,y_train)\n",
    "    y_pred = lr.predict_proba(X_test)[:,1]\n",
    "    print (lr.score(X_test,y_test))\n",
    "    return lr, y_pred"
   ]
  },
  {
   "cell_type": "code",
   "execution_count": 10,
   "metadata": {
    "collapsed": true
   },
   "outputs": [],
   "source": [
    "def run_RF_fit(X_train, X_test, y_train, y_test):\n",
    "    rf = RandomForestClassifier(n_estimators=100)\n",
    "    rf.fit(X_train, y_train)\n",
    "    y_pred = rf.predict_proba(X_test)[:,1]\n",
    "    print (rf.score(X_test, y_test))\n",
    "    return rf, y_pred"
   ]
  },
  {
   "cell_type": "code",
   "execution_count": 11,
   "metadata": {
    "collapsed": true
   },
   "outputs": [],
   "source": [
    "def run_XGB_fit(X_train, X_test, y_train, y_test): \n",
    "    xgb = XGBClassifier()\n",
    "    xgb.fit(X_train, y_train)\n",
    "    y_pred = xgb.predict_proba(X_test)[:,1]\n",
    "    print (xgb.score(X_test,y_test))\n",
    "    return xgb, y_pred\n",
    "    "
   ]
  },
  {
   "cell_type": "code",
   "execution_count": 12,
   "metadata": {
    "collapsed": true
   },
   "outputs": [],
   "source": [
    "def show_roc_curve(y_test, y_pred):\n",
    "    fpr, tpr, _ = roc_curve(y_test, y_pred)\n",
    "    roc_auc=auc(fpr, tpr)\n",
    "    plt.plot(fpr, tpr, label='AUC=%0.2f'% roc_auc)\n",
    "    plt.plot([0,1],[0,1],'r--')\n",
    "    plt.xlabel('False positive rate')\n",
    "    plt.ylabel('True positive rate')\n",
    "    plt.title('ROC curve')\n",
    "    plt.legend(loc='best')"
   ]
  },
  {
   "cell_type": "code",
   "execution_count": 13,
   "metadata": {
    "collapsed": true
   },
   "outputs": [],
   "source": [
    "def plot_confusion_matrix(cm,title='Confusion matrix',normalize=True,cmap=plt.cm.Blues):\n",
    "    \"\"\"\n",
    "    This function prints and plots the confusion matrix.\n",
    "    Normalization can be applied by setting `normalize=True`.\n",
    "    \"\"\"\n",
    "    classes = ['Responsible','Delinquent']\n",
    "    np.set_printoptions(precision=2)\n",
    "\n",
    "    # Plot normalized confusion matrix\n",
    "    plt.figure()\n",
    "    \n",
    "    if normalize:\n",
    "        cm = cm.astype('float') / cm.sum(axis=1)[:, np.newaxis]\n",
    "        print(\"Normalized confusion matrix\")\n",
    "    else:\n",
    "        print('Confusion matrix, without normalization')\n",
    "\n",
    "    print(cm)\n",
    "\n",
    "    plt.imshow(cm, interpolation='nearest', cmap=cmap)\n",
    "    plt.title(title)\n",
    "    plt.colorbar()\n",
    "    tick_marks = np.arange(len(classes))\n",
    "    plt.xticks(tick_marks, classes, rotation=45)\n",
    "    plt.yticks(tick_marks, classes)\n",
    "\n",
    "    fmt = '.2f' if normalize else 'd'\n",
    "    thresh = cm.max() / 2.\n",
    "    for i, j in itertools.product(range(cm.shape[0]), range(cm.shape[1])):\n",
    "        plt.text(j, i, format(int(cm[i, j]), fmt),\n",
    "                 horizontalalignment=\"center\",\n",
    "                 color=\"white\" if cm[i, j] > thresh else \"black\")\n",
    "\n",
    "    plt.tight_layout()\n",
    "    plt.ylabel('True label')\n",
    "    plt.xlabel('Predicted label')\n",
    "    plt.show()"
   ]
  },
  {
   "cell_type": "code",
   "execution_count": 14,
   "metadata": {
    "collapsed": true
   },
   "outputs": [],
   "source": [
    "from sklearn.metrics import classification_report\n",
    "\n",
    "def print_classification_report(y_test, y_pred):\n",
    "    y_pred_test = y_pred > 0.5\n",
    "    print(classification_report(y_test, y_pred_test))"
   ]
  },
  {
   "cell_type": "code",
   "execution_count": 15,
   "metadata": {},
   "outputs": [
    {
     "name": "stdout",
     "output_type": "stream",
     "text": [
      "0.932284165043\n"
     ]
    }
   ],
   "source": [
    "rf, y_pred = run_RF_fit(X_train,X_test,y_train,y_test)"
   ]
  },
  {
   "cell_type": "code",
   "execution_count": 16,
   "metadata": {},
   "outputs": [
    {
     "data": {
      "image/png": "[encoded data removed]",
      "text/plain": [
       "<matplotlib.figure.Figure at 0x7f7e8370d6a0>"
      ]
     },
     "metadata": {},
     "output_type": "display_data"
    }
   ],
   "source": [
    "show_roc_curve(y_test, y_pred)"
   ]
  },
  {
   "cell_type": "code",
   "execution_count": 17,
   "metadata": {},
   "outputs": [
    {
     "name": "stdout",
     "output_type": "stream",
     "text": [
      "             precision    recall  f1-score   support\n",
      "\n",
      "          0       0.94      0.99      0.96     43928\n",
      "          1       0.54      0.17      0.26      3284\n",
      "\n",
      "avg / total       0.91      0.93      0.92     47212\n",
      "\n"
     ]
    }
   ],
   "source": [
    "print_classification_report(y_test,y_pred)"
   ]
  },
  {
   "cell_type": "code",
   "execution_count": 18,
   "metadata": {},
   "outputs": [
    {
     "name": "stdout",
     "output_type": "stream",
     "text": [
      "Normalized confusion matrix\n",
      "[[ 0.99  0.01]\n",
      " [ 0.83  0.17]]\n"
     ]
    },
    {
     "data": {
      "image/png": "[encoded data removed]",
      "text/plain": [
       "<matplotlib.figure.Figure at 0x7f7e7fd41240>"
      ]
     },
     "metadata": {},
     "output_type": "display_data"
    }
   ],
   "source": [
    "cm = confusion_matrix(y_test, rf.predict(X_test))\n",
    "plot_confusion_matrix(cm,\"RF Full Dataset Confusion Matrix\")"
   ]
  },
  {
   "cell_type": "code",
   "execution_count": 114,
   "metadata": {},
   "outputs": [
    {
     "name": "stdout",
     "output_type": "stream",
     "text": [
      "0.929382360417\n"
     ]
    }
   ],
   "source": [
    "lr, y_pred = run_LR_fit(X_train,X_test,y_train,y_test)"
   ]
  },
  {
   "cell_type": "code",
   "execution_count": 115,
   "metadata": {},
   "outputs": [
    {
     "data": {
      "image/png": "[encoded data removed]",
      "text/plain": [
       "<matplotlib.figure.Figure at 0x7fc58d0090b8>"
      ]
     },
     "metadata": {},
     "output_type": "display_data"
    }
   ],
   "source": [
    "show_roc_curve(y_test, y_pred)"
   ]
  },
  {
   "cell_type": "code",
   "execution_count": 116,
   "metadata": {},
   "outputs": [
    {
     "name": "stdout",
     "output_type": "stream",
     "text": [
      "             precision    recall  f1-score   support\n",
      "\n",
      "          0       0.93      1.00      0.96     43866\n",
      "          1       0.54      0.02      0.04      3346\n",
      "\n",
      "avg / total       0.90      0.93      0.90     47212\n",
      "\n"
     ]
    }
   ],
   "source": [
    "print_classification_report(y_test,y_pred)"
   ]
  },
  {
   "cell_type": "code",
   "execution_count": 117,
   "metadata": {},
   "outputs": [
    {
     "name": "stdout",
     "output_type": "stream",
     "text": [
      "Normalized confusion matrix\n",
      "[[ 1.    0.  ]\n",
      " [ 0.98  0.02]]\n"
     ]
    },
    {
     "data": {
      "image/png": "[encoded data removed]",
      "text/plain": [
       "<matplotlib.figure.Figure at 0x7fc58d128a90>"
      ]
     },
     "metadata": {},
     "output_type": "display_data"
    }
   ],
   "source": [
    "cm = confusion_matrix(y_test, lr.predict(X_test))\n",
    "plot_confusion_matrix(cm, \"Logistic Regression Full Dataset Confusion Matrix\")"
   ]
  },
  {
   "cell_type": "code",
   "execution_count": 118,
   "metadata": {},
   "outputs": [
    {
     "name": "stdout",
     "output_type": "stream",
     "text": [
      "0.933173769381\n"
     ]
    }
   ],
   "source": [
    "xgb, y_pred = run_XGB_fit(X_train,X_test,y_train,y_test)"
   ]
  },
  {
   "cell_type": "code",
   "execution_count": 119,
   "metadata": {},
   "outputs": [
    {
     "data": {
      "image/png": "[encoded data removed]",
      "text/plain": [
       "<matplotlib.figure.Figure at 0x7fc58e94d198>"
      ]
     },
     "metadata": {},
     "output_type": "display_data"
    }
   ],
   "source": [
    "show_roc_curve(y_test, y_pred)"
   ]
  },
  {
   "cell_type": "code",
   "execution_count": 120,
   "metadata": {},
   "outputs": [
    {
     "name": "stdout",
     "output_type": "stream",
     "text": [
      "             precision    recall  f1-score   support\n",
      "\n",
      "          0       0.94      0.99      0.96     43866\n",
      "          1       0.60      0.17      0.27      3346\n",
      "\n",
      "avg / total       0.92      0.93      0.92     47212\n",
      "\n"
     ]
    }
   ],
   "source": [
    "print_classification_report(y_test,y_pred)"
   ]
  },
  {
   "cell_type": "code",
   "execution_count": 121,
   "metadata": {},
   "outputs": [
    {
     "name": "stdout",
     "output_type": "stream",
     "text": [
      "Normalized confusion matrix\n",
      "[[ 0.99  0.01]\n",
      " [ 0.83  0.17]]\n"
     ]
    },
    {
     "data": {
      "image/png": "[encoded data removed]",
      "text/plain": [
       "<matplotlib.figure.Figure at 0x7fc58d0357f0>"
      ]
     },
     "metadata": {},
     "output_type": "display_data"
    }
   ],
   "source": [
    "cm = confusion_matrix(y_test, xgb.predict(X_test))\n",
    "plot_confusion_matrix(cm,\"XGBoost Full Dataset Confusion Matrix\")"
   ]
  },
  {
   "cell_type": "markdown",
   "metadata": {},
   "source": [
    "# Now to compare with undersampling LR and RF and XGBoost"
   ]
  },
  {
   "cell_type": "markdown",
   "metadata": {},
   "source": [
    "**Use Mike's notebook about ensemble undersampling**"
   ]
  },
  {
   "cell_type": "code",
   "execution_count": 19,
   "metadata": {
    "collapsed": true
   },
   "outputs": [],
   "source": [
    "def classification_setup(df_data):\n",
    "    '''Returns X_data, y_data, ls_features'''\n",
    "    X_data, y_data = df_data, df_data['SeriousDlqin2yrs']\n",
    "    ls_features = list(X_data.keys())\n",
    "    class_index = ls_features.index('SeriousDlqin2yrs')\n",
    "    ls_features.pop(class_index)\n",
    "    return X_data, y_data, ls_features\n",
    "\n",
    "df_data = data\n",
    "X_data, y_data, ls_features = classification_setup(df_data)\n"
   ]
  },
  {
   "cell_type": "code",
   "execution_count": 20,
   "metadata": {
    "collapsed": true
   },
   "outputs": [],
   "source": [
    "def cv_setup(X_data, y_data):\n",
    "    '''Returns X_data, y_data, X_cv, y_cv, ls_features\n",
    "    X_cv, y_cv are randomized 10% of data with same class\n",
    "    proportions'''\n",
    "    \n",
    "    \n",
    "    pos_events = X_data[X_data['SeriousDlqin2yrs'] == 1]\n",
    "    neg_events = X_data[X_data['SeriousDlqin2yrs'] == 0]\n",
    "    number_pos_events, number_neg_events, number_events = (len(pos_events), \n",
    "                                                           len(neg_events),\n",
    "                                                           len(X_data))\n",
    "    pos_events = pos_events.reindex(np.random.permutation(pos_events.index))\n",
    "    neg_events = neg_events.reindex(np.random.permutation(neg_events.index))\n",
    "    X_cv = pd.concat([neg_events.tail(number_neg_events//10), \n",
    "                      pos_events.tail(number_pos_events//10)])\n",
    "    y_cv = X_cv['SeriousDlqin2yrs']\n",
    "\n",
    "    #Get rid of duplicates between CV and Test/Train bank of data\n",
    "    X_data = pd.concat([X_cv, X_data])\n",
    "    X_data = (X_data.reset_index()\n",
    "                    .drop_duplicates(subset= 'index', keep= False)\n",
    "                    .set_index('index'))\n",
    "    y_data = X_data['SeriousDlqin2yrs']\n",
    "    \n",
    "    return X_data, y_data, X_cv, y_cv, ls_features"
   ]
  },
  {
   "cell_type": "code",
   "execution_count": 21,
   "metadata": {
    "collapsed": true
   },
   "outputs": [],
   "source": [
    "def under_sample_kfold(X_data, y_data, n_folds = 10):\n",
    "    '''Returns list of 10 (default) folds of\n",
    "    X_train, X_test, y_train, y_test data'''\n",
    "    \n",
    "    pos_events = X_data[X_data['SeriousDlqin2yrs'] == 1]\n",
    "    neg_events = X_data[X_data['SeriousDlqin2yrs'] == 0]\n",
    "    \n",
    "    #Randomize and pick same n number of events\n",
    "    number_pos_events = len(pos_events)  \n",
    "    undersampled_folds = []\n",
    "\n",
    "    for fold in range(0, n_folds):\n",
    "        pos_events = pos_events.reindex(np.random.permutation(pos_events.index))\n",
    "        neg_events = neg_events.reindex(np.random.permutation(neg_events.index))\n",
    "        undersampled_events = pd.concat([neg_events.head(number_pos_events), pos_events])\n",
    "        X_data_u, y_data_u = undersampled_events, undersampled_events['SeriousDlqin2yrs']\n",
    "        X_train_u, X_test_u, y_train_u, y_test_u = train_test_split(X_data_u, y_data_u, test_size=0.3)\n",
    "        undersampled_folds.append([X_train_u, X_test_u, y_train_u, y_test_u])\n",
    "    return undersampled_folds\n",
    "\n",
    "\n",
    "folds = under_sample_kfold(X_data, y_data)"
   ]
  },
  {
   "cell_type": "code",
   "execution_count": 22,
   "metadata": {
    "collapsed": true
   },
   "outputs": [],
   "source": [
    "def ensemble_score(X_test, y_test, models, cutoff = 0.5, e_cutoff = 5):\n",
    "    '''Prints confusion matrix for an ensemble of models based on \n",
    "    probability cutoff (cutoff) of each model and voting cutoff \n",
    "    (e_cutoff) for an ensemble vote. Default is >50% probability\n",
    "    and > 5 votes out of 10'''\n",
    "    \n",
    "    for fold in range(0, len(models)):\n",
    "        X_test.loc[:, ('Prob fold ' + str(fold))] = models[fold].predict_proba(X_test[ls_features])[:,1]\n",
    "        X_test.loc[:, ('ADAPred fold ' + str(fold))] = (X_test[('Prob fold ' + str(fold))] >= cutoff).astype(int)\n",
    "    \n",
    "    X_test.loc[:, 'Ensemble Score'] = X_test[['ADAPred fold ' + str(i) for i in range(0, len(models))]].sum(axis = 1)\n",
    "    X_test.loc[:, 'Ensemble Pred'] = (X_test['Ensemble Score'] > e_cutoff).astype(int)\n",
    "\n",
    "    ensemble_conf = confusion_matrix(y_test, X_test[('Ensemble Pred')])\n",
    "    print (ensemble_conf)"
   ]
  },
  {
   "cell_type": "code",
   "execution_count": 23,
   "metadata": {
    "collapsed": true
   },
   "outputs": [],
   "source": [
    "def RF_undersample_ensemble(folds):\n",
    "    \n",
    "    X_train_all_folds = pd.DataFrame()\n",
    "    RF_ensemble = []\n",
    "    \n",
    "    for fold in folds:\n",
    "        X_train, X_test, y_train, y_test = fold[0], fold[1], fold[2], fold[3]\n",
    "    \n",
    "        rf = RandomForestClassifier(max_depth = 8, n_estimators = 100)\n",
    "        rf.fit(X_train[ls_features], y_train)\n",
    "        #Concatenate all train sets and store each fold models\n",
    "        X_train_all_folds = pd.concat([X_train_all_folds, X_train])\n",
    "        RF_ensemble.append(rf)\n",
    "    \n",
    "    #Call scorer\n",
    "    ensemble_score(X_cv, y_cv, RF_ensemble)\n",
    "    return RF_ensemble"
   ]
  },
  {
   "cell_type": "code",
   "execution_count": 218,
   "metadata": {
    "collapsed": true
   },
   "outputs": [],
   "source": [
    "def LR_undersample_ensemble(folds):\n",
    "    \n",
    "    X_train_all_folds = pd.DataFrame()\n",
    "    LR_ensemble = []\n",
    "    \n",
    "    for fold in folds:\n",
    "        X_train, X_test, y_train, y_test = fold[0], fold[1], fold[2], fold[3]\n",
    "    \n",
    "        lr = LogisticRegression()\n",
    "        lr.fit(X_train[ls_features], y_train)\n",
    "        #Concatenate all train sets and store each fold models\n",
    "        X_train_all_folds = pd.concat([X_train_all_folds, X_train])\n",
    "        LR_ensemble.append(lr)\n",
    "    \n",
    "    #Call scorer\n",
    "    ensemble_score(X_cv, y_cv, LR_ensemble)\n",
    "    return LR_ensemble"
   ]
  },
  {
   "cell_type": "code",
   "execution_count": 550,
   "metadata": {
    "collapsed": true
   },
   "outputs": [],
   "source": [
    "def XGB_undersample_ensemble(folds):\n",
    "    \n",
    "    X_train_all_folds = pd.DataFrame()\n",
    "    XGB_ensemble = []\n",
    "    \n",
    "    for fold in folds:\n",
    "        X_train, X_test, y_train, y_test = fold[0], fold[1], fold[2], fold[3]\n",
    "    \n",
    "        xgb = XGBClassifier()\n",
    "        xgb.fit(X_train[ls_features], y_train)\n",
    "        #Concatenate all train sets and store each fold models\n",
    "        X_train_all_folds = pd.concat([X_train_all_folds, X_train])\n",
    "        XGB_ensemble.append(xgb)\n",
    "    \n",
    "    #Call scorer\n",
    "    ensemble_score(X_cv, y_cv, XGB_ensemble)\n",
    "    return XGB_ensemble"
   ]
  },
  {
   "cell_type": "code",
   "execution_count": 24,
   "metadata": {
    "collapsed": true
   },
   "outputs": [],
   "source": [
    "#Remake our folds without including 10% of the data for a CV set\n",
    "X_data, y_data, X_cv, y_cv, ls_features = cv_setup(X_data, y_data)\n",
    "folds = under_sample_kfold(X_data, y_data)"
   ]
  },
  {
   "cell_type": "code",
   "execution_count": 25,
   "metadata": {},
   "outputs": [
    {
     "name": "stdout",
     "output_type": "stream",
     "text": [
      "[[8671 2304]\n",
      " [ 169  658]]\n"
     ]
    }
   ],
   "source": [
    "rf_ensemble = RF_undersample_ensemble(folds)"
   ]
  },
  {
   "cell_type": "markdown",
   "metadata": {},
   "source": [
    "[[8688 2287]\n",
    " [ 206  621]] with n_estimators = 100, max_depth = 8"
   ]
  },
  {
   "cell_type": "markdown",
   "metadata": {},
   "source": [
    "[[8705 2270]\n",
    " [ 215  612]] with n_estimators = 100"
   ]
  },
  {
   "cell_type": "markdown",
   "metadata": {},
   "source": [
    "[[8344 2631]\n",
    " [ 199  628]]\n",
    " worst (off-the shelf)"
   ]
  },
  {
   "cell_type": "code",
   "execution_count": 26,
   "metadata": {},
   "outputs": [
    {
     "data": {
      "text/plain": [
       "list"
      ]
     },
     "execution_count": 26,
     "metadata": {},
     "output_type": "execute_result"
    }
   ],
   "source": [
    "type(rf_ensemble)"
   ]
  },
  {
   "cell_type": "code",
   "execution_count": 27,
   "metadata": {},
   "outputs": [
    {
     "data": {
      "text/plain": [
       "sklearn.ensemble.forest.RandomForestClassifier"
      ]
     },
     "execution_count": 27,
     "metadata": {},
     "output_type": "execute_result"
    }
   ],
   "source": [
    "type(rf_ensemble[0])"
   ]
  },
  {
   "cell_type": "code",
   "execution_count": 219,
   "metadata": {},
   "outputs": [
    {
     "name": "stdout",
     "output_type": "stream",
     "text": [
      "[[9618 1357]\n",
      " [ 342  485]]\n"
     ]
    }
   ],
   "source": [
    "lr_ensemble = LR_undersample_ensemble(folds)"
   ]
  },
  {
   "cell_type": "code",
   "execution_count": 545,
   "metadata": {},
   "outputs": [
    {
     "data": {
      "text/plain": [
       "xgboost.sklearn.XGBClassifier"
      ]
     },
     "execution_count": 545,
     "metadata": {},
     "output_type": "execute_result"
    }
   ],
   "source": [
    "type(xgb_clf)"
   ]
  },
  {
   "cell_type": "code",
   "execution_count": 551,
   "metadata": {},
   "outputs": [
    {
     "name": "stdout",
     "output_type": "stream",
     "text": [
      "[[8752 2223]\n",
      " [ 216  611]]\n"
     ]
    }
   ],
   "source": [
    "xgb_ensemble = XGB_undersample_ensemble(folds)"
   ]
  },
  {
   "cell_type": "markdown",
   "metadata": {},
   "source": [
    "[[10933    42]\n",
    " [  278   549]] xgb orig"
   ]
  },
  {
   "cell_type": "code",
   "execution_count": 546,
   "metadata": {},
   "outputs": [
    {
     "name": "stdout",
     "output_type": "stream",
     "text": [
      "[[34500  9486]\n",
      " [  715  2511]]\n"
     ]
    }
   ],
   "source": [
    "print(confusion_matrix(y_test, xgb_clf.predict(X_test)))"
   ]
  },
  {
   "cell_type": "code",
   "execution_count": 548,
   "metadata": {},
   "outputs": [
    {
     "name": "stdout",
     "output_type": "stream",
     "text": [
      "[[33017 10969]\n",
      " [  620  2606]]\n"
     ]
    }
   ],
   "source": [
    "print(confusion_matrix(y_test, rf_ensemble[0].predict(X_test)))"
   ]
  },
  {
   "cell_type": "code",
   "execution_count": 552,
   "metadata": {
    "collapsed": true
   },
   "outputs": [],
   "source": [
    "cm_list = [confusion_matrix(y_test, xgb_ensemble[i].predict(X_test)) for i in range (0,len(xgb_ensemble))]"
   ]
  },
  {
   "cell_type": "code",
   "execution_count": 553,
   "metadata": {},
   "outputs": [
    {
     "name": "stdout",
     "output_type": "stream",
     "text": [
      "Normalized confusion matrix\n",
      "[[ 0.79  0.21]\n",
      " [ 0.23  0.77]]\n"
     ]
    },
    {
     "data": {
      "image/png": "[encoded data removed]",
      "text/plain": [
       "<matplotlib.figure.Figure at 0x7fc57e14f9b0>"
      ]
     },
     "metadata": {},
     "output_type": "display_data"
    }
   ],
   "source": [
    "cm_xgb = sum(cm_list)/len(cm_list)\n",
    "plot_confusion_matrix(cm_xgb,\"XGBoost Trained Confusion Matrix\")"
   ]
  },
  {
   "cell_type": "code",
   "execution_count": 28,
   "metadata": {
    "collapsed": true
   },
   "outputs": [],
   "source": [
    "cm_list = [confusion_matrix(y_test, rf_ensemble[i].predict(X_test)) for i in range (0,len(rf_ensemble))]"
   ]
  },
  {
   "cell_type": "code",
   "execution_count": 29,
   "metadata": {},
   "outputs": [
    {
     "name": "stdout",
     "output_type": "stream",
     "text": [
      "Normalized confusion matrix\n",
      "[[ 0.78  0.22]\n",
      " [ 0.21  0.79]]\n"
     ]
    },
    {
     "data": {
      "image/png": "[encoded data removed]",
      "text/plain": [
       "<matplotlib.figure.Figure at 0x7f7e7fa78710>"
      ]
     },
     "metadata": {},
     "output_type": "display_data"
    }
   ],
   "source": [
    "cm_rf = sum(cm_list)/len(cm_list)\n",
    "plot_confusion_matrix(cm_rf,\"Random Forest Trained Confusion Matrix\")"
   ]
  },
  {
   "cell_type": "code",
   "execution_count": 31,
   "metadata": {},
   "outputs": [
    {
     "name": "stdout",
     "output_type": "stream",
     "text": [
      "Confusion matrix, without normalization\n",
      "[[ 34332.1   9595.9]\n",
      " [   684.7   2599.3]]\n"
     ]
    },
    {
     "ename": "ValueError",
     "evalue": "Unknown format code 'd' for object of type 'float'",
     "output_type": "error",
     "traceback": [
      "\u001b[0;31m---------------------------------------------------------------------------\u001b[0m",
      "\u001b[0;31mValueError\u001b[0m                                Traceback (most recent call last)",
      "\u001b[0;32m<ipython-input-31-fe2d830482ab>\u001b[0m in \u001b[0;36m<module>\u001b[0;34m()\u001b[0m\n\u001b[0;32m----> 1\u001b[0;31m \u001b[0mplot_confusion_matrix\u001b[0m\u001b[0;34m(\u001b[0m\u001b[0mcm_rf\u001b[0m\u001b[0;34m,\u001b[0m \u001b[0;34m\"Random Forest Trained Confusion Matrix, non-Normalized\"\u001b[0m\u001b[0;34m,\u001b[0m\u001b[0mnormalize\u001b[0m\u001b[0;34m=\u001b[0m\u001b[0;32mFalse\u001b[0m\u001b[0;34m)\u001b[0m\u001b[0;34m\u001b[0m\u001b[0m\n\u001b[0m",
      "\u001b[0;32m<ipython-input-13-e6db2d0c5692>\u001b[0m in \u001b[0;36mplot_confusion_matrix\u001b[0;34m(cm, title, normalize, cmap)\u001b[0m\n\u001b[1;32m     28\u001b[0m     \u001b[0mthresh\u001b[0m \u001b[0;34m=\u001b[0m \u001b[0mcm\u001b[0m\u001b[0;34m.\u001b[0m\u001b[0mmax\u001b[0m\u001b[0;34m(\u001b[0m\u001b[0;34m)\u001b[0m \u001b[0;34m/\u001b[0m \u001b[0;36m2.\u001b[0m\u001b[0;34m\u001b[0m\u001b[0m\n\u001b[1;32m     29\u001b[0m     \u001b[0;32mfor\u001b[0m \u001b[0mi\u001b[0m\u001b[0;34m,\u001b[0m \u001b[0mj\u001b[0m \u001b[0;32min\u001b[0m \u001b[0mitertools\u001b[0m\u001b[0;34m.\u001b[0m\u001b[0mproduct\u001b[0m\u001b[0;34m(\u001b[0m\u001b[0mrange\u001b[0m\u001b[0;34m(\u001b[0m\u001b[0mcm\u001b[0m\u001b[0;34m.\u001b[0m\u001b[0mshape\u001b[0m\u001b[0;34m[\u001b[0m\u001b[0;36m0\u001b[0m\u001b[0;34m]\u001b[0m\u001b[0;34m)\u001b[0m\u001b[0;34m,\u001b[0m \u001b[0mrange\u001b[0m\u001b[0;34m(\u001b[0m\u001b[0mcm\u001b[0m\u001b[0;34m.\u001b[0m\u001b[0mshape\u001b[0m\u001b[0;34m[\u001b[0m\u001b[0;36m1\u001b[0m\u001b[0;34m]\u001b[0m\u001b[0;34m)\u001b[0m\u001b[0;34m)\u001b[0m\u001b[0;34m:\u001b[0m\u001b[0;34m\u001b[0m\u001b[0m\n\u001b[0;32m---> 30\u001b[0;31m         plt.text(j, i, format(cm[i, j], fmt),\n\u001b[0m\u001b[1;32m     31\u001b[0m                  \u001b[0mhorizontalalignment\u001b[0m\u001b[0;34m=\u001b[0m\u001b[0;34m\"center\"\u001b[0m\u001b[0;34m,\u001b[0m\u001b[0;34m\u001b[0m\u001b[0m\n\u001b[1;32m     32\u001b[0m                  color=\"white\" if cm[i, j] > thresh else \"black\")\n",
      "\u001b[0;31mValueError\u001b[0m: Unknown format code 'd' for object of type 'float'"
     ]
    },
    {
     "data": {
      "image/png": "[encoded data removed]",
      "text/plain": [
       "<matplotlib.figure.Figure at 0x7f7e7f995c88>"
      ]
     },
     "metadata": {},
     "output_type": "display_data"
    }
   ],
   "source": [
    "plot_confusion_matrix(cm_rf, \"Random Forest Trained Confusion Matrix, non-Normalized\",normalize=False)"
   ]
  },
  {
   "cell_type": "code",
   "execution_count": null,
   "metadata": {
    "collapsed": true
   },
   "outputs": [],
   "source": []
  },
  {
   "cell_type": "code",
   "execution_count": 135,
   "metadata": {},
   "outputs": [
    {
     "name": "stdout",
     "output_type": "stream",
     "text": [
      "[[43805    61]\n",
      " [ 3273    73]]\n"
     ]
    }
   ],
   "source": [
    "print(confusion_matrix(y_test, lr.predict(X_test)))"
   ]
  },
  {
   "cell_type": "code",
   "execution_count": 136,
   "metadata": {},
   "outputs": [
    {
     "name": "stdout",
     "output_type": "stream",
     "text": [
      "[[43480   386]\n",
      " [ 2769   577]]\n"
     ]
    }
   ],
   "source": [
    "print(confusion_matrix(y_test, xgb.predict(X_test)))"
   ]
  },
  {
   "cell_type": "code",
   "execution_count": 556,
   "metadata": {
    "collapsed": true
   },
   "outputs": [],
   "source": [
    "cm_list = [confusion_matrix(y_test, lr_ensemble[i].predict(X_test)) for i in range (0,len(lr_ensemble))]"
   ]
  },
  {
   "cell_type": "code",
   "execution_count": 557,
   "metadata": {},
   "outputs": [
    {
     "name": "stdout",
     "output_type": "stream",
     "text": [
      "Normalized confusion matrix\n",
      "[[ 0.85  0.15]\n",
      " [ 0.39  0.61]]\n"
     ]
    },
    {
     "data": {
      "image/png": "[encoded data removed]",
      "text/plain": [
       "<matplotlib.figure.Figure at 0x7fc56487eda0>"
      ]
     },
     "metadata": {},
     "output_type": "display_data"
    }
   ],
   "source": [
    "cm_lr = sum(cm_list)/len(cm_list)\n",
    "plot_confusion_matrix(cm_lr,\"Logistic Regression Trained Confusion Matrix\")"
   ]
  },
  {
   "cell_type": "code",
   "execution_count": 247,
   "metadata": {},
   "outputs": [
    {
     "data": {
      "image/png": "[encoded data removed]",
      "text/plain": [
       "<matplotlib.figure.Figure at 0x7fc58d01fe80>"
      ]
     },
     "metadata": {},
     "output_type": "display_data"
    }
   ],
   "source": [
    "y_pred_lr_list = [lr_ensemble[i].predict_proba(X_test)[:] for i in range (0,len(lr_ensemble))]\n",
    "y_pred_lr = sum(y_pred_lr_list)/len(y_pred_lr_list)\n",
    "show_roc_curve(y_test,y_pred_lr[:,1])"
   ]
  },
  {
   "cell_type": "code",
   "execution_count": null,
   "metadata": {
    "collapsed": true
   },
   "outputs": [],
   "source": []
  },
  {
   "cell_type": "code",
   "execution_count": null,
   "metadata": {
    "collapsed": true
   },
   "outputs": [],
   "source": []
  },
  {
   "cell_type": "code",
   "execution_count": null,
   "metadata": {
    "collapsed": true
   },
   "outputs": [],
   "source": []
  },
  {
   "cell_type": "code",
   "execution_count": null,
   "metadata": {
    "collapsed": true
   },
   "outputs": [],
   "source": []
  },
  {
   "cell_type": "code",
   "execution_count": null,
   "metadata": {
    "collapsed": true
   },
   "outputs": [],
   "source": []
  },
  {
   "cell_type": "code",
   "execution_count": null,
   "metadata": {
    "collapsed": true
   },
   "outputs": [],
   "source": []
  },
  {
   "cell_type": "code",
   "execution_count": null,
   "metadata": {
    "collapsed": true
   },
   "outputs": [],
   "source": []
  },
  {
   "cell_type": "code",
   "execution_count": null,
   "metadata": {
    "collapsed": true
   },
   "outputs": [],
   "source": []
  },
  {
   "cell_type": "code",
   "execution_count": null,
   "metadata": {
    "collapsed": true
   },
   "outputs": [],
   "source": []
  },
  {
   "cell_type": "code",
   "execution_count": null,
   "metadata": {
    "collapsed": true
   },
   "outputs": [],
   "source": []
  },
  {
   "cell_type": "code",
   "execution_count": null,
   "metadata": {
    "collapsed": true
   },
   "outputs": [],
   "source": []
  },
  {
   "cell_type": "code",
   "execution_count": null,
   "metadata": {
    "collapsed": true
   },
   "outputs": [],
   "source": []
  },
  {
   "cell_type": "markdown",
   "metadata": {},
   "source": [
    "# Learning curves"
   ]
  },
  {
   "cell_type": "code",
   "execution_count": 250,
   "metadata": {},
   "outputs": [
    {
     "data": {
      "image/png": "[encoded data removed]",
      "text/plain": [
       "<matplotlib.figure.Figure at 0x7fc58e32ff98>"
      ]
     },
     "metadata": {},
     "output_type": "display_data"
    }
   ],
   "source": [
    "from sklearn.model_selection import (\n",
    "    learning_curve, StratifiedShuffleSplit, GridSearchCV, cross_val_score,\n",
    "    ShuffleSplit, cross_val_predict)\n",
    "\n",
    "# Select 10 different sizes of the complete dataset\n",
    "sample_space = np.linspace(100, len(X_test) * 0.8, 10, dtype='int')\n",
    "\n",
    "# Compute learning curves without regularization\n",
    "train_sizes, train_scores, valid_scores = learning_curve(\n",
    "    estimator=RandomForestClassifier(n_estimators = 10),\n",
    "    X=X_test,\n",
    "    y=y_test,\n",
    "    train_sizes=sample_space,\n",
    "    cv=StratifiedShuffleSplit(n_splits=10, test_size=0.2, random_state=1),\n",
    "    scoring='recall',\n",
    "    n_jobs=-1\n",
    ")\n",
    "\n",
    "def make_tidy(sample_space, train_scores, valid_scores):\n",
    "    # Join train_scores and valid_scores, and label with sample_space\n",
    "    messy_format = pd.DataFrame(\n",
    "        np.stack((sample_space, train_scores.mean(axis=1),\n",
    "                  valid_scores.mean(axis=1)), axis=1),\n",
    "        columns=['# of training examples', 'Training set', 'Validation set']\n",
    "    )\n",
    "    \n",
    "    # Re-structure into into tidy format\n",
    "    return pd.melt(\n",
    "        messy_format,\n",
    "        id_vars='# of training examples',\n",
    "        value_vars=['Training set', 'Validation set'],\n",
    "        var_name='Scores',\n",
    "        value_name='Precision score'\n",
    "    )\n",
    "\n",
    "import seaborn as sns\n",
    "# Initialize a FacetGrid object using the table of scores and facet on\n",
    "# the score from the different sets\n",
    "fig = sns.FacetGrid(\n",
    "    make_tidy(sample_space, train_scores, valid_scores), hue='Scores', size=5\n",
    ")\n",
    "\n",
    "# Plot the learning curves, add a legend, and rescale y-axis\n",
    "fig.map(plt.scatter, '# of training examples', 'Precision score')\n",
    "fig.map(plt.plot, '# of training examples', 'Precision score') \\\n",
    "    .add_legend() \\\n",
    "    .set(ylim=(0.5, 1));\n"
   ]
  },
  {
   "cell_type": "code",
   "execution_count": 439,
   "metadata": {},
   "outputs": [
    {
     "data": {
      "text/plain": [
       "array([[ 0.93,  0.93,  0.93,  0.93,  0.93],\n",
       "       [ 0.93,  0.93,  0.93,  0.93,  0.93],\n",
       "       [ 0.93,  0.93,  0.93,  0.93,  0.93]])"
      ]
     },
     "execution_count": 439,
     "metadata": {},
     "output_type": "execute_result"
    }
   ],
   "source": [
    "from sklearn.model_selection import learning_curve\n",
    "from sklearn.svm import SVC\n",
    "\n",
    "train_sizes, train_scores, valid_scores = learning_curve(\n",
    "    RandomForestClassifier(n_estimators=100), X_train, y_train, train_sizes=[50, 80, 110], cv=5)\n",
    "train_sizes            \n",
    "\n",
    "train_scores           \n",
    "\n",
    "\n",
    "valid_scores    "
   ]
  },
  {
   "cell_type": "code",
   "execution_count": 510,
   "metadata": {},
   "outputs": [
    {
     "name": "stdout",
     "output_type": "stream",
     "text": [
      "Automatically created module for IPython interactive environment\n",
      "Learning curves took 33.67340707778931 seconds\n"
     ]
    },
    {
     "data": {
      "image/png": "[encoded data removed]",
      "text/plain": [
       "<matplotlib.figure.Figure at 0x7fc57d7e10b8>"
      ]
     },
     "metadata": {},
     "output_type": "display_data"
    }
   ],
   "source": [
    "print(__doc__)\n",
    "\n",
    "from sklearn.naive_bayes import GaussianNB\n",
    "from sklearn.svm import SVC\n",
    "from sklearn.datasets import load_digits\n",
    "from sklearn.model_selection import ShuffleSplit\n",
    "\n",
    "\n",
    "def plot_learning_curve(estimator, title, X, y, ylim=None, cv=None,\n",
    "                        n_jobs=1, train_sizes=np.linspace(.1, 1.0, 5)):\n",
    "   \n",
    "    plt.figure()\n",
    "    plt.title(title)\n",
    "    if ylim is not None:\n",
    "        plt.ylim(*ylim)\n",
    "    plt.xlabel(\"Training examples\")\n",
    "    plt.ylabel(\"Score\")\n",
    "    train_sizes, train_scores, test_scores = learning_curve(\n",
    "        estimator, X, y, cv=cv, n_jobs=n_jobs, train_sizes=train_sizes)\n",
    "    train_scores_mean = np.mean(train_scores, axis=1)\n",
    "    train_scores_std = np.std(train_scores, axis=1)\n",
    "    test_scores_mean = np.mean(test_scores, axis=1)\n",
    "    test_scores_std = np.std(test_scores, axis=1)\n",
    "    plt.grid()\n",
    "\n",
    "    plt.fill_between(train_sizes, train_scores_mean - train_scores_std,\n",
    "                     train_scores_mean + train_scores_std, alpha=0.1,\n",
    "                     color=\"r\")\n",
    "    plt.fill_between(train_sizes, test_scores_mean - test_scores_std,\n",
    "                     test_scores_mean + test_scores_std, alpha=0.1, color=\"g\")\n",
    "    plt.plot(train_sizes, train_scores_mean, 'o-', color=\"r\",\n",
    "             label=\"Training score\")\n",
    "    plt.plot(train_sizes, test_scores_mean, 'o-', color=\"g\",\n",
    "             label=\"Cross-validation score\")\n",
    "\n",
    "    plt.legend(loc=\"best\")\n",
    "    return plt\n",
    "\n",
    "import time\n",
    "\n",
    "title = \"Learning Curves (Random Forest)\"\n",
    "# Cross validation with 100 iterations to get smoother mean test and train\n",
    "# score curves, each time with 20% data randomly selected as a validation set.\n",
    "cv = ShuffleSplit(n_splits=100, test_size=0.2, random_state=0)\n",
    "\n",
    "start = time.time()\n",
    "estimator = rf_ensemble\n",
    "plot_learning_curve(estimator, title, X_test[:1000], y_test[:1000], ylim=(0.7, 1.01), cv=cv, n_jobs=4)\n",
    "end = time.time()\n",
    "print(\"Learning curves took \" + str(end - start) + \" seconds\")\n",
    "      \n",
    "plt.show()"
   ]
  },
  {
   "cell_type": "code",
   "execution_count": 527,
   "metadata": {},
   "outputs": [
    {
     "data": {
      "text/plain": [
       "array([ 0.14,  0.11,  0.14])"
      ]
     },
     "execution_count": 527,
     "metadata": {},
     "output_type": "execute_result"
    }
   ],
   "source": [
    "cross_val_score(rf_ensemble[1], X_test, y_test, scoring='recall')"
   ]
  },
  {
   "cell_type": "code",
   "execution_count": 529,
   "metadata": {
    "collapsed": true
   },
   "outputs": [],
   "source": [
    "def mean(numbers):\n",
    "    return float(sum(numbers)) / max(len(numbers), 1)"
   ]
  },
  {
   "cell_type": "code",
   "execution_count": 530,
   "metadata": {},
   "outputs": [
    {
     "ename": "TypeError",
     "evalue": "only length-1 arrays can be converted to Python scalars",
     "output_type": "error",
     "traceback": [
      "\u001b[0;31m---------------------------------------------------------------------------\u001b[0m",
      "\u001b[0;31mTypeError\u001b[0m                                 Traceback (most recent call last)",
      "\u001b[0;32m<ipython-input-530-f46bb28472e6>\u001b[0m in \u001b[0;36m<module>\u001b[0;34m()\u001b[0m\n\u001b[1;32m      3\u001b[0m     \u001b[0mcm_rf_ens\u001b[0m\u001b[0;34m.\u001b[0m\u001b[0mappend\u001b[0m\u001b[0;34m(\u001b[0m\u001b[0mconfusion_matrix\u001b[0m\u001b[0;34m(\u001b[0m\u001b[0my_test\u001b[0m\u001b[0;34m,\u001b[0m \u001b[0mrf_ensemble\u001b[0m\u001b[0;34m[\u001b[0m\u001b[0mi\u001b[0m\u001b[0;34m]\u001b[0m\u001b[0;34m.\u001b[0m\u001b[0mpredict\u001b[0m\u001b[0;34m(\u001b[0m\u001b[0mX_test\u001b[0m\u001b[0;34m)\u001b[0m\u001b[0;34m)\u001b[0m\u001b[0;34m)\u001b[0m\u001b[0;34m\u001b[0m\u001b[0m\n\u001b[1;32m      4\u001b[0m \u001b[0;34m\u001b[0m\u001b[0m\n\u001b[0;32m----> 5\u001b[0;31m \u001b[0mplot_confusion_matrix\u001b[0m\u001b[0;34m(\u001b[0m\u001b[0mmean\u001b[0m\u001b[0;34m(\u001b[0m\u001b[0mcm_rf_ens\u001b[0m\u001b[0;34m)\u001b[0m\u001b[0;34m,\u001b[0m\u001b[0;34m\"Random Forest Trained Confusion Matrix\"\u001b[0m\u001b[0;34m)\u001b[0m\u001b[0;34m\u001b[0m\u001b[0m\n\u001b[0m",
      "\u001b[0;32m<ipython-input-529-0ff91ddd1702>\u001b[0m in \u001b[0;36mmean\u001b[0;34m(numbers)\u001b[0m\n\u001b[1;32m      1\u001b[0m \u001b[0;32mdef\u001b[0m \u001b[0mmean\u001b[0m\u001b[0;34m(\u001b[0m\u001b[0mnumbers\u001b[0m\u001b[0;34m)\u001b[0m\u001b[0;34m:\u001b[0m\u001b[0;34m\u001b[0m\u001b[0m\n\u001b[0;32m----> 2\u001b[0;31m     \u001b[0;32mreturn\u001b[0m \u001b[0mfloat\u001b[0m\u001b[0;34m(\u001b[0m\u001b[0msum\u001b[0m\u001b[0;34m(\u001b[0m\u001b[0mnumbers\u001b[0m\u001b[0;34m)\u001b[0m\u001b[0;34m)\u001b[0m \u001b[0;34m/\u001b[0m \u001b[0mmax\u001b[0m\u001b[0;34m(\u001b[0m\u001b[0mlen\u001b[0m\u001b[0;34m(\u001b[0m\u001b[0mnumbers\u001b[0m\u001b[0;34m)\u001b[0m\u001b[0;34m,\u001b[0m \u001b[0;36m1\u001b[0m\u001b[0;34m)\u001b[0m\u001b[0;34m\u001b[0m\u001b[0m\n\u001b[0m",
      "\u001b[0;31mTypeError\u001b[0m: only length-1 arrays can be converted to Python scalars"
     ]
    }
   ],
   "source": [
    "cm_rf_ens = []\n",
    "for i in range(0,len(rf_ensemble)):\n",
    "    cm_rf_ens.append(confusion_matrix(y_test, rf_ensemble[i].predict(X_test)))\n",
    "    \n",
    "plot_confusion_matrix(mean(cm_rf_ens),\"Random Forest Trained Confusion Matrix\")"
   ]
  },
  {
   "cell_type": "code",
   "execution_count": 301,
   "metadata": {},
   "outputs": [
    {
     "name": "stdout",
     "output_type": "stream",
     "text": [
      "Normalized confusion matrix\n",
      "[[ 0.79  0.21]\n",
      " [ 0.09  0.91]]\n"
     ]
    },
    {
     "data": {
      "image/png": "[encoded data removed]",
      "text/plain": [
       "<matplotlib.figure.Figure at 0x7fc58e2907b8>"
      ]
     },
     "metadata": {},
     "output_type": "display_data"
    }
   ],
   "source": [
    "cm_rf = confusion_matrix(y_test, rf_ensemble.predict(X_test))\n",
    "plot_confusion_matrix(cm_rf,\"Random Forest Trained Confusion Matrix\")"
   ]
  },
  {
   "cell_type": "code",
   "execution_count": 143,
   "metadata": {},
   "outputs": [
    {
     "data": {
      "text/plain": [
       "sklearn.ensemble.forest.RandomForestClassifier"
      ]
     },
     "execution_count": 143,
     "metadata": {},
     "output_type": "execute_result"
    }
   ],
   "source": [
    "type(rf_ensemble)"
   ]
  },
  {
   "cell_type": "code",
   "execution_count": 145,
   "metadata": {},
   "outputs": [
    {
     "data": {
      "image/png": "[encoded data removed]",
      "text/plain": [
       "<matplotlib.figure.Figure at 0x7fc58e289c50>"
      ]
     },
     "metadata": {},
     "output_type": "display_data"
    }
   ],
   "source": [
    "y_pred = rf_ensemble.predict_proba(X_test)[:,1]\n",
    "show_roc_curve(y_test, y_pred)"
   ]
  },
  {
   "cell_type": "markdown",
   "metadata": {},
   "source": [
    "FPR = false pos/total neg prec/recall lookign at one class only"
   ]
  },
  {
   "cell_type": "code",
   "execution_count": 303,
   "metadata": {},
   "outputs": [
    {
     "data": {
      "text/plain": [
       "['RevolvingUtilizationOfUnsecuredLines',\n",
       " 'age',\n",
       " 'NumberOfTime30-59DaysPastDueNotWorse',\n",
       " 'DebtRatio',\n",
       " 'MonthlyIncome',\n",
       " 'NumberOfOpenCreditLinesAndLoans',\n",
       " 'NumberOfTimes90DaysLate',\n",
       " 'NumberRealEstateLoansOrLines',\n",
       " 'NumberOfTime60-89DaysPastDueNotWorse',\n",
       " 'NumberOfDependents']"
      ]
     },
     "execution_count": 303,
     "metadata": {},
     "output_type": "execute_result"
    }
   ],
   "source": [
    "featureHeaders"
   ]
  },
  {
   "cell_type": "code",
   "execution_count": 304,
   "metadata": {
    "collapsed": true
   },
   "outputs": [],
   "source": [
    "featureHeaders_readable = ['% Credit Used',\n",
    " 'Age',\n",
    " 'No. Times 1-2 months late',\n",
    " 'Ratio Debt to Income',\n",
    " 'Monthly Income',\n",
    " 'No. Of Open Credit Lines',\n",
    " 'No. Of Times 3 months late',\n",
    " 'No. Of Real Estate Loans',\n",
    " 'Number Of Times 2-3 months late',\n",
    " 'Number Of Dependents']"
   ]
  },
  {
   "cell_type": "code",
   "execution_count": 312,
   "metadata": {},
   "outputs": [
    {
     "name": "stdout",
     "output_type": "stream",
     "text": [
      "Feature ranking:\n",
      "1. % Credit Used (0.253371)\n",
      "2. Ratio Debt to Income (0.133622)\n",
      "3. Monthly Income (0.126576)\n",
      "4. Age (0.111364)\n",
      "5. Number Of Times 1-2 months late (0.094480)\n",
      "6. Number Of Open Credit Lines (0.081992)\n",
      "7. Number Of Times 3 months late (0.080868)\n",
      "8. Number Of Dependents (0.046101)\n",
      "9. Number Of Real Estate Loans (0.036117)\n",
      "10. Number Of Times 2-3 months late (0.035510)\n"
     ]
    },
    {
     "data": {
      "image/png": "[encoded data removed]",
      "text/plain": [
       "<matplotlib.figure.Figure at 0x7fc57ebe0e80>"
      ]
     },
     "metadata": {},
     "output_type": "display_data"
    }
   ],
   "source": [
    "from sklearn.datasets import make_classification\n",
    "from sklearn.ensemble import ExtraTreesClassifier\n",
    "\n",
    "\n",
    "importances = rf_ensemble.feature_importances_\n",
    "std = np.std([tree.feature_importances_ for tree in rf_ensemble.estimators_],\n",
    "             axis=0)\n",
    "indices = np.argsort(importances)[::-1]\n",
    "\n",
    "arr1inds = arr1.argsort()\n",
    "arr1 = indices\n",
    "arr2 = np.array(featureHeaders_readable) #featureHeaders is the name of my list of features\n",
    "sorted_arr2 = arr2[arr1inds[::1]] #this bit of code sorts my list of features according to \n",
    "                                  #the order yielded by rf_ensemble.feature_importances_\n",
    "\n",
    "# Print the feature ranking\n",
    "print(\"Feature ranking:\")\n",
    "\n",
    "for f in range(X_train.shape[1]):\n",
    "    print(\"%d. %s (%f)\" % (f + 1, sorted_arr2[f], importances[indices[f]]))\n",
    "\n",
    "# Plot the feature importances of the forest\n",
    "plt.figure()\n",
    "plt.title(\"Feature importances\", fontsize=20)\n",
    "plt.barh(range(X_train.shape[1]), importances[indices],\n",
    "       color=\"r\", yerr=std[indices], align=\"center\")\n",
    "plt.yticks(range(X_train.shape[1]), sorted_arr2, rotation=0, ha='right')\n",
    "plt.gca().invert_yaxis()\n",
    "plt.xlim([-0.01, 0.26])#X_train.shape[1]])\n",
    "plt.gcf().set_size_inches(8,8)\n",
    "plt.tick_params(labelsize=20)\n",
    "plt.show()"
   ]
  },
  {
   "cell_type": "markdown",
   "metadata": {},
   "source": [
    "display hist over other hist about predicted prob for those who were ground truth no and ground truth yes"
   ]
  },
  {
   "cell_type": "code",
   "execution_count": 268,
   "metadata": {},
   "outputs": [
    {
     "data": {
      "text/plain": [
       "array([  1.40e-01,   6.80e+01,   1.00e+00,   3.14e-01,   1.33e+04,\n",
       "         8.00e+00,   0.00e+00,   2.00e+00,   0.00e+00,   0.00e+00])"
      ]
     },
     "execution_count": 268,
     "metadata": {},
     "output_type": "execute_result"
    }
   ],
   "source": [
    "X_test[0]"
   ]
  },
  {
   "cell_type": "code",
   "execution_count": 270,
   "metadata": {},
   "outputs": [
    {
     "data": {
      "text/plain": [
       "1"
      ]
     },
     "execution_count": 270,
     "metadata": {},
     "output_type": "execute_result"
    }
   ],
   "source": [
    "y_test[0]"
   ]
  },
  {
   "cell_type": "code",
   "execution_count": 265,
   "metadata": {},
   "outputs": [
    {
     "data": {
      "text/html": [
       "<div>\n",
       "<style>\n",
       "    .dataframe thead tr:only-child th {\n",
       "        text-align: right;\n",
       "    }\n",
       "\n",
       "    .dataframe thead th {\n",
       "        text-align: left;\n",
       "    }\n",
       "\n",
       "    .dataframe tbody tr th {\n",
       "        vertical-align: top;\n",
       "    }\n",
       "</style>\n",
       "<table border=\"1\" class=\"dataframe\">\n",
       "  <thead>\n",
       "    <tr style=\"text-align: right;\">\n",
       "      <th></th>\n",
       "      <th>SeriousDlqin2yrs</th>\n",
       "      <th>RevolvingUtilizationOfUnsecuredLines</th>\n",
       "      <th>age</th>\n",
       "      <th>NumberOfTime30-59DaysPastDueNotWorse</th>\n",
       "      <th>DebtRatio</th>\n",
       "      <th>MonthlyIncome</th>\n",
       "      <th>NumberOfOpenCreditLinesAndLoans</th>\n",
       "      <th>NumberOfTimes90DaysLate</th>\n",
       "      <th>NumberRealEstateLoansOrLines</th>\n",
       "      <th>NumberOfTime60-89DaysPastDueNotWorse</th>\n",
       "      <th>NumberOfDependents</th>\n",
       "    </tr>\n",
       "  </thead>\n",
       "  <tbody>\n",
       "    <tr>\n",
       "      <th>0</th>\n",
       "      <td>1</td>\n",
       "      <td>0.766127</td>\n",
       "      <td>45</td>\n",
       "      <td>2</td>\n",
       "      <td>0.802982</td>\n",
       "      <td>9120.0</td>\n",
       "      <td>13</td>\n",
       "      <td>0</td>\n",
       "      <td>6</td>\n",
       "      <td>0</td>\n",
       "      <td>2.0</td>\n",
       "    </tr>\n",
       "    <tr>\n",
       "      <th>1</th>\n",
       "      <td>0</td>\n",
       "      <td>0.957151</td>\n",
       "      <td>40</td>\n",
       "      <td>0</td>\n",
       "      <td>0.121876</td>\n",
       "      <td>2600.0</td>\n",
       "      <td>4</td>\n",
       "      <td>0</td>\n",
       "      <td>0</td>\n",
       "      <td>0</td>\n",
       "      <td>1.0</td>\n",
       "    </tr>\n",
       "    <tr>\n",
       "      <th>2</th>\n",
       "      <td>0</td>\n",
       "      <td>0.658180</td>\n",
       "      <td>38</td>\n",
       "      <td>1</td>\n",
       "      <td>0.085113</td>\n",
       "      <td>3042.0</td>\n",
       "      <td>2</td>\n",
       "      <td>1</td>\n",
       "      <td>0</td>\n",
       "      <td>0</td>\n",
       "      <td>0.0</td>\n",
       "    </tr>\n",
       "    <tr>\n",
       "      <th>3</th>\n",
       "      <td>0</td>\n",
       "      <td>0.233810</td>\n",
       "      <td>30</td>\n",
       "      <td>0</td>\n",
       "      <td>0.036050</td>\n",
       "      <td>3300.0</td>\n",
       "      <td>5</td>\n",
       "      <td>0</td>\n",
       "      <td>0</td>\n",
       "      <td>0</td>\n",
       "      <td>0.0</td>\n",
       "    </tr>\n",
       "    <tr>\n",
       "      <th>4</th>\n",
       "      <td>0</td>\n",
       "      <td>0.907239</td>\n",
       "      <td>49</td>\n",
       "      <td>1</td>\n",
       "      <td>0.024926</td>\n",
       "      <td>63588.0</td>\n",
       "      <td>7</td>\n",
       "      <td>0</td>\n",
       "      <td>1</td>\n",
       "      <td>0</td>\n",
       "      <td>0.0</td>\n",
       "    </tr>\n",
       "  </tbody>\n",
       "</table>\n",
       "</div>"
      ],
      "text/plain": [
       "   SeriousDlqin2yrs  RevolvingUtilizationOfUnsecuredLines  age  \\\n",
       "0                 1                              0.766127   45   \n",
       "1                 0                              0.957151   40   \n",
       "2                 0                              0.658180   38   \n",
       "3                 0                              0.233810   30   \n",
       "4                 0                              0.907239   49   \n",
       "\n",
       "   NumberOfTime30-59DaysPastDueNotWorse  DebtRatio  MonthlyIncome  \\\n",
       "0                                     2   0.802982         9120.0   \n",
       "1                                     0   0.121876         2600.0   \n",
       "2                                     1   0.085113         3042.0   \n",
       "3                                     0   0.036050         3300.0   \n",
       "4                                     1   0.024926        63588.0   \n",
       "\n",
       "   NumberOfOpenCreditLinesAndLoans  NumberOfTimes90DaysLate  \\\n",
       "0                               13                        0   \n",
       "1                                4                        0   \n",
       "2                                2                        1   \n",
       "3                                5                        0   \n",
       "4                                7                        0   \n",
       "\n",
       "   NumberRealEstateLoansOrLines  NumberOfTime60-89DaysPastDueNotWorse  \\\n",
       "0                             6                                     0   \n",
       "1                             0                                     0   \n",
       "2                             0                                     0   \n",
       "3                             0                                     0   \n",
       "4                             1                                     0   \n",
       "\n",
       "   NumberOfDependents  \n",
       "0                 2.0  \n",
       "1                 1.0  \n",
       "2                 0.0  \n",
       "3                 0.0  \n",
       "4                 0.0  "
      ]
     },
     "execution_count": 265,
     "metadata": {},
     "output_type": "execute_result"
    }
   ],
   "source": [
    "data"
   ]
  },
  {
   "cell_type": "code",
   "execution_count": 267,
   "metadata": {},
   "outputs": [
    {
     "data": {
      "text/plain": [
       "SeriousDlqin2yrs                           0.000000\n",
       "RevolvingUtilizationOfUnsecuredLines       0.004833\n",
       "age                                       77.000000\n",
       "NumberOfTime30-59DaysPastDueNotWorse       0.000000\n",
       "DebtRatio                                  0.000000\n",
       "MonthlyIncome                           1740.000000\n",
       "NumberOfOpenCreditLinesAndLoans            1.000000\n",
       "NumberOfTimes90DaysLate                    0.000000\n",
       "NumberRealEstateLoansOrLines               0.000000\n",
       "NumberOfTime60-89DaysPastDueNotWorse       0.000000\n",
       "NumberOfDependents                         0.000000\n",
       "Name: 68214, dtype: float64"
      ]
     },
     "execution_count": 267,
     "metadata": {},
     "output_type": "execute_result"
    }
   ],
   "source": [
    "data.loc[68214]"
   ]
  },
  {
   "cell_type": "code",
   "execution_count": 290,
   "metadata": {},
   "outputs": [
    {
     "data": {
      "text/plain": [
       "1"
      ]
     },
     "execution_count": 290,
     "metadata": {},
     "output_type": "execute_result"
    }
   ],
   "source": [
    "data.loc[71056,'SeriousDlqin2yrs']"
   ]
  },
  {
   "cell_type": "code",
   "execution_count": 313,
   "metadata": {},
   "outputs": [
    {
     "data": {
      "text/plain": [
       "pandas.core.frame.DataFrame"
      ]
     },
     "execution_count": 313,
     "metadata": {},
     "output_type": "execute_result"
    }
   ],
   "source": [
    "type(X_test)"
   ]
  },
  {
   "cell_type": "code",
   "execution_count": 341,
   "metadata": {},
   "outputs": [
    {
     "data": {
      "text/plain": [
       "pandas.core.series.Series"
      ]
     },
     "execution_count": 341,
     "metadata": {},
     "output_type": "execute_result"
    }
   ],
   "source": [
    "type(y_test)"
   ]
  },
  {
   "cell_type": "code",
   "execution_count": 325,
   "metadata": {
    "collapsed": true
   },
   "outputs": [],
   "source": [
    "test_Yeses = y_test.index[y_test.index[1]==1].tolist()"
   ]
  },
  {
   "cell_type": "code",
   "execution_count": 340,
   "metadata": {},
   "outputs": [
    {
     "data": {
      "text/html": [
       "<div>\n",
       "<style>\n",
       "    .dataframe thead tr:only-child th {\n",
       "        text-align: right;\n",
       "    }\n",
       "\n",
       "    .dataframe thead th {\n",
       "        text-align: left;\n",
       "    }\n",
       "\n",
       "    .dataframe tbody tr th {\n",
       "        vertical-align: top;\n",
       "    }\n",
       "</style>\n",
       "<table border=\"1\" class=\"dataframe\">\n",
       "  <thead>\n",
       "    <tr style=\"text-align: right;\">\n",
       "      <th></th>\n",
       "      <th>RevolvingUtilizationOfUnsecuredLines</th>\n",
       "      <th>age</th>\n",
       "      <th>NumberOfTime30-59DaysPastDueNotWorse</th>\n",
       "      <th>DebtRatio</th>\n",
       "      <th>MonthlyIncome</th>\n",
       "      <th>NumberOfOpenCreditLinesAndLoans</th>\n",
       "      <th>NumberOfTimes90DaysLate</th>\n",
       "      <th>NumberRealEstateLoansOrLines</th>\n",
       "      <th>NumberOfTime60-89DaysPastDueNotWorse</th>\n",
       "      <th>NumberOfDependents</th>\n",
       "    </tr>\n",
       "  </thead>\n",
       "  <tbody>\n",
       "    <tr>\n",
       "      <th>57459</th>\n",
       "      <td>0.794334</td>\n",
       "      <td>38</td>\n",
       "      <td>1</td>\n",
       "      <td>0.065857</td>\n",
       "      <td>5845.0</td>\n",
       "      <td>5</td>\n",
       "      <td>0</td>\n",
       "      <td>0</td>\n",
       "      <td>0</td>\n",
       "      <td>0.0</td>\n",
       "    </tr>\n",
       "    <tr>\n",
       "      <th>54185</th>\n",
       "      <td>0.273659</td>\n",
       "      <td>62</td>\n",
       "      <td>0</td>\n",
       "      <td>0.825301</td>\n",
       "      <td>1825.0</td>\n",
       "      <td>5</td>\n",
       "      <td>0</td>\n",
       "      <td>1</td>\n",
       "      <td>1</td>\n",
       "      <td>0.0</td>\n",
       "    </tr>\n",
       "    <tr>\n",
       "      <th>135298</th>\n",
       "      <td>0.019525</td>\n",
       "      <td>56</td>\n",
       "      <td>0</td>\n",
       "      <td>0.394063</td>\n",
       "      <td>12700.0</td>\n",
       "      <td>8</td>\n",
       "      <td>0</td>\n",
       "      <td>3</td>\n",
       "      <td>0</td>\n",
       "      <td>0.0</td>\n",
       "    </tr>\n",
       "    <tr>\n",
       "      <th>108495</th>\n",
       "      <td>0.782843</td>\n",
       "      <td>33</td>\n",
       "      <td>0</td>\n",
       "      <td>0.070937</td>\n",
       "      <td>5666.0</td>\n",
       "      <td>3</td>\n",
       "      <td>0</td>\n",
       "      <td>0</td>\n",
       "      <td>0</td>\n",
       "      <td>0.0</td>\n",
       "    </tr>\n",
       "    <tr>\n",
       "      <th>141222</th>\n",
       "      <td>0.000000</td>\n",
       "      <td>60</td>\n",
       "      <td>1</td>\n",
       "      <td>0.057094</td>\n",
       "      <td>5271.0</td>\n",
       "      <td>6</td>\n",
       "      <td>0</td>\n",
       "      <td>0</td>\n",
       "      <td>0</td>\n",
       "      <td>3.0</td>\n",
       "    </tr>\n",
       "    <tr>\n",
       "      <th>111583</th>\n",
       "      <td>0.103282</td>\n",
       "      <td>54</td>\n",
       "      <td>0</td>\n",
       "      <td>0.186818</td>\n",
       "      <td>9800.0</td>\n",
       "      <td>10</td>\n",
       "      <td>0</td>\n",
       "      <td>1</td>\n",
       "      <td>0</td>\n",
       "      <td>1.0</td>\n",
       "    </tr>\n",
       "    <tr>\n",
       "      <th>86777</th>\n",
       "      <td>0.030000</td>\n",
       "      <td>79</td>\n",
       "      <td>0</td>\n",
       "      <td>0.486681</td>\n",
       "      <td>8333.0</td>\n",
       "      <td>13</td>\n",
       "      <td>0</td>\n",
       "      <td>3</td>\n",
       "      <td>0</td>\n",
       "      <td>1.0</td>\n",
       "    </tr>\n",
       "    <tr>\n",
       "      <th>84186</th>\n",
       "      <td>0.199624</td>\n",
       "      <td>25</td>\n",
       "      <td>0</td>\n",
       "      <td>0.075693</td>\n",
       "      <td>3500.0</td>\n",
       "      <td>5</td>\n",
       "      <td>0</td>\n",
       "      <td>0</td>\n",
       "      <td>0</td>\n",
       "      <td>0.0</td>\n",
       "    </tr>\n",
       "    <tr>\n",
       "      <th>140320</th>\n",
       "      <td>0.006625</td>\n",
       "      <td>87</td>\n",
       "      <td>0</td>\n",
       "      <td>0.122480</td>\n",
       "      <td>6000.0</td>\n",
       "      <td>8</td>\n",
       "      <td>0</td>\n",
       "      <td>1</td>\n",
       "      <td>0</td>\n",
       "      <td>0.0</td>\n",
       "    </tr>\n",
       "    <tr>\n",
       "      <th>148914</th>\n",
       "      <td>0.076173</td>\n",
       "      <td>60</td>\n",
       "      <td>0</td>\n",
       "      <td>1.124750</td>\n",
       "      <td>2500.0</td>\n",
       "      <td>8</td>\n",
       "      <td>0</td>\n",
       "      <td>1</td>\n",
       "      <td>0</td>\n",
       "      <td>1.0</td>\n",
       "    </tr>\n",
       "    <tr>\n",
       "      <th>47939</th>\n",
       "      <td>0.816254</td>\n",
       "      <td>37</td>\n",
       "      <td>0</td>\n",
       "      <td>0.814364</td>\n",
       "      <td>6000.0</td>\n",
       "      <td>5</td>\n",
       "      <td>0</td>\n",
       "      <td>2</td>\n",
       "      <td>0</td>\n",
       "      <td>3.0</td>\n",
       "    </tr>\n",
       "    <tr>\n",
       "      <th>126858</th>\n",
       "      <td>0.824504</td>\n",
       "      <td>67</td>\n",
       "      <td>0</td>\n",
       "      <td>0.289038</td>\n",
       "      <td>11648.0</td>\n",
       "      <td>13</td>\n",
       "      <td>0</td>\n",
       "      <td>2</td>\n",
       "      <td>0</td>\n",
       "      <td>0.0</td>\n",
       "    </tr>\n",
       "    <tr>\n",
       "      <th>34293</th>\n",
       "      <td>0.040285</td>\n",
       "      <td>47</td>\n",
       "      <td>0</td>\n",
       "      <td>0.493132</td>\n",
       "      <td>5750.0</td>\n",
       "      <td>13</td>\n",
       "      <td>0</td>\n",
       "      <td>2</td>\n",
       "      <td>0</td>\n",
       "      <td>0.0</td>\n",
       "    </tr>\n",
       "    <tr>\n",
       "      <th>126401</th>\n",
       "      <td>0.018288</td>\n",
       "      <td>35</td>\n",
       "      <td>0</td>\n",
       "      <td>0.167819</td>\n",
       "      <td>12000.0</td>\n",
       "      <td>6</td>\n",
       "      <td>0</td>\n",
       "      <td>1</td>\n",
       "      <td>0</td>\n",
       "      <td>1.0</td>\n",
       "    </tr>\n",
       "    <tr>\n",
       "      <th>139244</th>\n",
       "      <td>0.139986</td>\n",
       "      <td>75</td>\n",
       "      <td>1</td>\n",
       "      <td>0.117432</td>\n",
       "      <td>5202.0</td>\n",
       "      <td>6</td>\n",
       "      <td>0</td>\n",
       "      <td>0</td>\n",
       "      <td>0</td>\n",
       "      <td>0.0</td>\n",
       "    </tr>\n",
       "    <tr>\n",
       "      <th>28108</th>\n",
       "      <td>0.061335</td>\n",
       "      <td>52</td>\n",
       "      <td>1</td>\n",
       "      <td>0.293541</td>\n",
       "      <td>5000.0</td>\n",
       "      <td>7</td>\n",
       "      <td>0</td>\n",
       "      <td>1</td>\n",
       "      <td>0</td>\n",
       "      <td>2.0</td>\n",
       "    </tr>\n",
       "    <tr>\n",
       "      <th>75555</th>\n",
       "      <td>0.904005</td>\n",
       "      <td>40</td>\n",
       "      <td>0</td>\n",
       "      <td>0.455778</td>\n",
       "      <td>7744.0</td>\n",
       "      <td>7</td>\n",
       "      <td>0</td>\n",
       "      <td>1</td>\n",
       "      <td>0</td>\n",
       "      <td>0.0</td>\n",
       "    </tr>\n",
       "    <tr>\n",
       "      <th>121997</th>\n",
       "      <td>0.855897</td>\n",
       "      <td>72</td>\n",
       "      <td>0</td>\n",
       "      <td>0.926143</td>\n",
       "      <td>7500.0</td>\n",
       "      <td>14</td>\n",
       "      <td>0</td>\n",
       "      <td>2</td>\n",
       "      <td>0</td>\n",
       "      <td>0.0</td>\n",
       "    </tr>\n",
       "    <tr>\n",
       "      <th>16753</th>\n",
       "      <td>0.990834</td>\n",
       "      <td>40</td>\n",
       "      <td>0</td>\n",
       "      <td>0.140609</td>\n",
       "      <td>6037.0</td>\n",
       "      <td>6</td>\n",
       "      <td>0</td>\n",
       "      <td>0</td>\n",
       "      <td>0</td>\n",
       "      <td>0.0</td>\n",
       "    </tr>\n",
       "    <tr>\n",
       "      <th>84580</th>\n",
       "      <td>0.066531</td>\n",
       "      <td>30</td>\n",
       "      <td>0</td>\n",
       "      <td>0.276436</td>\n",
       "      <td>1200.0</td>\n",
       "      <td>4</td>\n",
       "      <td>0</td>\n",
       "      <td>1</td>\n",
       "      <td>0</td>\n",
       "      <td>0.0</td>\n",
       "    </tr>\n",
       "    <tr>\n",
       "      <th>129603</th>\n",
       "      <td>0.028466</td>\n",
       "      <td>41</td>\n",
       "      <td>0</td>\n",
       "      <td>0.006199</td>\n",
       "      <td>5000.0</td>\n",
       "      <td>6</td>\n",
       "      <td>0</td>\n",
       "      <td>1</td>\n",
       "      <td>0</td>\n",
       "      <td>3.0</td>\n",
       "    </tr>\n",
       "    <tr>\n",
       "      <th>59853</th>\n",
       "      <td>0.000000</td>\n",
       "      <td>64</td>\n",
       "      <td>0</td>\n",
       "      <td>0.262393</td>\n",
       "      <td>8875.0</td>\n",
       "      <td>8</td>\n",
       "      <td>0</td>\n",
       "      <td>2</td>\n",
       "      <td>0</td>\n",
       "      <td>2.0</td>\n",
       "    </tr>\n",
       "    <tr>\n",
       "      <th>66505</th>\n",
       "      <td>0.830588</td>\n",
       "      <td>53</td>\n",
       "      <td>0</td>\n",
       "      <td>0.836297</td>\n",
       "      <td>4666.0</td>\n",
       "      <td>15</td>\n",
       "      <td>0</td>\n",
       "      <td>2</td>\n",
       "      <td>0</td>\n",
       "      <td>1.0</td>\n",
       "    </tr>\n",
       "    <tr>\n",
       "      <th>46550</th>\n",
       "      <td>0.078205</td>\n",
       "      <td>51</td>\n",
       "      <td>0</td>\n",
       "      <td>0.569635</td>\n",
       "      <td>4300.0</td>\n",
       "      <td>8</td>\n",
       "      <td>0</td>\n",
       "      <td>1</td>\n",
       "      <td>0</td>\n",
       "      <td>1.0</td>\n",
       "    </tr>\n",
       "    <tr>\n",
       "      <th>100397</th>\n",
       "      <td>0.013082</td>\n",
       "      <td>56</td>\n",
       "      <td>0</td>\n",
       "      <td>0.129347</td>\n",
       "      <td>10753.0</td>\n",
       "      <td>8</td>\n",
       "      <td>0</td>\n",
       "      <td>2</td>\n",
       "      <td>0</td>\n",
       "      <td>0.0</td>\n",
       "    </tr>\n",
       "    <tr>\n",
       "      <th>79907</th>\n",
       "      <td>0.910090</td>\n",
       "      <td>60</td>\n",
       "      <td>0</td>\n",
       "      <td>0.444770</td>\n",
       "      <td>3068.0</td>\n",
       "      <td>8</td>\n",
       "      <td>0</td>\n",
       "      <td>0</td>\n",
       "      <td>0</td>\n",
       "      <td>0.0</td>\n",
       "    </tr>\n",
       "    <tr>\n",
       "      <th>68903</th>\n",
       "      <td>0.227853</td>\n",
       "      <td>39</td>\n",
       "      <td>2</td>\n",
       "      <td>0.028055</td>\n",
       "      <td>90000.0</td>\n",
       "      <td>21</td>\n",
       "      <td>0</td>\n",
       "      <td>2</td>\n",
       "      <td>0</td>\n",
       "      <td>3.0</td>\n",
       "    </tr>\n",
       "    <tr>\n",
       "      <th>100513</th>\n",
       "      <td>0.365521</td>\n",
       "      <td>60</td>\n",
       "      <td>0</td>\n",
       "      <td>0.259731</td>\n",
       "      <td>6833.0</td>\n",
       "      <td>17</td>\n",
       "      <td>0</td>\n",
       "      <td>1</td>\n",
       "      <td>0</td>\n",
       "      <td>0.0</td>\n",
       "    </tr>\n",
       "    <tr>\n",
       "      <th>118932</th>\n",
       "      <td>0.003000</td>\n",
       "      <td>54</td>\n",
       "      <td>0</td>\n",
       "      <td>0.312922</td>\n",
       "      <td>7250.0</td>\n",
       "      <td>7</td>\n",
       "      <td>0</td>\n",
       "      <td>2</td>\n",
       "      <td>0</td>\n",
       "      <td>0.0</td>\n",
       "    </tr>\n",
       "    <tr>\n",
       "      <th>144320</th>\n",
       "      <td>0.088329</td>\n",
       "      <td>45</td>\n",
       "      <td>0</td>\n",
       "      <td>1.120879</td>\n",
       "      <td>181.0</td>\n",
       "      <td>5</td>\n",
       "      <td>0</td>\n",
       "      <td>0</td>\n",
       "      <td>0</td>\n",
       "      <td>2.0</td>\n",
       "    </tr>\n",
       "    <tr>\n",
       "      <th>...</th>\n",
       "      <td>...</td>\n",
       "      <td>...</td>\n",
       "      <td>...</td>\n",
       "      <td>...</td>\n",
       "      <td>...</td>\n",
       "      <td>...</td>\n",
       "      <td>...</td>\n",
       "      <td>...</td>\n",
       "      <td>...</td>\n",
       "      <td>...</td>\n",
       "    </tr>\n",
       "    <tr>\n",
       "      <th>5130</th>\n",
       "      <td>0.014874</td>\n",
       "      <td>60</td>\n",
       "      <td>0</td>\n",
       "      <td>0.312127</td>\n",
       "      <td>8723.0</td>\n",
       "      <td>14</td>\n",
       "      <td>0</td>\n",
       "      <td>2</td>\n",
       "      <td>0</td>\n",
       "      <td>0.0</td>\n",
       "    </tr>\n",
       "    <tr>\n",
       "      <th>7369</th>\n",
       "      <td>0.076771</td>\n",
       "      <td>45</td>\n",
       "      <td>0</td>\n",
       "      <td>0.298277</td>\n",
       "      <td>7891.0</td>\n",
       "      <td>6</td>\n",
       "      <td>0</td>\n",
       "      <td>1</td>\n",
       "      <td>0</td>\n",
       "      <td>2.0</td>\n",
       "    </tr>\n",
       "    <tr>\n",
       "      <th>17121</th>\n",
       "      <td>0.027291</td>\n",
       "      <td>52</td>\n",
       "      <td>0</td>\n",
       "      <td>0.319949</td>\n",
       "      <td>6250.0</td>\n",
       "      <td>3</td>\n",
       "      <td>0</td>\n",
       "      <td>2</td>\n",
       "      <td>0</td>\n",
       "      <td>1.0</td>\n",
       "    </tr>\n",
       "    <tr>\n",
       "      <th>36222</th>\n",
       "      <td>0.024108</td>\n",
       "      <td>46</td>\n",
       "      <td>0</td>\n",
       "      <td>0.177165</td>\n",
       "      <td>5000.0</td>\n",
       "      <td>9</td>\n",
       "      <td>0</td>\n",
       "      <td>1</td>\n",
       "      <td>0</td>\n",
       "      <td>0.0</td>\n",
       "    </tr>\n",
       "    <tr>\n",
       "      <th>82034</th>\n",
       "      <td>0.373987</td>\n",
       "      <td>73</td>\n",
       "      <td>1</td>\n",
       "      <td>0.203409</td>\n",
       "      <td>10500.0</td>\n",
       "      <td>11</td>\n",
       "      <td>0</td>\n",
       "      <td>1</td>\n",
       "      <td>0</td>\n",
       "      <td>0.0</td>\n",
       "    </tr>\n",
       "    <tr>\n",
       "      <th>21484</th>\n",
       "      <td>0.023405</td>\n",
       "      <td>66</td>\n",
       "      <td>0</td>\n",
       "      <td>0.021655</td>\n",
       "      <td>1800.0</td>\n",
       "      <td>5</td>\n",
       "      <td>0</td>\n",
       "      <td>0</td>\n",
       "      <td>0</td>\n",
       "      <td>0.0</td>\n",
       "    </tr>\n",
       "    <tr>\n",
       "      <th>149593</th>\n",
       "      <td>0.674530</td>\n",
       "      <td>56</td>\n",
       "      <td>1</td>\n",
       "      <td>0.248595</td>\n",
       "      <td>1600.0</td>\n",
       "      <td>3</td>\n",
       "      <td>0</td>\n",
       "      <td>0</td>\n",
       "      <td>0</td>\n",
       "      <td>1.0</td>\n",
       "    </tr>\n",
       "    <tr>\n",
       "      <th>124074</th>\n",
       "      <td>0.044440</td>\n",
       "      <td>56</td>\n",
       "      <td>0</td>\n",
       "      <td>0.016996</td>\n",
       "      <td>4000.0</td>\n",
       "      <td>5</td>\n",
       "      <td>0</td>\n",
       "      <td>0</td>\n",
       "      <td>0</td>\n",
       "      <td>1.0</td>\n",
       "    </tr>\n",
       "    <tr>\n",
       "      <th>123537</th>\n",
       "      <td>0.010451</td>\n",
       "      <td>90</td>\n",
       "      <td>0</td>\n",
       "      <td>0.003665</td>\n",
       "      <td>3000.0</td>\n",
       "      <td>12</td>\n",
       "      <td>0</td>\n",
       "      <td>0</td>\n",
       "      <td>0</td>\n",
       "      <td>0.0</td>\n",
       "    </tr>\n",
       "    <tr>\n",
       "      <th>22356</th>\n",
       "      <td>0.237546</td>\n",
       "      <td>47</td>\n",
       "      <td>0</td>\n",
       "      <td>0.441388</td>\n",
       "      <td>5416.0</td>\n",
       "      <td>13</td>\n",
       "      <td>0</td>\n",
       "      <td>1</td>\n",
       "      <td>0</td>\n",
       "      <td>0.0</td>\n",
       "    </tr>\n",
       "    <tr>\n",
       "      <th>9638</th>\n",
       "      <td>1.563273</td>\n",
       "      <td>62</td>\n",
       "      <td>2</td>\n",
       "      <td>0.034168</td>\n",
       "      <td>3833.0</td>\n",
       "      <td>5</td>\n",
       "      <td>0</td>\n",
       "      <td>0</td>\n",
       "      <td>1</td>\n",
       "      <td>0.0</td>\n",
       "    </tr>\n",
       "    <tr>\n",
       "      <th>66244</th>\n",
       "      <td>0.067406</td>\n",
       "      <td>33</td>\n",
       "      <td>0</td>\n",
       "      <td>0.074112</td>\n",
       "      <td>2900.0</td>\n",
       "      <td>5</td>\n",
       "      <td>0</td>\n",
       "      <td>0</td>\n",
       "      <td>0</td>\n",
       "      <td>0.0</td>\n",
       "    </tr>\n",
       "    <tr>\n",
       "      <th>47661</th>\n",
       "      <td>0.946792</td>\n",
       "      <td>43</td>\n",
       "      <td>1</td>\n",
       "      <td>0.317348</td>\n",
       "      <td>11781.0</td>\n",
       "      <td>5</td>\n",
       "      <td>0</td>\n",
       "      <td>2</td>\n",
       "      <td>0</td>\n",
       "      <td>3.0</td>\n",
       "    </tr>\n",
       "    <tr>\n",
       "      <th>9872</th>\n",
       "      <td>0.243529</td>\n",
       "      <td>73</td>\n",
       "      <td>0</td>\n",
       "      <td>0.154827</td>\n",
       "      <td>14583.0</td>\n",
       "      <td>16</td>\n",
       "      <td>0</td>\n",
       "      <td>1</td>\n",
       "      <td>0</td>\n",
       "      <td>0.0</td>\n",
       "    </tr>\n",
       "    <tr>\n",
       "      <th>64057</th>\n",
       "      <td>0.453153</td>\n",
       "      <td>58</td>\n",
       "      <td>0</td>\n",
       "      <td>0.336540</td>\n",
       "      <td>5300.0</td>\n",
       "      <td>11</td>\n",
       "      <td>0</td>\n",
       "      <td>0</td>\n",
       "      <td>0</td>\n",
       "      <td>0.0</td>\n",
       "    </tr>\n",
       "    <tr>\n",
       "      <th>74293</th>\n",
       "      <td>0.163447</td>\n",
       "      <td>65</td>\n",
       "      <td>0</td>\n",
       "      <td>0.753213</td>\n",
       "      <td>3500.0</td>\n",
       "      <td>13</td>\n",
       "      <td>0</td>\n",
       "      <td>1</td>\n",
       "      <td>0</td>\n",
       "      <td>0.0</td>\n",
       "    </tr>\n",
       "    <tr>\n",
       "      <th>74359</th>\n",
       "      <td>0.559147</td>\n",
       "      <td>48</td>\n",
       "      <td>1</td>\n",
       "      <td>0.127030</td>\n",
       "      <td>2400.0</td>\n",
       "      <td>3</td>\n",
       "      <td>0</td>\n",
       "      <td>0</td>\n",
       "      <td>0</td>\n",
       "      <td>3.0</td>\n",
       "    </tr>\n",
       "    <tr>\n",
       "      <th>109181</th>\n",
       "      <td>0.646844</td>\n",
       "      <td>41</td>\n",
       "      <td>0</td>\n",
       "      <td>1.253642</td>\n",
       "      <td>3500.0</td>\n",
       "      <td>9</td>\n",
       "      <td>0</td>\n",
       "      <td>2</td>\n",
       "      <td>0</td>\n",
       "      <td>0.0</td>\n",
       "    </tr>\n",
       "    <tr>\n",
       "      <th>5038</th>\n",
       "      <td>0.805256</td>\n",
       "      <td>47</td>\n",
       "      <td>0</td>\n",
       "      <td>0.528644</td>\n",
       "      <td>8500.0</td>\n",
       "      <td>8</td>\n",
       "      <td>0</td>\n",
       "      <td>2</td>\n",
       "      <td>0</td>\n",
       "      <td>2.0</td>\n",
       "    </tr>\n",
       "    <tr>\n",
       "      <th>95808</th>\n",
       "      <td>0.220571</td>\n",
       "      <td>53</td>\n",
       "      <td>3</td>\n",
       "      <td>0.247164</td>\n",
       "      <td>4583.0</td>\n",
       "      <td>14</td>\n",
       "      <td>2</td>\n",
       "      <td>2</td>\n",
       "      <td>0</td>\n",
       "      <td>0.0</td>\n",
       "    </tr>\n",
       "    <tr>\n",
       "      <th>122735</th>\n",
       "      <td>0.135586</td>\n",
       "      <td>31</td>\n",
       "      <td>0</td>\n",
       "      <td>0.206025</td>\n",
       "      <td>4547.0</td>\n",
       "      <td>7</td>\n",
       "      <td>0</td>\n",
       "      <td>0</td>\n",
       "      <td>0</td>\n",
       "      <td>1.0</td>\n",
       "    </tr>\n",
       "    <tr>\n",
       "      <th>53630</th>\n",
       "      <td>0.020561</td>\n",
       "      <td>68</td>\n",
       "      <td>0</td>\n",
       "      <td>0.297687</td>\n",
       "      <td>5750.0</td>\n",
       "      <td>10</td>\n",
       "      <td>0</td>\n",
       "      <td>1</td>\n",
       "      <td>0</td>\n",
       "      <td>1.0</td>\n",
       "    </tr>\n",
       "    <tr>\n",
       "      <th>113795</th>\n",
       "      <td>0.012995</td>\n",
       "      <td>41</td>\n",
       "      <td>1</td>\n",
       "      <td>1.420790</td>\n",
       "      <td>5800.0</td>\n",
       "      <td>14</td>\n",
       "      <td>0</td>\n",
       "      <td>4</td>\n",
       "      <td>0</td>\n",
       "      <td>3.0</td>\n",
       "    </tr>\n",
       "    <tr>\n",
       "      <th>418</th>\n",
       "      <td>0.020075</td>\n",
       "      <td>36</td>\n",
       "      <td>0</td>\n",
       "      <td>0.334245</td>\n",
       "      <td>4750.0</td>\n",
       "      <td>5</td>\n",
       "      <td>0</td>\n",
       "      <td>1</td>\n",
       "      <td>0</td>\n",
       "      <td>0.0</td>\n",
       "    </tr>\n",
       "    <tr>\n",
       "      <th>12251</th>\n",
       "      <td>0.539846</td>\n",
       "      <td>50</td>\n",
       "      <td>2</td>\n",
       "      <td>0.543845</td>\n",
       "      <td>4800.0</td>\n",
       "      <td>11</td>\n",
       "      <td>0</td>\n",
       "      <td>3</td>\n",
       "      <td>0</td>\n",
       "      <td>0.0</td>\n",
       "    </tr>\n",
       "    <tr>\n",
       "      <th>134334</th>\n",
       "      <td>0.556481</td>\n",
       "      <td>32</td>\n",
       "      <td>0</td>\n",
       "      <td>0.177564</td>\n",
       "      <td>5000.0</td>\n",
       "      <td>9</td>\n",
       "      <td>0</td>\n",
       "      <td>0</td>\n",
       "      <td>0</td>\n",
       "      <td>0.0</td>\n",
       "    </tr>\n",
       "    <tr>\n",
       "      <th>17457</th>\n",
       "      <td>1800.000000</td>\n",
       "      <td>63</td>\n",
       "      <td>0</td>\n",
       "      <td>0.190733</td>\n",
       "      <td>5200.0</td>\n",
       "      <td>9</td>\n",
       "      <td>0</td>\n",
       "      <td>1</td>\n",
       "      <td>0</td>\n",
       "      <td>0.0</td>\n",
       "    </tr>\n",
       "    <tr>\n",
       "      <th>10361</th>\n",
       "      <td>0.523556</td>\n",
       "      <td>44</td>\n",
       "      <td>0</td>\n",
       "      <td>0.237584</td>\n",
       "      <td>15000.0</td>\n",
       "      <td>6</td>\n",
       "      <td>0</td>\n",
       "      <td>1</td>\n",
       "      <td>0</td>\n",
       "      <td>2.0</td>\n",
       "    </tr>\n",
       "    <tr>\n",
       "      <th>28828</th>\n",
       "      <td>0.018077</td>\n",
       "      <td>72</td>\n",
       "      <td>0</td>\n",
       "      <td>0.121455</td>\n",
       "      <td>4865.0</td>\n",
       "      <td>17</td>\n",
       "      <td>0</td>\n",
       "      <td>2</td>\n",
       "      <td>0</td>\n",
       "      <td>0.0</td>\n",
       "    </tr>\n",
       "    <tr>\n",
       "      <th>142654</th>\n",
       "      <td>0.746849</td>\n",
       "      <td>55</td>\n",
       "      <td>2</td>\n",
       "      <td>0.313948</td>\n",
       "      <td>3885.0</td>\n",
       "      <td>10</td>\n",
       "      <td>0</td>\n",
       "      <td>0</td>\n",
       "      <td>1</td>\n",
       "      <td>0.0</td>\n",
       "    </tr>\n",
       "  </tbody>\n",
       "</table>\n",
       "<p>47212 rows × 10 columns</p>\n",
       "</div>"
      ],
      "text/plain": [
       "        RevolvingUtilizationOfUnsecuredLines  age  \\\n",
       "57459                               0.794334   38   \n",
       "54185                               0.273659   62   \n",
       "135298                              0.019525   56   \n",
       "108495                              0.782843   33   \n",
       "141222                              0.000000   60   \n",
       "111583                              0.103282   54   \n",
       "86777                               0.030000   79   \n",
       "84186                               0.199624   25   \n",
       "140320                              0.006625   87   \n",
       "148914                              0.076173   60   \n",
       "47939                               0.816254   37   \n",
       "126858                              0.824504   67   \n",
       "34293                               0.040285   47   \n",
       "126401                              0.018288   35   \n",
       "139244                              0.139986   75   \n",
       "28108                               0.061335   52   \n",
       "75555                               0.904005   40   \n",
       "121997                              0.855897   72   \n",
       "16753                               0.990834   40   \n",
       "84580                               0.066531   30   \n",
       "129603                              0.028466   41   \n",
       "59853                               0.000000   64   \n",
       "66505                               0.830588   53   \n",
       "46550                               0.078205   51   \n",
       "100397                              0.013082   56   \n",
       "79907                               0.910090   60   \n",
       "68903                               0.227853   39   \n",
       "100513                              0.365521   60   \n",
       "118932                              0.003000   54   \n",
       "144320                              0.088329   45   \n",
       "...                                      ...  ...   \n",
       "5130                                0.014874   60   \n",
       "7369                                0.076771   45   \n",
       "17121                               0.027291   52   \n",
       "36222                               0.024108   46   \n",
       "82034                               0.373987   73   \n",
       "21484                               0.023405   66   \n",
       "149593                              0.674530   56   \n",
       "124074                              0.044440   56   \n",
       "123537                              0.010451   90   \n",
       "22356                               0.237546   47   \n",
       "9638                                1.563273   62   \n",
       "66244                               0.067406   33   \n",
       "47661                               0.946792   43   \n",
       "9872                                0.243529   73   \n",
       "64057                               0.453153   58   \n",
       "74293                               0.163447   65   \n",
       "74359                               0.559147   48   \n",
       "109181                              0.646844   41   \n",
       "5038                                0.805256   47   \n",
       "95808                               0.220571   53   \n",
       "122735                              0.135586   31   \n",
       "53630                               0.020561   68   \n",
       "113795                              0.012995   41   \n",
       "418                                 0.020075   36   \n",
       "12251                               0.539846   50   \n",
       "134334                              0.556481   32   \n",
       "17457                            1800.000000   63   \n",
       "10361                               0.523556   44   \n",
       "28828                               0.018077   72   \n",
       "142654                              0.746849   55   \n",
       "\n",
       "        NumberOfTime30-59DaysPastDueNotWorse  DebtRatio  MonthlyIncome  \\\n",
       "57459                                      1   0.065857         5845.0   \n",
       "54185                                      0   0.825301         1825.0   \n",
       "135298                                     0   0.394063        12700.0   \n",
       "108495                                     0   0.070937         5666.0   \n",
       "141222                                     1   0.057094         5271.0   \n",
       "111583                                     0   0.186818         9800.0   \n",
       "86777                                      0   0.486681         8333.0   \n",
       "84186                                      0   0.075693         3500.0   \n",
       "140320                                     0   0.122480         6000.0   \n",
       "148914                                     0   1.124750         2500.0   \n",
       "47939                                      0   0.814364         6000.0   \n",
       "126858                                     0   0.289038        11648.0   \n",
       "34293                                      0   0.493132         5750.0   \n",
       "126401                                     0   0.167819        12000.0   \n",
       "139244                                     1   0.117432         5202.0   \n",
       "28108                                      1   0.293541         5000.0   \n",
       "75555                                      0   0.455778         7744.0   \n",
       "121997                                     0   0.926143         7500.0   \n",
       "16753                                      0   0.140609         6037.0   \n",
       "84580                                      0   0.276436         1200.0   \n",
       "129603                                     0   0.006199         5000.0   \n",
       "59853                                      0   0.262393         8875.0   \n",
       "66505                                      0   0.836297         4666.0   \n",
       "46550                                      0   0.569635         4300.0   \n",
       "100397                                     0   0.129347        10753.0   \n",
       "79907                                      0   0.444770         3068.0   \n",
       "68903                                      2   0.028055        90000.0   \n",
       "100513                                     0   0.259731         6833.0   \n",
       "118932                                     0   0.312922         7250.0   \n",
       "144320                                     0   1.120879          181.0   \n",
       "...                                      ...        ...            ...   \n",
       "5130                                       0   0.312127         8723.0   \n",
       "7369                                       0   0.298277         7891.0   \n",
       "17121                                      0   0.319949         6250.0   \n",
       "36222                                      0   0.177165         5000.0   \n",
       "82034                                      1   0.203409        10500.0   \n",
       "21484                                      0   0.021655         1800.0   \n",
       "149593                                     1   0.248595         1600.0   \n",
       "124074                                     0   0.016996         4000.0   \n",
       "123537                                     0   0.003665         3000.0   \n",
       "22356                                      0   0.441388         5416.0   \n",
       "9638                                       2   0.034168         3833.0   \n",
       "66244                                      0   0.074112         2900.0   \n",
       "47661                                      1   0.317348        11781.0   \n",
       "9872                                       0   0.154827        14583.0   \n",
       "64057                                      0   0.336540         5300.0   \n",
       "74293                                      0   0.753213         3500.0   \n",
       "74359                                      1   0.127030         2400.0   \n",
       "109181                                     0   1.253642         3500.0   \n",
       "5038                                       0   0.528644         8500.0   \n",
       "95808                                      3   0.247164         4583.0   \n",
       "122735                                     0   0.206025         4547.0   \n",
       "53630                                      0   0.297687         5750.0   \n",
       "113795                                     1   1.420790         5800.0   \n",
       "418                                        0   0.334245         4750.0   \n",
       "12251                                      2   0.543845         4800.0   \n",
       "134334                                     0   0.177564         5000.0   \n",
       "17457                                      0   0.190733         5200.0   \n",
       "10361                                      0   0.237584        15000.0   \n",
       "28828                                      0   0.121455         4865.0   \n",
       "142654                                     2   0.313948         3885.0   \n",
       "\n",
       "        NumberOfOpenCreditLinesAndLoans  NumberOfTimes90DaysLate  \\\n",
       "57459                                 5                        0   \n",
       "54185                                 5                        0   \n",
       "135298                                8                        0   \n",
       "108495                                3                        0   \n",
       "141222                                6                        0   \n",
       "111583                               10                        0   \n",
       "86777                                13                        0   \n",
       "84186                                 5                        0   \n",
       "140320                                8                        0   \n",
       "148914                                8                        0   \n",
       "47939                                 5                        0   \n",
       "126858                               13                        0   \n",
       "34293                                13                        0   \n",
       "126401                                6                        0   \n",
       "139244                                6                        0   \n",
       "28108                                 7                        0   \n",
       "75555                                 7                        0   \n",
       "121997                               14                        0   \n",
       "16753                                 6                        0   \n",
       "84580                                 4                        0   \n",
       "129603                                6                        0   \n",
       "59853                                 8                        0   \n",
       "66505                                15                        0   \n",
       "46550                                 8                        0   \n",
       "100397                                8                        0   \n",
       "79907                                 8                        0   \n",
       "68903                                21                        0   \n",
       "100513                               17                        0   \n",
       "118932                                7                        0   \n",
       "144320                                5                        0   \n",
       "...                                 ...                      ...   \n",
       "5130                                 14                        0   \n",
       "7369                                  6                        0   \n",
       "17121                                 3                        0   \n",
       "36222                                 9                        0   \n",
       "82034                                11                        0   \n",
       "21484                                 5                        0   \n",
       "149593                                3                        0   \n",
       "124074                                5                        0   \n",
       "123537                               12                        0   \n",
       "22356                                13                        0   \n",
       "9638                                  5                        0   \n",
       "66244                                 5                        0   \n",
       "47661                                 5                        0   \n",
       "9872                                 16                        0   \n",
       "64057                                11                        0   \n",
       "74293                                13                        0   \n",
       "74359                                 3                        0   \n",
       "109181                                9                        0   \n",
       "5038                                  8                        0   \n",
       "95808                                14                        2   \n",
       "122735                                7                        0   \n",
       "53630                                10                        0   \n",
       "113795                               14                        0   \n",
       "418                                   5                        0   \n",
       "12251                                11                        0   \n",
       "134334                                9                        0   \n",
       "17457                                 9                        0   \n",
       "10361                                 6                        0   \n",
       "28828                                17                        0   \n",
       "142654                               10                        0   \n",
       "\n",
       "        NumberRealEstateLoansOrLines  NumberOfTime60-89DaysPastDueNotWorse  \\\n",
       "57459                              0                                     0   \n",
       "54185                              1                                     1   \n",
       "135298                             3                                     0   \n",
       "108495                             0                                     0   \n",
       "141222                             0                                     0   \n",
       "111583                             1                                     0   \n",
       "86777                              3                                     0   \n",
       "84186                              0                                     0   \n",
       "140320                             1                                     0   \n",
       "148914                             1                                     0   \n",
       "47939                              2                                     0   \n",
       "126858                             2                                     0   \n",
       "34293                              2                                     0   \n",
       "126401                             1                                     0   \n",
       "139244                             0                                     0   \n",
       "28108                              1                                     0   \n",
       "75555                              1                                     0   \n",
       "121997                             2                                     0   \n",
       "16753                              0                                     0   \n",
       "84580                              1                                     0   \n",
       "129603                             1                                     0   \n",
       "59853                              2                                     0   \n",
       "66505                              2                                     0   \n",
       "46550                              1                                     0   \n",
       "100397                             2                                     0   \n",
       "79907                              0                                     0   \n",
       "68903                              2                                     0   \n",
       "100513                             1                                     0   \n",
       "118932                             2                                     0   \n",
       "144320                             0                                     0   \n",
       "...                              ...                                   ...   \n",
       "5130                               2                                     0   \n",
       "7369                               1                                     0   \n",
       "17121                              2                                     0   \n",
       "36222                              1                                     0   \n",
       "82034                              1                                     0   \n",
       "21484                              0                                     0   \n",
       "149593                             0                                     0   \n",
       "124074                             0                                     0   \n",
       "123537                             0                                     0   \n",
       "22356                              1                                     0   \n",
       "9638                               0                                     1   \n",
       "66244                              0                                     0   \n",
       "47661                              2                                     0   \n",
       "9872                               1                                     0   \n",
       "64057                              0                                     0   \n",
       "74293                              1                                     0   \n",
       "74359                              0                                     0   \n",
       "109181                             2                                     0   \n",
       "5038                               2                                     0   \n",
       "95808                              2                                     0   \n",
       "122735                             0                                     0   \n",
       "53630                              1                                     0   \n",
       "113795                             4                                     0   \n",
       "418                                1                                     0   \n",
       "12251                              3                                     0   \n",
       "134334                             0                                     0   \n",
       "17457                              1                                     0   \n",
       "10361                              1                                     0   \n",
       "28828                              2                                     0   \n",
       "142654                             0                                     1   \n",
       "\n",
       "        NumberOfDependents  \n",
       "57459                  0.0  \n",
       "54185                  0.0  \n",
       "135298                 0.0  \n",
       "108495                 0.0  \n",
       "141222                 3.0  \n",
       "111583                 1.0  \n",
       "86777                  1.0  \n",
       "84186                  0.0  \n",
       "140320                 0.0  \n",
       "148914                 1.0  \n",
       "47939                  3.0  \n",
       "126858                 0.0  \n",
       "34293                  0.0  \n",
       "126401                 1.0  \n",
       "139244                 0.0  \n",
       "28108                  2.0  \n",
       "75555                  0.0  \n",
       "121997                 0.0  \n",
       "16753                  0.0  \n",
       "84580                  0.0  \n",
       "129603                 3.0  \n",
       "59853                  2.0  \n",
       "66505                  1.0  \n",
       "46550                  1.0  \n",
       "100397                 0.0  \n",
       "79907                  0.0  \n",
       "68903                  3.0  \n",
       "100513                 0.0  \n",
       "118932                 0.0  \n",
       "144320                 2.0  \n",
       "...                    ...  \n",
       "5130                   0.0  \n",
       "7369                   2.0  \n",
       "17121                  1.0  \n",
       "36222                  0.0  \n",
       "82034                  0.0  \n",
       "21484                  0.0  \n",
       "149593                 1.0  \n",
       "124074                 1.0  \n",
       "123537                 0.0  \n",
       "22356                  0.0  \n",
       "9638                   0.0  \n",
       "66244                  0.0  \n",
       "47661                  3.0  \n",
       "9872                   0.0  \n",
       "64057                  0.0  \n",
       "74293                  0.0  \n",
       "74359                  3.0  \n",
       "109181                 0.0  \n",
       "5038                   2.0  \n",
       "95808                  0.0  \n",
       "122735                 1.0  \n",
       "53630                  1.0  \n",
       "113795                 3.0  \n",
       "418                    0.0  \n",
       "12251                  0.0  \n",
       "134334                 0.0  \n",
       "17457                  0.0  \n",
       "10361                  2.0  \n",
       "28828                  0.0  \n",
       "142654                 0.0  \n",
       "\n",
       "[47212 rows x 10 columns]"
      ]
     },
     "execution_count": 340,
     "metadata": {},
     "output_type": "execute_result"
    }
   ],
   "source": [
    "X_test"
   ]
  },
  {
   "cell_type": "code",
   "execution_count": null,
   "metadata": {
    "collapsed": true
   },
   "outputs": [],
   "source": []
  },
  {
   "cell_type": "code",
   "execution_count": 347,
   "metadata": {
    "collapsed": true
   },
   "outputs": [],
   "source": [
    "rf_predictions = rf_ensemble.predict_proba(X_test)"
   ]
  },
  {
   "cell_type": "code",
   "execution_count": 391,
   "metadata": {},
   "outputs": [
    {
     "data": {
      "text/plain": [
       "array([ 0.15,  0.85])"
      ]
     },
     "execution_count": 391,
     "metadata": {},
     "output_type": "execute_result"
    }
   ],
   "source": [
    "rf_predictions[1]"
   ]
  },
  {
   "cell_type": "code",
   "execution_count": 374,
   "metadata": {
    "collapsed": true
   },
   "outputs": [],
   "source": [
    "y_testarray=[]\n",
    "\n",
    "del y_testarray[:]"
   ]
  },
  {
   "cell_type": "code",
   "execution_count": 375,
   "metadata": {
    "collapsed": true
   },
   "outputs": [],
   "source": [
    "for i,j in enumerate(y_test):\n",
    "    y_testarray.append(j)"
   ]
  },
  {
   "cell_type": "code",
   "execution_count": 412,
   "metadata": {
    "collapsed": true
   },
   "outputs": [],
   "source": [
    "rf_1_prediction = []\n",
    "rf_0_prediction = []\n",
    "\n",
    "for i in range(0,len(rf_predictions)):\n",
    "    if (y_testarray[i] == 1):\n",
    "        rf_1_prediction.append(rf_predictions[i][1])\n",
    "    else:\n",
    "        rf_0_prediction.append(rf_predictions[i][1])"
   ]
  },
  {
   "cell_type": "code",
   "execution_count": 413,
   "metadata": {},
   "outputs": [
    {
     "data": {
      "text/plain": [
       "0.07334151775564952"
      ]
     },
     "execution_count": 413,
     "metadata": {},
     "output_type": "execute_result"
    }
   ],
   "source": [
    "len(rf_1_prediction)/len(rf_0_prediction)\n",
    "#The ratio holds at 7 percent!"
   ]
  },
  {
   "cell_type": "code",
   "execution_count": 414,
   "metadata": {},
   "outputs": [
    {
     "data": {
      "text/plain": [
       "1.0"
      ]
     },
     "execution_count": 414,
     "metadata": {},
     "output_type": "execute_result"
    }
   ],
   "source": [
    "max(rf_0_prediction)"
   ]
  },
  {
   "cell_type": "code",
   "execution_count": 415,
   "metadata": {},
   "outputs": [
    {
     "data": {
      "text/plain": [
       "(array([ 10162.,   9052.,   6744.,   4421.,   4029.,   3423.,   2255.,\n",
       "          1525.,   1384.,    991.]),\n",
       " array([ 0. ,  0.1,  0.2,  0.3,  0.4,  0.5,  0.6,  0.7,  0.8,  0.9,  1. ]),\n",
       " <a list of 10 Patch objects>)"
      ]
     },
     "execution_count": 415,
     "metadata": {},
     "output_type": "execute_result"
    },
    {
     "data": {
      "image/png": "[encoded data removed]",
      "text/plain": [
       "<matplotlib.figure.Figure at 0x7fc55d65e780>"
      ]
     },
     "metadata": {},
     "output_type": "display_data"
    }
   ],
   "source": [
    "plt.hist(rf_0_prediction)"
   ]
  },
  {
   "cell_type": "code",
   "execution_count": 416,
   "metadata": {},
   "outputs": [
    {
     "data": {
      "text/plain": [
       "(array([   22.,    47.,    57.,    76.,    92.,   132.,   244.,   467.,\n",
       "          751.,  1338.]),\n",
       " array([ 0.01,  0.11,  0.21,  0.31,  0.41,  0.51,  0.6 ,  0.7 ,  0.8 ,\n",
       "         0.9 ,  1.  ]),\n",
       " <a list of 10 Patch objects>)"
      ]
     },
     "execution_count": 416,
     "metadata": {},
     "output_type": "execute_result"
    },
    {
     "data": {
      "image/png": "[encoded data removed]",
      "text/plain": [
       "<matplotlib.figure.Figure at 0x7fc55d0a4208>"
      ]
     },
     "metadata": {},
     "output_type": "display_data"
    }
   ],
   "source": [
    "plt.hist(rf_1_prediction)"
   ]
  },
  {
   "cell_type": "code",
   "execution_count": 454,
   "metadata": {},
   "outputs": [
    {
     "data": {
      "text/plain": [
       "0.011469311841289522"
      ]
     },
     "execution_count": 454,
     "metadata": {},
     "output_type": "execute_result"
    }
   ],
   "source": [
    "pred1_true0 = []\n",
    "#for i in range (0,len(rf_0_prediction)):\n",
    "#    if (rf_0_prediction[i] > 0.6):\n",
    "#        count0 += 1\n",
    "for j in [0:1:0.05]:\n",
    "    for i in range (0,len(rf_1_prediction)):\n",
    "\n",
    "        if (rf_1_prediction[i] < j):\n",
    "            pred1_true0[i] += 1\n",
    "(pred1_true0)/(len(rf_1_prediction))"
   ]
  },
  {
   "cell_type": "code",
   "execution_count": 503,
   "metadata": {
    "collapsed": true
   },
   "outputs": [],
   "source": [
    "rf_predictions_binary = rf_predictions[:,1] > 0.5"
   ]
  },
  {
   "cell_type": "code",
   "execution_count": 504,
   "metadata": {},
   "outputs": [
    {
     "data": {
      "text/plain": [
       "array([ True,  True, False, ..., False, False,  True], dtype=bool)"
      ]
     },
     "execution_count": 504,
     "metadata": {},
     "output_type": "execute_result"
    }
   ],
   "source": [
    "rf_predictions_binary"
   ]
  },
  {
   "cell_type": "code",
   "execution_count": 505,
   "metadata": {},
   "outputs": [
    {
     "name": "stdout",
     "output_type": "stream",
     "text": [
      "             precision    recall  f1-score   support\n",
      "\n",
      "          0       0.99      0.79      0.88     43986\n",
      "          1       0.24      0.91      0.38      3226\n",
      "\n",
      "avg / total       0.94      0.80      0.85     47212\n",
      "\n"
     ]
    }
   ],
   "source": [
    "print(classification_report(y_testarray, rf_predictions_binary))"
   ]
  },
  {
   "cell_type": "code",
   "execution_count": null,
   "metadata": {
    "collapsed": true
   },
   "outputs": [],
   "source": []
  },
  {
   "cell_type": "code",
   "execution_count": 280,
   "metadata": {},
   "outputs": [
    {
     "data": {
      "text/plain": [
       "(118030, 11)"
      ]
     },
     "execution_count": 280,
     "metadata": {},
     "output_type": "execute_result"
    }
   ],
   "source": [
    "data.shape"
   ]
  },
  {
   "cell_type": "code",
   "execution_count": 277,
   "metadata": {
    "collapsed": true
   },
   "outputs": [],
   "source": [
    "allNos = data.index[data['SeriousDlqin2yrs'] == False].tolist()"
   ]
  },
  {
   "cell_type": "code",
   "execution_count": 276,
   "metadata": {
    "collapsed": true
   },
   "outputs": [],
   "source": [
    "allYeses = data.index[data['SeriousDlqin2yrs'] == True].tolist()"
   ]
  },
  {
   "cell_type": "code",
   "execution_count": 278,
   "metadata": {},
   "outputs": [
    {
     "data": {
      "text/plain": [
       "118030"
      ]
     },
     "execution_count": 278,
     "metadata": {},
     "output_type": "execute_result"
    }
   ],
   "source": [
    "len(allNos) + len(allYeses)"
   ]
  },
  {
   "cell_type": "code",
   "execution_count": 520,
   "metadata": {},
   "outputs": [
    {
     "ename": "AttributeError",
     "evalue": "'list' object has no attribute 'fit'",
     "output_type": "error",
     "traceback": [
      "\u001b[0;31m---------------------------------------------------------------------------\u001b[0m",
      "\u001b[0;31mAttributeError\u001b[0m                            Traceback (most recent call last)",
      "\u001b[0;32m<ipython-input-520-a646f1e888e0>\u001b[0m in \u001b[0;36m<module>\u001b[0;34m()\u001b[0m\n\u001b[0;32m----> 1\u001b[0;31m \u001b[0moldscores\u001b[0m \u001b[0;34m=\u001b[0m \u001b[0mcross_val_score\u001b[0m\u001b[0;34m(\u001b[0m\u001b[0mrf_ensemble\u001b[0m\u001b[0;34m.\u001b[0m\u001b[0mfit\u001b[0m\u001b[0;34m,\u001b[0m \u001b[0mX_train\u001b[0m\u001b[0;34m,\u001b[0m \u001b[0my_train\u001b[0m\u001b[0;34m,\u001b[0m \u001b[0mcv\u001b[0m\u001b[0;34m=\u001b[0m\u001b[0;36m5\u001b[0m\u001b[0;34m)\u001b[0m\u001b[0;34m\u001b[0m\u001b[0m\n\u001b[0m\u001b[1;32m      2\u001b[0m \u001b[0;31m#print np.mean(scores), np.std(scores)\u001b[0m\u001b[0;34m\u001b[0m\u001b[0;34m\u001b[0m\u001b[0m\n",
      "\u001b[0;31mAttributeError\u001b[0m: 'list' object has no attribute 'fit'"
     ]
    }
   ],
   "source": [
    "oldscores = cross_val_score(rf_ensemble, X_train, y_train, cv=5)\n",
    "#print np.mean(scores), np.std(scores)"
   ]
  },
  {
   "cell_type": "code",
   "execution_count": 522,
   "metadata": {},
   "outputs": [
    {
     "ename": "AttributeError",
     "evalue": "'list' object has no attribute 'predict_proba'",
     "output_type": "error",
     "traceback": [
      "\u001b[0;31m---------------------------------------------------------------------------\u001b[0m",
      "\u001b[0;31mAttributeError\u001b[0m                            Traceback (most recent call last)",
      "\u001b[0;32m<ipython-input-522-c0cbb16a542f>\u001b[0m in \u001b[0;36m<module>\u001b[0;34m()\u001b[0m\n\u001b[0;32m----> 1\u001b[0;31m \u001b[0mrf_ensemble\u001b[0m\u001b[0;34m.\u001b[0m\u001b[0mpredict_proba\u001b[0m\u001b[0;34m(\u001b[0m\u001b[0;34m)\u001b[0m\u001b[0;34m\u001b[0m\u001b[0m\n\u001b[0m",
      "\u001b[0;31mAttributeError\u001b[0m: 'list' object has no attribute 'predict_proba'"
     ]
    }
   ],
   "source": [
    "rf_ensemble.predict_proba()"
   ]
  },
  {
   "cell_type": "code",
   "execution_count": 459,
   "metadata": {},
   "outputs": [
    {
     "name": "stdout",
     "output_type": "stream",
     "text": [
      "Fitting 3 folds for each of 12 candidates, totalling 36 fits\n",
      "[CV] max_depth=10, n_estimators=100 ..................................\n",
      "[CV]  max_depth=10, n_estimators=100, score=0.9321923804682425, total=   3.4s\n",
      "[CV] max_depth=10, n_estimators=100 ..................................\n"
     ]
    },
    {
     "name": "stderr",
     "output_type": "stream",
     "text": [
      "[Parallel(n_jobs=1)]: Done   1 out of   1 | elapsed:    3.6s remaining:    0.0s\n"
     ]
    },
    {
     "name": "stdout",
     "output_type": "stream",
     "text": [
      "[CV]  max_depth=10, n_estimators=100, score=0.9328419328419328, total=   3.5s\n",
      "[CV] max_depth=10, n_estimators=100 ..................................\n"
     ]
    },
    {
     "name": "stderr",
     "output_type": "stream",
     "text": [
      "[Parallel(n_jobs=1)]: Done   2 out of   2 | elapsed:    7.5s remaining:    0.0s\n"
     ]
    },
    {
     "name": "stdout",
     "output_type": "stream",
     "text": [
      "[CV]  max_depth=10, n_estimators=100, score=0.9328136914343811, total=   3.4s\n",
      "[CV] max_depth=10, n_estimators=50 ...................................\n"
     ]
    },
    {
     "name": "stderr",
     "output_type": "stream",
     "text": [
      "[Parallel(n_jobs=1)]: Done   3 out of   3 | elapsed:   11.1s remaining:    0.0s\n"
     ]
    },
    {
     "name": "stdout",
     "output_type": "stream",
     "text": [
      "[CV]  max_depth=10, n_estimators=50, score=0.9319382078002768, total=   1.7s\n",
      "[CV] max_depth=10, n_estimators=50 ...................................\n"
     ]
    },
    {
     "name": "stderr",
     "output_type": "stream",
     "text": [
      "[Parallel(n_jobs=1)]: Done   4 out of   4 | elapsed:   12.9s remaining:    0.0s\n"
     ]
    },
    {
     "name": "stdout",
     "output_type": "stream",
     "text": [
      "[CV]  max_depth=10, n_estimators=50, score=0.9327572086192776, total=   1.7s\n",
      "[CV] max_depth=10, n_estimators=50 ...................................\n",
      "[CV]  max_depth=10, n_estimators=50, score=0.9334914852156232, total=   1.8s\n",
      "[CV] max_depth=10, n_estimators=30 ...................................\n",
      "[CV]  max_depth=10, n_estimators=30, score=0.9318534835776215, total=   1.0s\n",
      "[CV] max_depth=10, n_estimators=30 ...................................\n",
      "[CV]  max_depth=10, n_estimators=30, score=0.9324183117286565, total=   1.0s\n",
      "[CV] max_depth=10, n_estimators=30 ...................................\n",
      "[CV]  max_depth=10, n_estimators=30, score=0.9333502781778644, total=   1.0s\n",
      "[CV] max_depth=8, n_estimators=100 ...................................\n",
      "[CV]  max_depth=8, n_estimators=100, score=0.9328984156570364, total=   2.9s\n",
      "[CV] max_depth=8, n_estimators=100 ...................................\n",
      "[CV]  max_depth=8, n_estimators=100, score=0.9330961055098986, total=   2.9s\n",
      "[CV] max_depth=8, n_estimators=100 ...................................\n",
      "[CV]  max_depth=8, n_estimators=100, score=0.9334350024005197, total=   2.8s\n",
      "[CV] max_depth=8, n_estimators=50 ....................................\n",
      "[CV]  max_depth=8, n_estimators=50, score=0.9323900703211048, total=   1.4s\n",
      "[CV] max_depth=8, n_estimators=50 ....................................\n",
      "[CV]  max_depth=8, n_estimators=50, score=0.9330678641023469, total=   1.4s\n",
      "[CV] max_depth=8, n_estimators=50 ....................................\n",
      "[CV]  max_depth=8, n_estimators=50, score=0.9334067609929679, total=   1.4s\n",
      "[CV] max_depth=8, n_estimators=30 ....................................\n",
      "[CV]  max_depth=8, n_estimators=30, score=0.9323053460984495, total=   0.9s\n",
      "[CV] max_depth=8, n_estimators=30 ....................................\n",
      "[CV]  max_depth=8, n_estimators=30, score=0.9325312773588635, total=   0.9s\n",
      "[CV] max_depth=8, n_estimators=30 ....................................\n",
      "[CV]  max_depth=8, n_estimators=30, score=0.9334914852156232, total=   0.9s\n",
      "[CV] max_depth=5, n_estimators=100 ...................................\n",
      "[CV]  max_depth=5, n_estimators=100, score=0.9323335875060013, total=   2.0s\n",
      "[CV] max_depth=5, n_estimators=100 ...................................\n",
      "[CV]  max_depth=5, n_estimators=100, score=0.9319382078002768, total=   2.1s\n",
      "[CV] max_depth=5, n_estimators=100 ...................................\n",
      "[CV]  max_depth=5, n_estimators=100, score=0.9324183117286565, total=   2.3s\n",
      "[CV] max_depth=5, n_estimators=50 ....................................\n",
      "[CV]  max_depth=5, n_estimators=50, score=0.9321641390606907, total=   1.1s\n",
      "[CV] max_depth=5, n_estimators=50 ....................................\n",
      "[CV]  max_depth=5, n_estimators=50, score=0.9317122765398628, total=   1.1s\n",
      "[CV] max_depth=5, n_estimators=50 ....................................\n",
      "[CV]  max_depth=5, n_estimators=50, score=0.9326442429890706, total=   1.1s\n",
      "[CV] max_depth=5, n_estimators=30 ....................................\n",
      "[CV]  max_depth=5, n_estimators=30, score=0.9320794148380356, total=   0.6s\n",
      "[CV] max_depth=5, n_estimators=30 ....................................\n",
      "[CV]  max_depth=5, n_estimators=30, score=0.93247479454376, total=   0.6s\n",
      "[CV] max_depth=5, n_estimators=30 ....................................\n",
      "[CV]  max_depth=5, n_estimators=30, score=0.93247479454376, total=   0.6s\n",
      "[CV] max_depth=None, n_estimators=100 ................................\n",
      "[CV]  max_depth=None, n_estimators=100, score=0.9308650343133101, total=   5.8s\n",
      "[CV] max_depth=None, n_estimators=100 ................................\n",
      "[CV]  max_depth=None, n_estimators=100, score=0.9314298624643452, total=   5.8s\n",
      "[CV] max_depth=None, n_estimators=100 ................................\n",
      "[CV]  max_depth=None, n_estimators=100, score=0.932248863283346, total=   5.9s\n",
      "[CV] max_depth=None, n_estimators=50 .................................\n",
      "[CV]  max_depth=None, n_estimators=50, score=0.9300460334943094, total=   2.9s\n",
      "[CV] max_depth=None, n_estimators=50 .................................\n",
      "[CV]  max_depth=None, n_estimators=50, score=0.9313168968341382, total=   3.0s\n",
      "[CV] max_depth=None, n_estimators=50 .................................\n",
      "[CV]  max_depth=None, n_estimators=50, score=0.9313168968341382, total=   2.9s\n",
      "[CV] max_depth=None, n_estimators=30 .................................\n",
      "[CV]  max_depth=None, n_estimators=30, score=0.9297353780112401, total=   1.7s\n",
      "[CV] max_depth=None, n_estimators=30 .................................\n",
      "[CV]  max_depth=None, n_estimators=30, score=0.9304978960151374, total=   1.7s\n",
      "[CV] max_depth=None, n_estimators=30 .................................\n",
      "[CV]  max_depth=None, n_estimators=30, score=0.9315993109096558, total=   1.7s\n"
     ]
    },
    {
     "name": "stderr",
     "output_type": "stream",
     "text": [
      "[Parallel(n_jobs=1)]: Done  36 out of  36 | elapsed:  1.4min finished\n"
     ]
    }
   ],
   "source": [
    "clf = rf_ensemble\n",
    "\n",
    "#param_grid = {\"n_estimators\" : [100, 30, 10], \"oob_score\": [True, False],\n",
    "#              \"max_features\": [\"sqrt\", \"log2\", None], \"max_depth\" : [5, 3, None]}\n",
    "param_grid = {\"n_estimators\" : [100, 50, 30], \"max_depth\" : [10, 8, 5, None]}\n",
    "\n",
    "# \"max_depth\": [1,2,3], \n",
    "#              \"min_samples_split\": [2, 3, 4, 5], \"min_samples_leaf\": [1,2,3],\n",
    "#              \"min_weight_fraction_leaf\": [0,0.25,0.5]}\n",
    "\n",
    "from sklearn.model_selection import StratifiedShuffleSplit\n",
    "sss = StratifiedShuffleSplit(n_splits=3, test_size=0.5, random_state=0)\n",
    "\n",
    "gridcv = GridSearchCV(clf, param_grid=param_grid, cv=sss, verbose=5, )\n",
    "gridcv.fit(X_train, y_train)\n",
    "random_forest_tuning_parameters = pd.DataFrame(gridcv.cv_results_)"
   ]
  },
  {
   "cell_type": "code",
   "execution_count": 460,
   "metadata": {},
   "outputs": [
    {
     "data": {
      "text/html": [
       "<div>\n",
       "<style>\n",
       "    .dataframe thead tr:only-child th {\n",
       "        text-align: right;\n",
       "    }\n",
       "\n",
       "    .dataframe thead th {\n",
       "        text-align: left;\n",
       "    }\n",
       "\n",
       "    .dataframe tbody tr th {\n",
       "        vertical-align: top;\n",
       "    }\n",
       "</style>\n",
       "<table border=\"1\" class=\"dataframe\">\n",
       "  <thead>\n",
       "    <tr style=\"text-align: right;\">\n",
       "      <th></th>\n",
       "      <th>mean_fit_time</th>\n",
       "      <th>mean_score_time</th>\n",
       "      <th>mean_test_score</th>\n",
       "      <th>mean_train_score</th>\n",
       "      <th>param_max_depth</th>\n",
       "      <th>param_n_estimators</th>\n",
       "      <th>params</th>\n",
       "      <th>rank_test_score</th>\n",
       "      <th>split0_test_score</th>\n",
       "      <th>split0_train_score</th>\n",
       "      <th>split1_test_score</th>\n",
       "      <th>split1_train_score</th>\n",
       "      <th>split2_test_score</th>\n",
       "      <th>split2_train_score</th>\n",
       "      <th>std_fit_time</th>\n",
       "      <th>std_score_time</th>\n",
       "      <th>std_test_score</th>\n",
       "      <th>std_train_score</th>\n",
       "    </tr>\n",
       "  </thead>\n",
       "  <tbody>\n",
       "    <tr>\n",
       "      <th>0</th>\n",
       "      <td>3.141020</td>\n",
       "      <td>0.284065</td>\n",
       "      <td>0.932616</td>\n",
       "      <td>0.950794</td>\n",
       "      <td>10</td>\n",
       "      <td>100</td>\n",
       "      <td>{'max_depth': 10, 'n_estimators': 100}</td>\n",
       "      <td>5</td>\n",
       "      <td>0.932192</td>\n",
       "      <td>0.952187</td>\n",
       "      <td>0.932842</td>\n",
       "      <td>0.950013</td>\n",
       "      <td>0.932814</td>\n",
       "      <td>0.950182</td>\n",
       "      <td>0.072406</td>\n",
       "      <td>0.014519</td>\n",
       "      <td>0.000300</td>\n",
       "      <td>0.000988</td>\n",
       "    </tr>\n",
       "    <tr>\n",
       "      <th>1</th>\n",
       "      <td>1.587411</td>\n",
       "      <td>0.139910</td>\n",
       "      <td>0.932729</td>\n",
       "      <td>0.950229</td>\n",
       "      <td>10</td>\n",
       "      <td>50</td>\n",
       "      <td>{'max_depth': 10, 'n_estimators': 50}</td>\n",
       "      <td>4</td>\n",
       "      <td>0.931938</td>\n",
       "      <td>0.951566</td>\n",
       "      <td>0.932757</td>\n",
       "      <td>0.949278</td>\n",
       "      <td>0.933491</td>\n",
       "      <td>0.949843</td>\n",
       "      <td>0.029494</td>\n",
       "      <td>0.006357</td>\n",
       "      <td>0.000634</td>\n",
       "      <td>0.000973</td>\n",
       "    </tr>\n",
       "    <tr>\n",
       "      <th>2</th>\n",
       "      <td>0.932144</td>\n",
       "      <td>0.085394</td>\n",
       "      <td>0.932541</td>\n",
       "      <td>0.949806</td>\n",
       "      <td>10</td>\n",
       "      <td>30</td>\n",
       "      <td>{'max_depth': 10, 'n_estimators': 30}</td>\n",
       "      <td>6</td>\n",
       "      <td>0.931853</td>\n",
       "      <td>0.951397</td>\n",
       "      <td>0.932418</td>\n",
       "      <td>0.948996</td>\n",
       "      <td>0.933350</td>\n",
       "      <td>0.949024</td>\n",
       "      <td>0.013345</td>\n",
       "      <td>0.002851</td>\n",
       "      <td>0.000617</td>\n",
       "      <td>0.001125</td>\n",
       "    </tr>\n",
       "    <tr>\n",
       "      <th>3</th>\n",
       "      <td>2.639833</td>\n",
       "      <td>0.226436</td>\n",
       "      <td>0.933143</td>\n",
       "      <td>0.942585</td>\n",
       "      <td>8</td>\n",
       "      <td>100</td>\n",
       "      <td>{'max_depth': 8, 'n_estimators': 100}</td>\n",
       "      <td>1</td>\n",
       "      <td>0.932898</td>\n",
       "      <td>0.944590</td>\n",
       "      <td>0.933096</td>\n",
       "      <td>0.941936</td>\n",
       "      <td>0.933435</td>\n",
       "      <td>0.941230</td>\n",
       "      <td>0.059742</td>\n",
       "      <td>0.008541</td>\n",
       "      <td>0.000222</td>\n",
       "      <td>0.001447</td>\n",
       "    </tr>\n",
       "    <tr>\n",
       "      <th>4</th>\n",
       "      <td>1.294764</td>\n",
       "      <td>0.115575</td>\n",
       "      <td>0.932955</td>\n",
       "      <td>0.942416</td>\n",
       "      <td>8</td>\n",
       "      <td>50</td>\n",
       "      <td>{'max_depth': 8, 'n_estimators': 50}</td>\n",
       "      <td>2</td>\n",
       "      <td>0.932390</td>\n",
       "      <td>0.942952</td>\n",
       "      <td>0.933068</td>\n",
       "      <td>0.942303</td>\n",
       "      <td>0.933407</td>\n",
       "      <td>0.941992</td>\n",
       "      <td>0.004992</td>\n",
       "      <td>0.003960</td>\n",
       "      <td>0.000423</td>\n",
       "      <td>0.000400</td>\n",
       "    </tr>\n",
       "    <tr>\n",
       "      <th>5</th>\n",
       "      <td>0.815460</td>\n",
       "      <td>0.069942</td>\n",
       "      <td>0.932776</td>\n",
       "      <td>0.942020</td>\n",
       "      <td>8</td>\n",
       "      <td>30</td>\n",
       "      <td>{'max_depth': 8, 'n_estimators': 30}</td>\n",
       "      <td>3</td>\n",
       "      <td>0.932305</td>\n",
       "      <td>0.942726</td>\n",
       "      <td>0.932531</td>\n",
       "      <td>0.941343</td>\n",
       "      <td>0.933491</td>\n",
       "      <td>0.941992</td>\n",
       "      <td>0.035973</td>\n",
       "      <td>0.000806</td>\n",
       "      <td>0.000514</td>\n",
       "      <td>0.000565</td>\n",
       "    </tr>\n",
       "    <tr>\n",
       "      <th>6</th>\n",
       "      <td>1.950061</td>\n",
       "      <td>0.183720</td>\n",
       "      <td>0.932230</td>\n",
       "      <td>0.933906</td>\n",
       "      <td>5</td>\n",
       "      <td>100</td>\n",
       "      <td>{'max_depth': 5, 'n_estimators': 100}</td>\n",
       "      <td>8</td>\n",
       "      <td>0.932334</td>\n",
       "      <td>0.934423</td>\n",
       "      <td>0.931938</td>\n",
       "      <td>0.933774</td>\n",
       "      <td>0.932418</td>\n",
       "      <td>0.933520</td>\n",
       "      <td>0.099163</td>\n",
       "      <td>0.013139</td>\n",
       "      <td>0.000209</td>\n",
       "      <td>0.000381</td>\n",
       "    </tr>\n",
       "    <tr>\n",
       "      <th>7</th>\n",
       "      <td>0.997141</td>\n",
       "      <td>0.100782</td>\n",
       "      <td>0.932174</td>\n",
       "      <td>0.933350</td>\n",
       "      <td>5</td>\n",
       "      <td>50</td>\n",
       "      <td>{'max_depth': 5, 'n_estimators': 50}</td>\n",
       "      <td>9</td>\n",
       "      <td>0.932164</td>\n",
       "      <td>0.933689</td>\n",
       "      <td>0.931712</td>\n",
       "      <td>0.933520</td>\n",
       "      <td>0.932644</td>\n",
       "      <td>0.932842</td>\n",
       "      <td>0.028227</td>\n",
       "      <td>0.002825</td>\n",
       "      <td>0.000381</td>\n",
       "      <td>0.000366</td>\n",
       "    </tr>\n",
       "    <tr>\n",
       "      <th>8</th>\n",
       "      <td>0.567788</td>\n",
       "      <td>0.054387</td>\n",
       "      <td>0.932343</td>\n",
       "      <td>0.933802</td>\n",
       "      <td>5</td>\n",
       "      <td>30</td>\n",
       "      <td>{'max_depth': 5, 'n_estimators': 30}</td>\n",
       "      <td>7</td>\n",
       "      <td>0.932079</td>\n",
       "      <td>0.934254</td>\n",
       "      <td>0.932475</td>\n",
       "      <td>0.934056</td>\n",
       "      <td>0.932475</td>\n",
       "      <td>0.933096</td>\n",
       "      <td>0.016828</td>\n",
       "      <td>0.002505</td>\n",
       "      <td>0.000186</td>\n",
       "      <td>0.000506</td>\n",
       "    </tr>\n",
       "    <tr>\n",
       "      <th>9</th>\n",
       "      <td>5.263004</td>\n",
       "      <td>0.568107</td>\n",
       "      <td>0.931515</td>\n",
       "      <td>0.999972</td>\n",
       "      <td>None</td>\n",
       "      <td>100</td>\n",
       "      <td>{'max_depth': None, 'n_estimators': 100}</td>\n",
       "      <td>10</td>\n",
       "      <td>0.930865</td>\n",
       "      <td>0.999944</td>\n",
       "      <td>0.931430</td>\n",
       "      <td>0.999972</td>\n",
       "      <td>0.932249</td>\n",
       "      <td>1.000000</td>\n",
       "      <td>0.050184</td>\n",
       "      <td>0.012183</td>\n",
       "      <td>0.000568</td>\n",
       "      <td>0.000023</td>\n",
       "    </tr>\n",
       "    <tr>\n",
       "      <th>10</th>\n",
       "      <td>2.654922</td>\n",
       "      <td>0.288928</td>\n",
       "      <td>0.930893</td>\n",
       "      <td>0.999398</td>\n",
       "      <td>None</td>\n",
       "      <td>50</td>\n",
       "      <td>{'max_depth': None, 'n_estimators': 50}</td>\n",
       "      <td>11</td>\n",
       "      <td>0.930046</td>\n",
       "      <td>0.999379</td>\n",
       "      <td>0.931317</td>\n",
       "      <td>0.999350</td>\n",
       "      <td>0.931317</td>\n",
       "      <td>0.999463</td>\n",
       "      <td>0.014818</td>\n",
       "      <td>0.001324</td>\n",
       "      <td>0.000599</td>\n",
       "      <td>0.000048</td>\n",
       "    </tr>\n",
       "    <tr>\n",
       "      <th>11</th>\n",
       "      <td>1.557663</td>\n",
       "      <td>0.178972</td>\n",
       "      <td>0.930611</td>\n",
       "      <td>0.997985</td>\n",
       "      <td>None</td>\n",
       "      <td>30</td>\n",
       "      <td>{'max_depth': None, 'n_estimators': 30}</td>\n",
       "      <td>12</td>\n",
       "      <td>0.929735</td>\n",
       "      <td>0.998080</td>\n",
       "      <td>0.930498</td>\n",
       "      <td>0.997825</td>\n",
       "      <td>0.931599</td>\n",
       "      <td>0.998051</td>\n",
       "      <td>0.012080</td>\n",
       "      <td>0.000925</td>\n",
       "      <td>0.000765</td>\n",
       "      <td>0.000114</td>\n",
       "    </tr>\n",
       "  </tbody>\n",
       "</table>\n",
       "</div>"
      ],
      "text/plain": [
       "    mean_fit_time  mean_score_time  mean_test_score  mean_train_score  \\\n",
       "0        3.141020         0.284065         0.932616          0.950794   \n",
       "1        1.587411         0.139910         0.932729          0.950229   \n",
       "2        0.932144         0.085394         0.932541          0.949806   \n",
       "3        2.639833         0.226436         0.933143          0.942585   \n",
       "4        1.294764         0.115575         0.932955          0.942416   \n",
       "5        0.815460         0.069942         0.932776          0.942020   \n",
       "6        1.950061         0.183720         0.932230          0.933906   \n",
       "7        0.997141         0.100782         0.932174          0.933350   \n",
       "8        0.567788         0.054387         0.932343          0.933802   \n",
       "9        5.263004         0.568107         0.931515          0.999972   \n",
       "10       2.654922         0.288928         0.930893          0.999398   \n",
       "11       1.557663         0.178972         0.930611          0.997985   \n",
       "\n",
       "   param_max_depth param_n_estimators  \\\n",
       "0               10                100   \n",
       "1               10                 50   \n",
       "2               10                 30   \n",
       "3                8                100   \n",
       "4                8                 50   \n",
       "5                8                 30   \n",
       "6                5                100   \n",
       "7                5                 50   \n",
       "8                5                 30   \n",
       "9             None                100   \n",
       "10            None                 50   \n",
       "11            None                 30   \n",
       "\n",
       "                                      params  rank_test_score  \\\n",
       "0     {'max_depth': 10, 'n_estimators': 100}                5   \n",
       "1      {'max_depth': 10, 'n_estimators': 50}                4   \n",
       "2      {'max_depth': 10, 'n_estimators': 30}                6   \n",
       "3      {'max_depth': 8, 'n_estimators': 100}                1   \n",
       "4       {'max_depth': 8, 'n_estimators': 50}                2   \n",
       "5       {'max_depth': 8, 'n_estimators': 30}                3   \n",
       "6      {'max_depth': 5, 'n_estimators': 100}                8   \n",
       "7       {'max_depth': 5, 'n_estimators': 50}                9   \n",
       "8       {'max_depth': 5, 'n_estimators': 30}                7   \n",
       "9   {'max_depth': None, 'n_estimators': 100}               10   \n",
       "10   {'max_depth': None, 'n_estimators': 50}               11   \n",
       "11   {'max_depth': None, 'n_estimators': 30}               12   \n",
       "\n",
       "    split0_test_score  split0_train_score  split1_test_score  \\\n",
       "0            0.932192            0.952187           0.932842   \n",
       "1            0.931938            0.951566           0.932757   \n",
       "2            0.931853            0.951397           0.932418   \n",
       "3            0.932898            0.944590           0.933096   \n",
       "4            0.932390            0.942952           0.933068   \n",
       "5            0.932305            0.942726           0.932531   \n",
       "6            0.932334            0.934423           0.931938   \n",
       "7            0.932164            0.933689           0.931712   \n",
       "8            0.932079            0.934254           0.932475   \n",
       "9            0.930865            0.999944           0.931430   \n",
       "10           0.930046            0.999379           0.931317   \n",
       "11           0.929735            0.998080           0.930498   \n",
       "\n",
       "    split1_train_score  split2_test_score  split2_train_score  std_fit_time  \\\n",
       "0             0.950013           0.932814            0.950182      0.072406   \n",
       "1             0.949278           0.933491            0.949843      0.029494   \n",
       "2             0.948996           0.933350            0.949024      0.013345   \n",
       "3             0.941936           0.933435            0.941230      0.059742   \n",
       "4             0.942303           0.933407            0.941992      0.004992   \n",
       "5             0.941343           0.933491            0.941992      0.035973   \n",
       "6             0.933774           0.932418            0.933520      0.099163   \n",
       "7             0.933520           0.932644            0.932842      0.028227   \n",
       "8             0.934056           0.932475            0.933096      0.016828   \n",
       "9             0.999972           0.932249            1.000000      0.050184   \n",
       "10            0.999350           0.931317            0.999463      0.014818   \n",
       "11            0.997825           0.931599            0.998051      0.012080   \n",
       "\n",
       "    std_score_time  std_test_score  std_train_score  \n",
       "0         0.014519        0.000300         0.000988  \n",
       "1         0.006357        0.000634         0.000973  \n",
       "2         0.002851        0.000617         0.001125  \n",
       "3         0.008541        0.000222         0.001447  \n",
       "4         0.003960        0.000423         0.000400  \n",
       "5         0.000806        0.000514         0.000565  \n",
       "6         0.013139        0.000209         0.000381  \n",
       "7         0.002825        0.000381         0.000366  \n",
       "8         0.002505        0.000186         0.000506  \n",
       "9         0.012183        0.000568         0.000023  \n",
       "10        0.001324        0.000599         0.000048  \n",
       "11        0.000925        0.000765         0.000114  "
      ]
     },
     "execution_count": 460,
     "metadata": {},
     "output_type": "execute_result"
    }
   ],
   "source": [
    "random_forest_tuning_parameters"
   ]
  },
  {
   "cell_type": "code",
   "execution_count": null,
   "metadata": {
    "collapsed": true
   },
   "outputs": [],
   "source": []
  },
  {
   "cell_type": "code",
   "execution_count": null,
   "metadata": {
    "collapsed": true
   },
   "outputs": [],
   "source": []
  },
  {
   "cell_type": "code",
   "execution_count": null,
   "metadata": {
    "collapsed": true
   },
   "outputs": [],
   "source": []
  },
  {
   "cell_type": "code",
   "execution_count": null,
   "metadata": {
    "collapsed": true
   },
   "outputs": [],
   "source": []
  },
  {
   "cell_type": "code",
   "execution_count": null,
   "metadata": {
    "collapsed": true
   },
   "outputs": [],
   "source": []
  },
  {
   "cell_type": "code",
   "execution_count": null,
   "metadata": {
    "collapsed": true
   },
   "outputs": [],
   "source": []
  },
  {
   "cell_type": "code",
   "execution_count": null,
   "metadata": {
    "collapsed": true
   },
   "outputs": [],
   "source": []
  },
  {
   "cell_type": "code",
   "execution_count": null,
   "metadata": {
    "collapsed": true
   },
   "outputs": [],
   "source": []
  },
  {
   "cell_type": "code",
   "execution_count": null,
   "metadata": {
    "collapsed": true
   },
   "outputs": [],
   "source": []
  },
  {
   "cell_type": "code",
   "execution_count": null,
   "metadata": {
    "collapsed": true
   },
   "outputs": [],
   "source": []
  },
  {
   "cell_type": "code",
   "execution_count": null,
   "metadata": {
    "collapsed": true
   },
   "outputs": [],
   "source": []
  },
  {
   "cell_type": "markdown",
   "metadata": {},
   "source": [
    "<h2> omg try lime on this </h2>"
   ]
  },
  {
   "cell_type": "code",
   "execution_count": 169,
   "metadata": {
    "collapsed": true
   },
   "outputs": [],
   "source": [
    "import lime\n",
    "import lime.lime_tabular\n",
    "from lime.lime_tabular import LimeTabularExplainer"
   ]
  },
  {
   "cell_type": "code",
   "execution_count": 176,
   "metadata": {
    "collapsed": true
   },
   "outputs": [],
   "source": [
    "class_names = [\"Responsible\",\"Delinquent\"]\n",
    "X_train = np.array(X_train)\n",
    "X_train[3]\n",
    "X_test = np.array(X_test)"
   ]
  },
  {
   "cell_type": "code",
   "execution_count": 171,
   "metadata": {},
   "outputs": [
    {
     "data": {
      "text/plain": [
       "RandomForestClassifier(bootstrap=True, class_weight=None, criterion='gini',\n",
       "            max_depth=None, max_features='auto', max_leaf_nodes=None,\n",
       "            min_impurity_decrease=0.0, min_impurity_split=None,\n",
       "            min_samples_leaf=1, min_samples_split=2,\n",
       "            min_weight_fraction_leaf=0.0, n_estimators=100, n_jobs=1,\n",
       "            oob_score=False, random_state=None, verbose=0,\n",
       "            warm_start=False)"
      ]
     },
     "execution_count": 171,
     "metadata": {},
     "output_type": "execute_result"
    }
   ],
   "source": [
    "rf_ensemble"
   ]
  },
  {
   "cell_type": "code",
   "execution_count": 421,
   "metadata": {
    "collapsed": true
   },
   "outputs": [],
   "source": [
    "X_train_np = np.array(X_train)\n",
    "X_test_np = np.array(X_test)"
   ]
  },
  {
   "cell_type": "code",
   "execution_count": 422,
   "metadata": {
    "collapsed": true
   },
   "outputs": [],
   "source": [
    "explainer = LimeTabularExplainer(\n",
    "    X_train_np,\n",
    "    class_names=['Responsible', 'Delinquent'],\n",
    "    feature_names=featureHeaders_readable,\n",
    "    discretize_continuous=True\n",
    ")"
   ]
  },
  {
   "cell_type": "code",
   "execution_count": 1,
   "metadata": {},
   "outputs": [
    {
     "ename": "NameError",
     "evalue": "name 'np' is not defined",
     "output_type": "error",
     "traceback": [
      "\u001b[0;31m---------------------------------------------------------------------------\u001b[0m",
      "\u001b[0;31mNameError\u001b[0m                                 Traceback (most recent call last)",
      "\u001b[0;32m<ipython-input-1-eabfa665f5b9>\u001b[0m in \u001b[0;36m<module>\u001b[0;34m()\u001b[0m\n\u001b[0;32m----> 1\u001b[0;31m \u001b[0mexample\u001b[0m \u001b[0;34m=\u001b[0m \u001b[0mnp\u001b[0m\u001b[0;34m.\u001b[0m\u001b[0mrandom\u001b[0m\u001b[0;34m.\u001b[0m\u001b[0mrandint\u001b[0m\u001b[0;34m(\u001b[0m\u001b[0;36m0\u001b[0m\u001b[0;34m,\u001b[0m \u001b[0mX_test_np\u001b[0m\u001b[0;34m.\u001b[0m\u001b[0mshape\u001b[0m\u001b[0;34m[\u001b[0m\u001b[0;36m1\u001b[0m\u001b[0;34m]\u001b[0m\u001b[0;34m)\u001b[0m\u001b[0;34m\u001b[0m\u001b[0m\n\u001b[0m\u001b[1;32m      2\u001b[0m \u001b[0mexp\u001b[0m \u001b[0;34m=\u001b[0m \u001b[0mexplainer\u001b[0m\u001b[0;34m.\u001b[0m\u001b[0mexplain_instance\u001b[0m\u001b[0;34m(\u001b[0m\u001b[0mX_test_np\u001b[0m\u001b[0;34m[\u001b[0m\u001b[0mexample\u001b[0m\u001b[0;34m]\u001b[0m\u001b[0;34m,\u001b[0m \u001b[0mrf_ensemble\u001b[0m\u001b[0;34m.\u001b[0m\u001b[0mpredict_proba\u001b[0m\u001b[0;34m,\u001b[0m \u001b[0mnum_features\u001b[0m\u001b[0;34m=\u001b[0m\u001b[0;36m5\u001b[0m\u001b[0;34m)\u001b[0m\u001b[0;34m\u001b[0m\u001b[0m\n\u001b[1;32m      3\u001b[0m \u001b[0mprint\u001b[0m\u001b[0;34m(\u001b[0m\u001b[0;34m'Probability of delinquency:'\u001b[0m\u001b[0;34m,\u001b[0m \u001b[0mexp\u001b[0m\u001b[0;34m.\u001b[0m\u001b[0mpredict_proba\u001b[0m\u001b[0;34m[\u001b[0m\u001b[0;36m1\u001b[0m\u001b[0;34m]\u001b[0m\u001b[0;34m)\u001b[0m\u001b[0;34m\u001b[0m\u001b[0m\n\u001b[1;32m      4\u001b[0m \u001b[0mfig\u001b[0m \u001b[0;34m=\u001b[0m \u001b[0mexp\u001b[0m\u001b[0;34m.\u001b[0m\u001b[0mas_pyplot_figure\u001b[0m\u001b[0;34m(\u001b[0m\u001b[0;34m)\u001b[0m\u001b[0;34m\u001b[0m\u001b[0m\n",
      "\u001b[0;31mNameError\u001b[0m: name 'np' is not defined"
     ]
    }
   ],
   "source": [
    "example = np.random.randint(0, X_test_np.shape[1])\n",
    "exp = explainer.explain_instance(X_test_np[example], rf_ensemble.predict_proba, num_features=5)\n",
    "print('Probability of delinquency:', exp.predict_proba[1])\n",
    "fig = exp.as_pyplot_figure()"
   ]
  },
  {
   "cell_type": "code",
   "execution_count": 448,
   "metadata": {},
   "outputs": [
    {
     "data": {
      "text/plain": [
       "matplotlib.figure.Figure"
      ]
     },
     "execution_count": 448,
     "metadata": {},
     "output_type": "execute_result"
    }
   ],
   "source": [
    "type(fig)"
   ]
  },
  {
   "cell_type": "code",
   "execution_count": 591,
   "metadata": {},
   "outputs": [
    {
     "data": {
      "text/plain": [
       "list"
      ]
     },
     "execution_count": 591,
     "metadata": {},
     "output_type": "execute_result"
    }
   ],
   "source": [
    "exp.as_list()"
   ]
  },
  {
   "cell_type": "code",
   "execution_count": 592,
   "metadata": {
    "collapsed": true
   },
   "outputs": [],
   "source": [
    "exp_reasons = exp.as_list()"
   ]
  },
  {
   "cell_type": "code",
   "execution_count": 602,
   "metadata": {},
   "outputs": [
    {
     "data": {
      "text/plain": [
       "'Number Of Times 3 months late <= 0.00'"
      ]
     },
     "execution_count": 602,
     "metadata": {},
     "output_type": "execute_result"
    }
   ],
   "source": [
    "exp_reasons[0][0]"
   ]
  },
  {
   "cell_type": "code",
   "execution_count": 598,
   "metadata": {},
   "outputs": [
    {
     "data": {
      "text/plain": [
       "-0.27289566754314909"
      ]
     },
     "execution_count": 598,
     "metadata": {},
     "output_type": "execute_result"
    }
   ],
   "source": [
    "exp_reasons[0][1]"
   ]
  },
  {
   "cell_type": "code",
   "execution_count": 608,
   "metadata": {},
   "outputs": [
    {
     "name": "stdout",
     "output_type": "stream",
     "text": [
      "% Credit Used > 0.58\n",
      "Number Of Times 1-2 months late > 0.00\n",
      "Age <= 40.00\n",
      "\n"
     ]
    },
    {
     "data": {
      "text/plain": [
       "['Number Of Times 3 months late <= 0.00',\n",
       " 'Number Of Times 2-3 months late <= 0.00']"
      ]
     },
     "execution_count": 608,
     "metadata": {},
     "output_type": "execute_result"
    }
   ],
   "source": [
    "good_reasons = []\n",
    "for i in range (0,len(exp_reasons)):\n",
    "    if (exp_reasons[i][1] >= 0):\n",
    "        print (exp_reasons[i][0])\n",
    "    else:\n",
    "        good_reasons.append(exp_reasons[i][0])\n",
    "print()\n",
    "good_reasons"
   ]
  },
  {
   "cell_type": "code",
   "execution_count": null,
   "metadata": {
    "collapsed": true
   },
   "outputs": [],
   "source": []
  },
  {
   "cell_type": "code",
   "execution_count": null,
   "metadata": {
    "collapsed": true
   },
   "outputs": [],
   "source": []
  },
  {
   "cell_type": "code",
   "execution_count": null,
   "metadata": {
    "collapsed": true
   },
   "outputs": [],
   "source": []
  },
  {
   "cell_type": "code",
   "execution_count": null,
   "metadata": {
    "collapsed": true
   },
   "outputs": [],
   "source": []
  },
  {
   "cell_type": "code",
   "execution_count": 211,
   "metadata": {
    "collapsed": true
   },
   "outputs": [],
   "source": [
    "fig.savefig(\"lime_fig.png\",bbox_inches='tight')"
   ]
  },
  {
   "cell_type": "code",
   "execution_count": 206,
   "metadata": {
    "collapsed": true
   },
   "outputs": [],
   "source": [
    "import pickle\n",
    "import dill\n",
    "\n",
    "def saveVar(variable_to_save, file_name):\n",
    "    with open(file_name+'.pickle', \"wb\") as f:\n",
    "        pickle.dump(variable_to_save, f)\n",
    "        \n",
    "def saveDill(variable_to_save, file_name):\n",
    "    with open(file_name+'.dill', 'wb') as f:\n",
    "        dill.dump(variable_to_save, f)"
   ]
  },
  {
   "cell_type": "code",
   "execution_count": 199,
   "metadata": {
    "collapsed": true
   },
   "outputs": [],
   "source": [
    "saveVar(rf_ensemble, 'Trained_RF')"
   ]
  },
  {
   "cell_type": "code",
   "execution_count": 200,
   "metadata": {
    "collapsed": true
   },
   "outputs": [],
   "source": [
    "saveDill(explainer,\"Saved_Explainer\")"
   ]
  },
  {
   "cell_type": "code",
   "execution_count": 184,
   "metadata": {},
   "outputs": [
    {
     "name": "stdout",
     "output_type": "stream",
     "text": [
      "Normalized confusion matrix\n",
      "[[ 0.79  0.21]\n",
      " [ 0.09  0.91]]\n"
     ]
    },
    {
     "data": {
      "image/png": "[encoded data removed]",
      "text/plain": [
       "<matplotlib.figure.Figure at 0x7fc58e9bbf60>"
      ]
     },
     "metadata": {},
     "output_type": "display_data"
    }
   ],
   "source": [
    "cm = confusion_matrix(y_test, rf_ensemble.predict(X_test))\n",
    "plot_confusion_matrix(cm,\"RF Ensemble Balanced Dataset Confusion Matrix\")"
   ]
  },
  {
   "cell_type": "code",
   "execution_count": 190,
   "metadata": {},
   "outputs": [
    {
     "name": "stdout",
     "output_type": "stream",
     "text": [
      "Accuracy: 80.13%\n"
     ]
    }
   ],
   "source": [
    "accuracy = accuracy_score(y_test, rf_ensemble.predict(X_test))\n",
    "print(\"Accuracy: %.2f%%\" % (accuracy * 100.0))"
   ]
  },
  {
   "cell_type": "code",
   "execution_count": 264,
   "metadata": {},
   "outputs": [
    {
     "ename": "ModuleNotFoundError",
     "evalue": "No module named 'sk'",
     "output_type": "error",
     "traceback": [
      "\u001b[0;31m---------------------------------------------------------------------------\u001b[0m",
      "\u001b[0;31mModuleNotFoundError\u001b[0m                       Traceback (most recent call last)",
      "\u001b[0;32m<ipython-input-264-8642d3b0dbe8>\u001b[0m in \u001b[0;36m<module>\u001b[0;34m()\u001b[0m\n\u001b[0;32m----> 1\u001b[0;31m \u001b[0;32mfrom\u001b[0m \u001b[0msk\u001b[0m \u001b[0;32mimport\u001b[0m \u001b[0mmetrics\u001b[0m\u001b[0;34m\u001b[0m\u001b[0m\n\u001b[0m\u001b[1;32m      2\u001b[0m \u001b[0;32mfrom\u001b[0m \u001b[0msklearn\u001b[0m\u001b[0;34m.\u001b[0m\u001b[0mmetrics\u001b[0m \u001b[0;32mimport\u001b[0m \u001b[0maccuracy_score\u001b[0m\u001b[0;34m\u001b[0m\u001b[0m\n\u001b[1;32m      3\u001b[0m \u001b[0msklearn\u001b[0m\u001b[0;34m.\u001b[0m\u001b[0mmetrics\u001b[0m\u001b[0;34m.\u001b[0m\u001b[0maccuracy_score\u001b[0m\u001b[0;34m(\u001b[0m\u001b[0my_test\u001b[0m\u001b[0;34m,\u001b[0m \u001b[0mrf\u001b[0m\u001b[0;34m.\u001b[0m\u001b[0mpredict\u001b[0m\u001b[0;34m(\u001b[0m\u001b[0mX_test\u001b[0m\u001b[0;34m)\u001b[0m\u001b[0;34m)\u001b[0m\u001b[0;34m\u001b[0m\u001b[0m\n",
      "\u001b[0;31mModuleNotFoundError\u001b[0m: No module named 'sk'"
     ]
    }
   ],
   "source": [
    "from sk import metrics\n",
    "from sklearn.metrics import accuracy_score\n",
    "sklearn.metrics.accuracy_score(y_test, rf.predict(X_test))"
   ]
  },
  {
   "cell_type": "code",
   "execution_count": null,
   "metadata": {
    "collapsed": true
   },
   "outputs": [],
   "source": []
  },
  {
   "cell_type": "markdown",
   "metadata": {},
   "source": [
    "**Now, just split train and test and undersample train (and test on regular test)**"
   ]
  },
  {
   "cell_type": "code",
   "execution_count": null,
   "metadata": {
    "collapsed": true
   },
   "outputs": [],
   "source": [
    "def classification_setup(df_data):\n",
    "    '''Returns X_data, y_data, ls_features'''\n",
    "    X_data, y_data = df_data, df_data['SeriousDlqin2yrs']\n",
    "    ls_features = list(X_data.keys())\n",
    "    class_index = ls_features.index('SeriousDlqin2yrs')\n",
    "    ls_features.pop(class_index)\n",
    "    return X_data, y_data, ls_features\n",
    "\n",
    "df_data = data\n",
    "X_data, y_data, ls_features = classification_setup(df_data)\n"
   ]
  },
  {
   "cell_type": "code",
   "execution_count": null,
   "metadata": {
    "collapsed": true
   },
   "outputs": [],
   "source": [
    "def cv_setup(X_data, y_data):\n",
    "    '''Returns X_data, y_data, X_cv, y_cv, ls_features\n",
    "    X_cv, y_cv are randomized 10% of data with same class\n",
    "    proportions'''\n",
    "    \n",
    "    \n",
    "    pos_events = X_data[X_data['SeriousDlqin2yrs'] == 1]\n",
    "    neg_events = X_data[X_data['SeriousDlqin2yrs'] == 0]\n",
    "    number_pos_events, number_neg_events, number_events = (len(pos_events), \n",
    "                                                           len(neg_events),\n",
    "                                                           len(X_data))\n",
    "    pos_events = pos_events.reindex(np.random.permutation(pos_events.index))\n",
    "    neg_events = neg_events.reindex(np.random.permutation(neg_events.index))\n",
    "    X_cv = pd.concat([neg_events.tail(number_neg_events//10), \n",
    "                      pos_events.tail(number_pos_events//10)])\n",
    "    y_cv = X_cv['SeriousDlqin2yrs']\n",
    "\n",
    "    #Get rid of duplicates between CV and Test/Train bank of data\n",
    "    X_data = pd.concat([X_cv, X_data])\n",
    "    X_data = (X_data.reset_index()\n",
    "                    .drop_duplicates(subset= 'index', keep= False)\n",
    "                    .set_index('index'))\n",
    "    y_data = X_data['SeriousDlqin2yrs']\n",
    "    \n",
    "    return X_data, y_data, X_cv, y_cv, ls_features"
   ]
  },
  {
   "cell_type": "code",
   "execution_count": null,
   "metadata": {
    "collapsed": true
   },
   "outputs": [],
   "source": []
  },
  {
   "cell_type": "code",
   "execution_count": null,
   "metadata": {
    "collapsed": true
   },
   "outputs": [],
   "source": []
  },
  {
   "cell_type": "code",
   "execution_count": null,
   "metadata": {
    "collapsed": true
   },
   "outputs": [],
   "source": []
  },
  {
   "cell_type": "code",
   "execution_count": null,
   "metadata": {
    "collapsed": true
   },
   "outputs": [],
   "source": []
  },
  {
   "cell_type": "code",
   "execution_count": null,
   "metadata": {
    "collapsed": true
   },
   "outputs": [],
   "source": []
  },
  {
   "cell_type": "code",
   "execution_count": null,
   "metadata": {
    "collapsed": true
   },
   "outputs": [],
   "source": []
  },
  {
   "cell_type": "code",
   "execution_count": null,
   "metadata": {
    "collapsed": true
   },
   "outputs": [],
   "source": []
  },
  {
   "cell_type": "code",
   "execution_count": 17,
   "metadata": {
    "collapsed": true
   },
   "outputs": [],
   "source": [
    "data_pos = data[data.SeriousDlqin2yrs==True]\n",
    "data_neg = data[data.SeriousDlqin2yrs==False]"
   ]
  },
  {
   "cell_type": "code",
   "execution_count": 18,
   "metadata": {
    "collapsed": true
   },
   "outputs": [],
   "source": [
    "data_neg_samp = data_neg.sample(frac=0.1, random_state=1)"
   ]
  },
  {
   "cell_type": "code",
   "execution_count": 19,
   "metadata": {
    "collapsed": true
   },
   "outputs": [],
   "source": [
    "balanced_data = pd.concat([data_neg_samp, data_pos], ignore_index=True)"
   ]
  },
  {
   "cell_type": "code",
   "execution_count": 20,
   "metadata": {
    "collapsed": true
   },
   "outputs": [],
   "source": [
    "featureHeaders = list(balanced_data.columns)\n",
    "targetFeature = 'SeriousDlqin2yrs'\n",
    "featureHeaders.remove(targetFeature)\n",
    "train_percentage = 0.6\n",
    "test_percentage = 1 - train_percentage\n",
    "X_train, X_test, y_train, y_test = train_test_split(balanced_data[featureHeaders], balanced_data[targetFeature],\n",
    "                                                       train_size=train_percentage, test_size=test_percentage)"
   ]
  },
  {
   "cell_type": "code",
   "execution_count": 21,
   "metadata": {
    "collapsed": true
   },
   "outputs": [],
   "source": [
    "rf = RandomForestClassifier(n_estimators=10)\n",
    "rf.fit(X_train, y_train)\n",
    "y_pred_rf = rf.predict_proba(X_test)[:,1]"
   ]
  },
  {
   "cell_type": "code",
   "execution_count": 22,
   "metadata": {
    "scrolled": true
   },
   "outputs": [
    {
     "data": {
      "image/png": "[encoded data removed]",
      "text/plain": [
       "<matplotlib.figure.Figure at 0x7f7377e08128>"
      ]
     },
     "metadata": {},
     "output_type": "display_data"
    }
   ],
   "source": [
    "fpr_rf, tpr_rf, _ = roc_curve(y_test, y_pred_rf)\n",
    "roc_auc=auc(fpr_rf, tpr_rf)\n",
    "plt.plot(fpr_rf, tpr_rf, label='AUC=%0.2f'% roc_auc)\n",
    "plt.xlabel('False positive rate')\n",
    "plt.ylabel('True positive rate')\n",
    "plt.title('ROC curve')\n",
    "plt.legend(loc='best')\n",
    "plt.plot([0,1],[0,1],'r--')\n",
    "plt.show()"
   ]
  },
  {
   "cell_type": "code",
   "execution_count": 23,
   "metadata": {
    "collapsed": true
   },
   "outputs": [],
   "source": []
  },
  {
   "cell_type": "code",
   "execution_count": 24,
   "metadata": {},
   "outputs": [
    {
     "name": "stdout",
     "output_type": "stream",
     "text": [
      "             precision    recall  f1-score   support\n",
      "\n",
      "          0       0.75      0.84      0.80      4363\n",
      "          1       0.76      0.64      0.69      3337\n",
      "\n",
      "avg / total       0.75      0.75      0.75      7700\n",
      "\n"
     ]
    }
   ],
   "source": [
    "\n"
   ]
  }
 ],
 "metadata": {
  "kernelspec": {
   "display_name": "Python 3",
   "language": "python",
   "name": "python3"
  },
  "language_info": {
   "codemirror_mode": {
    "name": "ipython",
    "version": 3
   },
   "file_extension": ".py",
   "mimetype": "text/x-python",
   "name": "python",
   "nbconvert_exporter": "python",
   "pygments_lexer": "ipython3",
   "version": "3.6.2"
  }
 },
 "nbformat": 4,
 "nbformat_minor": 2
}
