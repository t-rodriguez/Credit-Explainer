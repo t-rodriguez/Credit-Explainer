{
 "cells": [
  {
   "cell_type": "code",
   "execution_count": 1,
   "metadata": {
    "collapsed": true
   },
   "outputs": [],
   "source": [
    "import pandas as pd\n",
    "import numpy as np\n",
    "\n",
    "from sklearn.pipeline import make_pipeline, Pipeline\n",
    "from sklearn.preprocessing import StandardScaler, OneHotEncoder, LabelEncoder\n",
    "from sklearn.pipeline import FeatureUnion\n",
    "from sklearn.base import BaseEstimator, TransformerMixin\n",
    "from sklearn.model_selection import train_test_split, GridSearchCV\n",
    "from sklearn.ensemble import RandomForestClassifier\n",
    "from sklearn.metrics import f1_score\n",
    "\n",
    "from lime.lime_tabular import LimeTabularExplainer\n",
    "\n",
    "pd.set_option('display.max_columns', None)"
   ]
  },
  {
   "cell_type": "code",
   "execution_count": 2,
   "metadata": {
    "collapsed": true
   },
   "outputs": [],
   "source": [
    "# Class to help select categorical vs. continuous data as part of the pipeline (see below)\n",
    "class DataSelector(BaseEstimator, TransformerMixin):\n",
    "    '''Select columns of numpy arrays based on attribute_indices.'''\n",
    "\n",
    "    def __init__(self, attribute_indices):\n",
    "        self.attribute_indices = attribute_indices\n",
    "\n",
    "    def fit(self, X, y=None):\n",
    "        return self\n",
    "\n",
    "    def transform(self, X):\n",
    "        return np.array(X)[:,self.attribute_indices]"
   ]
  },
  {
   "cell_type": "code",
   "execution_count": 3,
   "metadata": {
    "collapsed": true
   },
   "outputs": [],
   "source": [
    "# Load (preprocessed) data\n",
    "# \n",
    "# The raw data was downloaded from https://data.stanford.edu/hcmst and preprocessed.\n",
    "# We combined data sets collected across several years, we transformed select variables \n",
    "# (e.g., partner_education to be at the same level of granularity as education),\n",
    "# and added variables like the absolute age difference, education difference, etc.\n",
    "# Finally, we determined whether couples were still together (i.e., our labels).\n",
    "#\n",
    "# We provide the preprocessed data as a csv file in the same repo as this notebook.\n",
    "\n",
    "df = pd.read_csv('couples.csv')\n",
    "\n",
    "# Order features (numeric first, categorical second) since it's convenient later\n",
    "feature_order = ['age',\n",
    "                 'partner_age',\n",
    "                 'age_diff_abs',\n",
    "                 'children',\n",
    "                 'visits_relatives',\n",
    "                 'education',\n",
    "                 'marital_status',\n",
    "                 'partner_education',\n",
    "                 'gender',\n",
    "                 'house',\n",
    "                 'income',\n",
    "                 'msa',\n",
    "                 'rent',\n",
    "                 'political',\n",
    "                 'religion',\n",
    "                 'work',\n",
    "                 'gender_older',\n",
    "                 'education_difference',\n",
    "                 'success']\n",
    "\n",
    "data = df[feature_order]\n",
    "data = data[data.house != 'boat, rv, van, etc.'] # only one data point with this value, discard\n",
    "\n",
    "labels = data.pop('success')"
   ]
  },
  {
   "cell_type": "code",
   "execution_count": 4,
   "metadata": {},
   "outputs": [
    {
     "data": {
      "text/html": [
       "<div>\n",
       "<style>\n",
       "    .dataframe thead tr:only-child th {\n",
       "        text-align: right;\n",
       "    }\n",
       "\n",
       "    .dataframe thead th {\n",
       "        text-align: left;\n",
       "    }\n",
       "\n",
       "    .dataframe tbody tr th {\n",
       "        vertical-align: top;\n",
       "    }\n",
       "</style>\n",
       "<table border=\"1\" class=\"dataframe\">\n",
       "  <thead>\n",
       "    <tr style=\"text-align: right;\">\n",
       "      <th></th>\n",
       "      <th>age</th>\n",
       "      <th>partner_age</th>\n",
       "      <th>age_diff_abs</th>\n",
       "      <th>children</th>\n",
       "      <th>visits_relatives</th>\n",
       "      <th>education</th>\n",
       "      <th>marital_status</th>\n",
       "      <th>partner_education</th>\n",
       "      <th>gender</th>\n",
       "      <th>house</th>\n",
       "      <th>income</th>\n",
       "      <th>msa</th>\n",
       "      <th>rent</th>\n",
       "      <th>political</th>\n",
       "      <th>religion</th>\n",
       "      <th>work</th>\n",
       "      <th>gender_older</th>\n",
       "      <th>education_difference</th>\n",
       "    </tr>\n",
       "  </thead>\n",
       "  <tbody>\n",
       "    <tr>\n",
       "      <th>0</th>\n",
       "      <td>52</td>\n",
       "      <td>48</td>\n",
       "      <td>4</td>\n",
       "      <td>0.0</td>\n",
       "      <td>0</td>\n",
       "      <td>bachelor's degree or higher</td>\n",
       "      <td>living with partner</td>\n",
       "      <td>some college</td>\n",
       "      <td>female</td>\n",
       "      <td>a building with 2 or more apartments</td>\n",
       "      <td>$20,000 to $24,999</td>\n",
       "      <td>metro</td>\n",
       "      <td>rented for cash</td>\n",
       "      <td>democrat</td>\n",
       "      <td>catholic</td>\n",
       "      <td>working - as a paid employee</td>\n",
       "      <td>1</td>\n",
       "      <td>1</td>\n",
       "    </tr>\n",
       "    <tr>\n",
       "      <th>1</th>\n",
       "      <td>28</td>\n",
       "      <td>30</td>\n",
       "      <td>2</td>\n",
       "      <td>0.0</td>\n",
       "      <td>0</td>\n",
       "      <td>bachelor's degree or higher</td>\n",
       "      <td>living with partner</td>\n",
       "      <td>bachelor's degree or higher</td>\n",
       "      <td>female</td>\n",
       "      <td>a building with 2 or more apartments</td>\n",
       "      <td>$40,000 to $49,999</td>\n",
       "      <td>metro</td>\n",
       "      <td>rented for cash</td>\n",
       "      <td>democrat</td>\n",
       "      <td>jewish</td>\n",
       "      <td>working - as a paid employee</td>\n",
       "      <td>0</td>\n",
       "      <td>0</td>\n",
       "    </tr>\n",
       "    <tr>\n",
       "      <th>2</th>\n",
       "      <td>31</td>\n",
       "      <td>40</td>\n",
       "      <td>9</td>\n",
       "      <td>0.0</td>\n",
       "      <td>1</td>\n",
       "      <td>some college</td>\n",
       "      <td>never married</td>\n",
       "      <td>high school</td>\n",
       "      <td>male</td>\n",
       "      <td>a building with 2 or more apartments</td>\n",
       "      <td>$40,000 to $49,999</td>\n",
       "      <td>metro</td>\n",
       "      <td>owned or being bought by you or someone in you...</td>\n",
       "      <td>democrat</td>\n",
       "      <td>other non-christian, please specify:</td>\n",
       "      <td>working - as a paid employee</td>\n",
       "      <td>1</td>\n",
       "      <td>1</td>\n",
       "    </tr>\n",
       "    <tr>\n",
       "      <th>3</th>\n",
       "      <td>53</td>\n",
       "      <td>55</td>\n",
       "      <td>2</td>\n",
       "      <td>0.0</td>\n",
       "      <td>1</td>\n",
       "      <td>bachelor's degree or higher</td>\n",
       "      <td>living with partner</td>\n",
       "      <td>bachelor's degree or higher</td>\n",
       "      <td>male</td>\n",
       "      <td>a one-family house detached from any other house</td>\n",
       "      <td>$125,000 to $149,999</td>\n",
       "      <td>metro</td>\n",
       "      <td>owned or being bought by you or someone in you...</td>\n",
       "      <td>democrat</td>\n",
       "      <td>protestant (e.g., methodist, lutheran, presbyt...</td>\n",
       "      <td>working - as a paid employee</td>\n",
       "      <td>1</td>\n",
       "      <td>0</td>\n",
       "    </tr>\n",
       "    <tr>\n",
       "      <th>4</th>\n",
       "      <td>58</td>\n",
       "      <td>51</td>\n",
       "      <td>7</td>\n",
       "      <td>0.0</td>\n",
       "      <td>0</td>\n",
       "      <td>bachelor's degree or higher</td>\n",
       "      <td>separated</td>\n",
       "      <td>bachelor's degree or higher</td>\n",
       "      <td>male</td>\n",
       "      <td>a building with 2 or more apartments</td>\n",
       "      <td>$15,000 to $19,999</td>\n",
       "      <td>metro</td>\n",
       "      <td>rented for cash</td>\n",
       "      <td>democrat</td>\n",
       "      <td>protestant (e.g., methodist, lutheran, presbyt...</td>\n",
       "      <td>working - as a paid employee</td>\n",
       "      <td>0</td>\n",
       "      <td>0</td>\n",
       "    </tr>\n",
       "  </tbody>\n",
       "</table>\n",
       "</div>"
      ],
      "text/plain": [
       "   age  partner_age  age_diff_abs  children  visits_relatives  \\\n",
       "0   52           48             4       0.0                 0   \n",
       "1   28           30             2       0.0                 0   \n",
       "2   31           40             9       0.0                 1   \n",
       "3   53           55             2       0.0                 1   \n",
       "4   58           51             7       0.0                 0   \n",
       "\n",
       "                     education       marital_status  \\\n",
       "0  bachelor's degree or higher  living with partner   \n",
       "1  bachelor's degree or higher  living with partner   \n",
       "2                 some college        never married   \n",
       "3  bachelor's degree or higher  living with partner   \n",
       "4  bachelor's degree or higher            separated   \n",
       "\n",
       "             partner_education  gender  \\\n",
       "0                 some college  female   \n",
       "1  bachelor's degree or higher  female   \n",
       "2                  high school    male   \n",
       "3  bachelor's degree or higher    male   \n",
       "4  bachelor's degree or higher    male   \n",
       "\n",
       "                                              house                income  \\\n",
       "0              a building with 2 or more apartments    $20,000 to $24,999   \n",
       "1              a building with 2 or more apartments    $40,000 to $49,999   \n",
       "2              a building with 2 or more apartments    $40,000 to $49,999   \n",
       "3  a one-family house detached from any other house  $125,000 to $149,999   \n",
       "4              a building with 2 or more apartments    $15,000 to $19,999   \n",
       "\n",
       "     msa                                               rent political  \\\n",
       "0  metro                                    rented for cash  democrat   \n",
       "1  metro                                    rented for cash  democrat   \n",
       "2  metro  owned or being bought by you or someone in you...  democrat   \n",
       "3  metro  owned or being bought by you or someone in you...  democrat   \n",
       "4  metro                                    rented for cash  democrat   \n",
       "\n",
       "                                            religion  \\\n",
       "0                                           catholic   \n",
       "1                                             jewish   \n",
       "2               other non-christian, please specify:   \n",
       "3  protestant (e.g., methodist, lutheran, presbyt...   \n",
       "4  protestant (e.g., methodist, lutheran, presbyt...   \n",
       "\n",
       "                           work  gender_older  education_difference  \n",
       "0  working - as a paid employee             1                     1  \n",
       "1  working - as a paid employee             0                     0  \n",
       "2  working - as a paid employee             1                     1  \n",
       "3  working - as a paid employee             1                     0  \n",
       "4  working - as a paid employee             0                     0  "
      ]
     },
     "execution_count": 4,
     "metadata": {},
     "output_type": "execute_result"
    }
   ],
   "source": [
    "# Take a peak at the data\n",
    "data.head()"
   ]
  },
  {
   "cell_type": "code",
   "execution_count": 5,
   "metadata": {},
   "outputs": [
    {
     "name": "stderr",
     "output_type": "stream",
     "text": [
      "/home/tatiana/anaconda3/envs/my_projects_env/lib/python3.6/site-packages/sklearn/model_selection/_split.py:2010: FutureWarning: From version 0.21, test_size will always complement train_size unless both are specified.\n",
      "  FutureWarning)\n"
     ]
    }
   ],
   "source": [
    "# Define categorical names and indices\n",
    "categorical_features = list(data.columns[5:])\n",
    "categorical_idx = list(range(5, len(data.columns)))\n",
    "continuous_features = list(data.columns[0:5])\n",
    "continuous_idx = list(range(0,5))\n",
    "\n",
    "X = data.values\n",
    "\n",
    "# Get feature names and their values for categorical data (needed for LIME)\n",
    "categorical_names = {}\n",
    "for idx, feature in zip(categorical_idx, categorical_features):\n",
    "    le = LabelEncoder()\n",
    "    X[:, idx] = le.fit_transform(X[:, idx])\n",
    "    categorical_names[idx] = le.classes_\n",
    "\n",
    "# To suppress a warning later (not strictly necessary)\n",
    "X = X.astype(float)\n",
    "\n",
    "# Train test split\n",
    "train, test, labels_train, labels_test = train_test_split(\n",
    "    X, labels, train_size=0.70, random_state=42\n",
    ")"
   ]
  },
  {
   "cell_type": "code",
   "execution_count": 6,
   "metadata": {
    "collapsed": true
   },
   "outputs": [],
   "source": [
    "# Preprocessing pipeline\n",
    "#      \n",
    "# LIME needs a function that takes raw inputs and returns a prediction (see below).     \n",
    "# We use sklearn's pipeline to handle preprocessing, it simplifies the interaction with LIME (see below). \n",
    "# There are several ways to build this pipeline. For demo purposes, we here show the verbose option (and we\n",
    "# avoid scaling one-hot encoded features).\n",
    "\n",
    "continuous_pipeline = Pipeline([\n",
    "    ('selector', DataSelector(continuous_idx)),\n",
    "    ('scaler', StandardScaler()),\n",
    "    ])\n",
    "\n",
    "categorical_pipeline = Pipeline([\n",
    "    ('selector', DataSelector(categorical_idx)),\n",
    "    ('encoder', OneHotEncoder(sparse=False)),\n",
    "    ])\n",
    "\n",
    "preprocessing_pipeline = FeatureUnion(transformer_list=[\n",
    "    (\"continuous_pipeline\", continuous_pipeline),\n",
    "    (\"categorical_pipeline\", categorical_pipeline),\n",
    "    ])\n",
    "\n",
    "# There are less verbose alternatives, especially if we scale one-hot encoded features,\n",
    "# an accepted practice in the machine learning community:\n",
    "#\n",
    "#     preprocessing_pipeline = Pipeline([\n",
    "#        ('onehotencoder', OneHotEncoder(categorical_features=categorical_idx, sparse=False)),\n",
    "#        ('scaler', StandardScaler())\n",
    "#     ])\n",
    "#\n",
    "# Finally, instead of the low-level Pipeline constructor, we can use sklearn's makepipeline:\n",
    "#\n",
    "#     preprocessing_pipeline = make_pipeline(\n",
    "#         OneHotEncoder(categorical_features=categorical_idx, sparse=False),\n",
    "#         StandardScaler()\n",
    "#     )"
   ]
  },
  {
   "cell_type": "code",
   "execution_count": 7,
   "metadata": {},
   "outputs": [
    {
     "data": {
      "text/plain": [
       "Pipeline(memory=None,\n",
       "     steps=[('featureunion', FeatureUnion(n_jobs=1,\n",
       "       transformer_list=[('continuous_pipeline', Pipeline(memory=None,\n",
       "     steps=[('selector', DataSelector(attribute_indices=[0, 1, 2, 3, 4])), ('scaler', StandardScaler(copy=True, with_mean=True, with_std=True))])), ('categorical_pipeline', Pipeline(...*n_jobs', refit=True, return_train_score=True,\n",
       "       scoring='neg_mean_squared_error', verbose=0))])"
      ]
     },
     "execution_count": 7,
     "metadata": {},
     "output_type": "execute_result"
    }
   ],
   "source": [
    "# Set up the model and GridSearch for random forest hyperparameter tuning\n",
    "param_grid = [{'n_estimators': [16, 20, 24],\n",
    "               'max_features': [4, 8, 12, 16],\n",
    "               'min_samples_split': [8, 12, 16],\n",
    "               'max_depth': [15, 20, 25]}]\n",
    "\n",
    "rf = RandomForestClassifier(class_weight='balanced')\n",
    "grid_search = GridSearchCV(rf, param_grid, cv=5, scoring='neg_mean_squared_error')\n",
    "\n",
    "# Extend the preprocessing pipeline to include random forest and grid search\n",
    "pipeline = make_pipeline(preprocessing_pipeline, grid_search)\n",
    "\n",
    "# Fit the model and tune the hyperparameters\n",
    "pipeline.fit(train, labels_train)"
   ]
  },
  {
   "cell_type": "code",
   "execution_count": 8,
   "metadata": {},
   "outputs": [
    {
     "name": "stdout",
     "output_type": "stream",
     "text": [
      "{'max_depth': 15, 'max_features': 8, 'min_samples_split': 8, 'n_estimators': 20}\n"
     ]
    }
   ],
   "source": [
    "# Hyperparameters found by GridSearchCV\n",
    "print(pipeline.named_steps['gridsearchcv'].best_params_)"
   ]
  },
  {
   "cell_type": "code",
   "execution_count": 9,
   "metadata": {},
   "outputs": [
    {
     "name": "stdout",
     "output_type": "stream",
     "text": [
      "F1 on train: 0.954223081883\n",
      "F1 on test: 0.88790560472\n"
     ]
    }
   ],
   "source": [
    "# Evalute random forest classifier on training data (it overfits, small sample size)\n",
    "y_predict = pipeline.predict(train)\n",
    "f1 = f1_score(labels_train, y_predict)\n",
    "print('F1 on train:', f1)\n",
    "\n",
    "# Evalute random forest classifier on test data\n",
    "y_predict = pipeline.predict(test)\n",
    "f1 = f1_score(labels_test, y_predict)\n",
    "print('F1 on test:', f1)"
   ]
  },
  {
   "cell_type": "code",
   "execution_count": 10,
   "metadata": {},
   "outputs": [
    {
     "name": "stdout",
     "output_type": "stream",
     "text": [
      "Feature ranking:\n",
      " 1. feature age (0.206925)\n",
      " 2. feature partner_age (0.082607)\n",
      " 3. feature age_diff_abs (0.079288)\n",
      " 4. feature children (0.077086)\n",
      " 5. feature visits_relatives (0.053409)\n",
      " 6. feature education (0.049610)\n",
      " 7. feature marital_status (0.027404)\n",
      " 8. feature partner_education (0.025773)\n",
      " 9. feature gender (0.015435)\n",
      "10. feature house (0.013941)\n",
      "11. feature income (0.013286)\n",
      "12. feature msa (0.012903)\n",
      "13. feature rent (0.011771)\n",
      "14. feature political (0.011594)\n",
      "15. feature religion (0.011384)\n",
      "16. feature work (0.010117)\n",
      "17. feature gender_older (0.010090)\n",
      "18. feature education_difference (0.009903)\n"
     ]
    }
   ],
   "source": [
    "# Get feature importances of random forest model (\"global interpretability\")\n",
    "best_estimator = pipeline.named_steps['gridsearchcv'].best_estimator_\n",
    "\n",
    "importances = best_estimator.feature_importances_\n",
    "std = np.std([tree.feature_importances_ for tree in best_estimator.estimators_],\n",
    "             axis=0)\n",
    "indices = np.argsort(importances)[::-1]\n",
    "\n",
    "print(\"Feature ranking:\")\n",
    "feature_names = data.columns\n",
    "for f in range(data.shape[1]):\n",
    "    print(\"%2d. feature %s (%f)\" %\n",
    "          (f + 1, feature_names[f], importances[indices[f]]))"
   ]
  },
  {
   "cell_type": "code",
   "execution_count": null,
   "metadata": {
    "collapsed": true
   },
   "outputs": [],
   "source": []
  },
  {
   "cell_type": "code",
   "execution_count": 11,
   "metadata": {
    "collapsed": true
   },
   "outputs": [],
   "source": [
    "# Use LIME to explain individual predictions, initialize explainer object\n",
    "explainer = LimeTabularExplainer(\n",
    "    train,\n",
    "    class_names=['BrokeUp', 'StayedTogether'],\n",
    "    feature_names=list(data.columns),\n",
    "    categorical_features=categorical_idx,\n",
    "    categorical_names=categorical_names,\n",
    "    discretize_continuous=True\n",
    ")"
   ]
  },
  {
   "cell_type": "code",
   "execution_count": 14,
   "metadata": {},
   "outputs": [
    {
     "name": "stdout",
     "output_type": "stream",
     "text": [
      "Couples probability of staying together: 0.844004062532\n"
     ]
    },
    {
     "data": {
      "image/png": "[encoded data removed]",
      "text/plain": [
       "<matplotlib.figure.Figure at 0x7f7eca288978>"
      ]
     },
     "execution_count": 14,
     "metadata": {},
     "output_type": "execute_result"
    }
   ],
   "source": [
    "# Explain a prediction (\"local interpretability\"): \n",
    "# Now we see that the pipeline that takes raw data and returns the prediction \n",
    "# of the trained model now comes in conveniently.\n",
    "example = 3\n",
    "exp = explainer.explain_instance(test[example], pipeline.predict_proba, num_features=5)\n",
    "print('Couples probability of staying together:', exp.predict_proba[1])\n",
    "exp.as_pyplot_figure()"
   ]
  },
  {
   "cell_type": "code",
   "execution_count": 18,
   "metadata": {},
   "outputs": [
    {
     "name": "stdout",
     "output_type": "stream",
     "text": [
      "Couples probability of staying together: 0.665446677864\n"
     ]
    },
    {
     "data": {
      "image/png": "[encoded data removed]",
      "text/plain": [
       "<matplotlib.figure.Figure at 0x7f7ebf102358>"
      ]
     },
     "execution_count": 18,
     "metadata": {},
     "output_type": "execute_result"
    }
   ],
   "source": [
    "# Explain another prediction (\"local interpretability\"): \n",
    "example = 13\n",
    "exp = explainer.explain_instance(test[example], pipeline.predict_proba, num_features=5)\n",
    "print('Couples probability of staying together:', exp.predict_proba[1])\n",
    "exp.as_pyplot_figure()"
   ]
  },
  {
   "cell_type": "code",
   "execution_count": 14,
   "metadata": {
    "collapsed": true
   },
   "outputs": [],
   "source": [
    "# and we see differences in explaining the model's predictions."
   ]
  },
  {
   "cell_type": "code",
   "execution_count": 15,
   "metadata": {},
   "outputs": [
    {
     "name": "stdout",
     "output_type": "stream",
     "text": [
      "Couples probability of staying together: 0.73871988093\n"
     ]
    },
    {
     "data": {
      "image/png": "[encoded data removed]",
      "text/plain": [
       "<matplotlib.figure.Figure at 0x118504828>"
      ]
     },
     "execution_count": 15,
     "metadata": {},
     "output_type": "execute_result"
    }
   ],
   "source": [
    "# Using LIME for for relationship management (not advised): Current chance of relationship success.\n",
    "current = [34, 36, 2, 0, 1, 0, 1, 0, 0, 0, 18, 0, 2, 0, 8, 4, 0, 0]\n",
    "exp = explainer.explain_instance(np.array(current), pipeline.predict_proba, num_features=5)\n",
    "print('Couples probability of staying together:', exp.predict_proba[1])\n",
    "exp.as_pyplot_figure()"
   ]
  },
  {
   "cell_type": "code",
   "execution_count": 16,
   "metadata": {},
   "outputs": [
    {
     "name": "stdout",
     "output_type": "stream",
     "text": [
      "Couples probability of staying together: 0.73871988093\n"
     ]
    },
    {
     "data": {
      "image/png": "[encoded data removed]",
      "text/plain": [
       "<matplotlib.figure.Figure at 0x11112e1d0>"
      ]
     },
     "execution_count": 16,
     "metadata": {},
     "output_type": "execute_result"
    }
   ],
   "source": [
    "# Should I ask for a pay increase? It doesn't matter much.\n",
    "increase_income = [34, 36, 2, 0, 1, 0, 1, 0, 0, 0, 6, 0, 2, 0, 8, 4, 0, 0]\n",
    "exp = explainer.explain_instance(np.array(increase_income), pipeline.predict_proba, num_features=5)\n",
    "print('Couples probability of staying together:', exp.predict_proba[1])\n",
    "exp.as_pyplot_figure()"
   ]
  },
  {
   "cell_type": "code",
   "execution_count": 17,
   "metadata": {},
   "outputs": [
    {
     "name": "stdout",
     "output_type": "stream",
     "text": [
      "Couples probability of staying together: 0.767889240003\n"
     ]
    },
    {
     "data": {
      "image/png": "[encoded data removed]",
      "text/plain": [
       "<matplotlib.figure.Figure at 0x111c590b8>"
      ]
     },
     "execution_count": 17,
     "metadata": {},
     "output_type": "execute_result"
    }
   ],
   "source": [
    "# Should I buy a house? Maybe?\n",
    "buy_house = [34, 36, 2, 0, 1, 0, 1, 0, 0, 0, 6, 0, 1, 0, 8, 4, 0, 0]\n",
    "exp = explainer.explain_instance(np.array(buy_house), pipeline.predict_proba, num_features=5)\n",
    "print('Couples probability of staying together:', exp.predict_proba[1])\n",
    "exp.as_pyplot_figure()"
   ]
  },
  {
   "cell_type": "code",
   "execution_count": 18,
   "metadata": {},
   "outputs": [
    {
     "name": "stdout",
     "output_type": "stream",
     "text": [
      "Couples probability of staying together: 0.982588631027\n"
     ]
    },
    {
     "data": {
      "image/png": "[encoded data removed]",
      "text/plain": [
       "<matplotlib.figure.Figure at 0x111c595c0>"
      ]
     },
     "execution_count": 18,
     "metadata": {},
     "output_type": "execute_result"
    }
   ],
   "source": [
    "# Really, it's best to get married.\n",
    "get_married = [34, 36, 2, 0, 1, 0, 2, 0, 0, 0, 6, 0, 1, 0, 8, 4, 0, 0]\n",
    "exp = explainer.explain_instance(np.array(get_married), pipeline.predict_proba, num_features=5)\n",
    "print('Couples probability of staying together:', exp.predict_proba[1])\n",
    "exp.as_pyplot_figure()"
   ]
  },
  {
   "cell_type": "code",
   "execution_count": null,
   "metadata": {
    "collapsed": true
   },
   "outputs": [],
   "source": []
  }
 ],
 "metadata": {
  "kernelspec": {
   "display_name": "Python 3",
   "language": "python",
   "name": "python3"
  },
  "language_info": {
   "codemirror_mode": {
    "name": "ipython",
    "version": 3
   },
   "file_extension": ".py",
   "mimetype": "text/x-python",
   "name": "python",
   "nbconvert_exporter": "python",
   "pygments_lexer": "ipython3",
   "version": "3.6.2"
  }
 },
 "nbformat": 4,
 "nbformat_minor": 2
}
